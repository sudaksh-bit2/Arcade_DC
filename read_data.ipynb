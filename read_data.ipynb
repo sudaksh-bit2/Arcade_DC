{
 "cells": [
  {
   "cell_type": "code",
   "execution_count": 2,
   "id": "b23440e5",
   "metadata": {},
   "outputs": [],
   "source": [
    "import pandas as pd\n",
    "import matplotlib.pyplot as plt"
   ]
  },
  {
   "cell_type": "code",
   "execution_count": 3,
   "id": "ef191ea5",
   "metadata": {},
   "outputs": [],
   "source": [
    "pd.options.display.max_rows=1000"
   ]
  },
  {
   "cell_type": "code",
   "execution_count": 97,
   "id": "cebb7ea6",
   "metadata": {},
   "outputs": [],
   "source": [
    "accounts = pd.read_csv('account_dat.csv')\n",
    "apps=pd.read_csv('app_dat.csv')\n",
    "in_app_cont=pd.read_csv('in-app_dat.csv')\n",
    "devices=pd.read_csv('device_ref.csv')\n",
    "categories=pd.read_csv('category_ref.csv')\n",
    "trans=pd.read_csv('transaction_dat.csv')\n",
    "\n",
    "accounts.create_dt = pd.to_datetime(accounts.create_dt)\n",
    "trans.create_dt = pd.to_datetime(trans.create_dt)\n",
    "\n",
    "accounts['year_month'] = pd.to_datetime(accounts.create_dt).dt.to_period('M')\n",
    "trans['year_month'] = pd.to_datetime(trans.create_dt).dt.to_period('M')\n",
    "\n",
    "#rename vars to more logical names\n",
    "accounts=accounts.rename(columns={'create_dt':'install_dt'})\n",
    "categories=categories.rename(columns={'category_name':'app_category'})\n",
    "apps=apps.rename(columns={'content_id':'app_id'})\n",
    "in_app_cont=in_app_cont.rename(columns={'parent_app_content_id':'app_id','type':'content_type'})\n",
    "trans=trans.rename(columns={'device_id':'purchase_device_id'})\n",
    "\n",
    "# accounts['year'] = pd.to_datetime(accounts.create_dt).dt.year"
   ]
  },
  {
   "cell_type": "code",
   "execution_count": null,
   "id": "e6e42a89",
   "metadata": {},
   "outputs": [],
   "source": [
    "print(accounts.isnull().sum())\n",
    "print(trans.isnull().sum())"
   ]
  },
  {
   "cell_type": "code",
   "execution_count": 196,
   "id": "c9068807",
   "metadata": {},
   "outputs": [
    {
     "name": "stdout",
     "output_type": "stream",
     "text": [
      "(100000, 3)\n"
     ]
    },
    {
     "data": {
      "text/html": [
       "<div>\n",
       "<style scoped>\n",
       "    .dataframe tbody tr th:only-of-type {\n",
       "        vertical-align: middle;\n",
       "    }\n",
       "\n",
       "    .dataframe tbody tr th {\n",
       "        vertical-align: top;\n",
       "    }\n",
       "\n",
       "    .dataframe thead th {\n",
       "        text-align: right;\n",
       "    }\n",
       "</style>\n",
       "<table border=\"1\" class=\"dataframe\">\n",
       "  <thead>\n",
       "    <tr style=\"text-align: right;\">\n",
       "      <th></th>\n",
       "      <th>acct_id</th>\n",
       "      <th>create_dt</th>\n",
       "      <th>payment_type</th>\n",
       "    </tr>\n",
       "  </thead>\n",
       "  <tbody>\n",
       "    <tr>\n",
       "      <th>0</th>\n",
       "      <td>eb23e449d274bddb</td>\n",
       "      <td>2012-04-03</td>\n",
       "      <td>PMOF</td>\n",
       "    </tr>\n",
       "    <tr>\n",
       "      <th>1</th>\n",
       "      <td>3d60dcb8494a0d70</td>\n",
       "      <td>2009-08-31</td>\n",
       "      <td>PMOF</td>\n",
       "    </tr>\n",
       "    <tr>\n",
       "      <th>2</th>\n",
       "      <td>9b6d6fbf76504d85</td>\n",
       "      <td>2008-11-06</td>\n",
       "      <td>PMOF</td>\n",
       "    </tr>\n",
       "    <tr>\n",
       "      <th>3</th>\n",
       "      <td>343255370828b380</td>\n",
       "      <td>2012-01-03</td>\n",
       "      <td>PMOF</td>\n",
       "    </tr>\n",
       "    <tr>\n",
       "      <th>4</th>\n",
       "      <td>664e27f05189c387</td>\n",
       "      <td>2010-10-31</td>\n",
       "      <td>PMOF</td>\n",
       "    </tr>\n",
       "  </tbody>\n",
       "</table>\n",
       "</div>"
      ],
      "text/plain": [
       "            acct_id  create_dt payment_type\n",
       "0  eb23e449d274bddb 2012-04-03         PMOF\n",
       "1  3d60dcb8494a0d70 2009-08-31         PMOF\n",
       "2  9b6d6fbf76504d85 2008-11-06         PMOF\n",
       "3  343255370828b380 2012-01-03         PMOF\n",
       "4  664e27f05189c387 2010-10-31         PMOF"
      ]
     },
     "execution_count": 196,
     "metadata": {},
     "output_type": "execute_result"
    }
   ],
   "source": [
    "print(accounts.shape)\n",
    "accounts.head()"
   ]
  },
  {
   "cell_type": "code",
   "execution_count": 51,
   "id": "f8d1f6da",
   "metadata": {},
   "outputs": [
    {
     "data": {
      "text/plain": [
       "100000"
      ]
     },
     "execution_count": 51,
     "metadata": {},
     "output_type": "execute_result"
    }
   ],
   "source": [
    "accounts.acct_id.nunique()"
   ]
  },
  {
   "cell_type": "code",
   "execution_count": 7,
   "id": "cedb2c15",
   "metadata": {},
   "outputs": [
    {
     "data": {
      "text/plain": [
       "payment_type\n",
       "Free only    50000\n",
       "PMOF         50000\n",
       "Name: payment_type, dtype: int64"
      ]
     },
     "execution_count": 7,
     "metadata": {},
     "output_type": "execute_result"
    }
   ],
   "source": [
    "accounts.groupby('payment_type').payment_type.count()"
   ]
  },
  {
   "cell_type": "code",
   "execution_count": 16,
   "id": "e95c717f",
   "metadata": {},
   "outputs": [
    {
     "name": "stdout",
     "output_type": "stream",
     "text": [
      "(3607509, 6)\n"
     ]
    },
    {
     "data": {
      "text/html": [
       "<div>\n",
       "<style scoped>\n",
       "    .dataframe tbody tr th:only-of-type {\n",
       "        vertical-align: middle;\n",
       "    }\n",
       "\n",
       "    .dataframe tbody tr th {\n",
       "        vertical-align: top;\n",
       "    }\n",
       "\n",
       "    .dataframe thead th {\n",
       "        text-align: right;\n",
       "    }\n",
       "</style>\n",
       "<table border=\"1\" class=\"dataframe\">\n",
       "  <thead>\n",
       "    <tr style=\"text-align: right;\">\n",
       "      <th></th>\n",
       "      <th>create_dt</th>\n",
       "      <th>content_id</th>\n",
       "      <th>acct_id</th>\n",
       "      <th>price</th>\n",
       "      <th>device_id</th>\n",
       "      <th>year_month</th>\n",
       "    </tr>\n",
       "  </thead>\n",
       "  <tbody>\n",
       "    <tr>\n",
       "      <th>0</th>\n",
       "      <td>2016-08-28</td>\n",
       "      <td>b6cf4f33e7455df4</td>\n",
       "      <td>220574a7a6a71afa</td>\n",
       "      <td>11.99</td>\n",
       "      <td>1</td>\n",
       "      <td>2016-08</td>\n",
       "    </tr>\n",
       "    <tr>\n",
       "      <th>1</th>\n",
       "      <td>2016-09-16</td>\n",
       "      <td>71ac3e9c38ddbbba</td>\n",
       "      <td>8551f69a5015ea6a</td>\n",
       "      <td>1.99</td>\n",
       "      <td>2</td>\n",
       "      <td>2016-09</td>\n",
       "    </tr>\n",
       "    <tr>\n",
       "      <th>2</th>\n",
       "      <td>2016-08-15</td>\n",
       "      <td>776b851b916c33d1</td>\n",
       "      <td>7dedf309494a1966</td>\n",
       "      <td>0.99</td>\n",
       "      <td>2</td>\n",
       "      <td>2016-08</td>\n",
       "    </tr>\n",
       "    <tr>\n",
       "      <th>3</th>\n",
       "      <td>2016-06-17</td>\n",
       "      <td>7a47ca132a8dc695</td>\n",
       "      <td>7174a81c796dcf7e</td>\n",
       "      <td>1.99</td>\n",
       "      <td>2</td>\n",
       "      <td>2016-06</td>\n",
       "    </tr>\n",
       "    <tr>\n",
       "      <th>4</th>\n",
       "      <td>2016-06-13</td>\n",
       "      <td>30581219bc952dbb</td>\n",
       "      <td>35aaf59d64a677e7</td>\n",
       "      <td>11.99</td>\n",
       "      <td>2</td>\n",
       "      <td>2016-06</td>\n",
       "    </tr>\n",
       "  </tbody>\n",
       "</table>\n",
       "</div>"
      ],
      "text/plain": [
       "   create_dt        content_id           acct_id  price  device_id year_month\n",
       "0 2016-08-28  b6cf4f33e7455df4  220574a7a6a71afa  11.99          1    2016-08\n",
       "1 2016-09-16  71ac3e9c38ddbbba  8551f69a5015ea6a   1.99          2    2016-09\n",
       "2 2016-08-15  776b851b916c33d1  7dedf309494a1966   0.99          2    2016-08\n",
       "3 2016-06-17  7a47ca132a8dc695  7174a81c796dcf7e   1.99          2    2016-06\n",
       "4 2016-06-13  30581219bc952dbb  35aaf59d64a677e7  11.99          2    2016-06"
      ]
     },
     "execution_count": 16,
     "metadata": {},
     "output_type": "execute_result"
    }
   ],
   "source": [
    "print(trans.shape)\n",
    "trans.head()"
   ]
  },
  {
   "cell_type": "code",
   "execution_count": 21,
   "id": "548c55df",
   "metadata": {},
   "outputs": [
    {
     "data": {
      "text/plain": [
       "<AxesSubplot:xlabel='year_month'>"
      ]
     },
     "execution_count": 21,
     "metadata": {},
     "output_type": "execute_result"
    },
    {
     "data": {
      "image/png": "[encoded data removed]",
      "text/plain": [
       "<Figure size 432x288 with 1 Axes>"
      ]
     },
     "metadata": {
      "needs_background": "light"
     },
     "output_type": "display_data"
    }
   ],
   "source": [
    "trans.groupby('year_month').price.mean().plot()"
   ]
  },
  {
   "cell_type": "markdown",
   "id": "8ec314cf",
   "metadata": {},
   "source": [
    "### Map transactions to app_id and installs"
   ]
  },
  {
   "cell_type": "code",
   "execution_count": 114,
   "id": "5b70dbef",
   "metadata": {},
   "outputs": [
    {
     "data": {
      "text/plain": [
       "2913"
      ]
     },
     "execution_count": 114,
     "metadata": {},
     "output_type": "execute_result"
    }
   ],
   "source": [
    "trans.content_id.nunique()"
   ]
  },
  {
   "cell_type": "code",
   "execution_count": 50,
   "id": "badc2f87",
   "metadata": {},
   "outputs": [
    {
     "data": {
      "text/plain": [
       "30000"
      ]
     },
     "execution_count": 50,
     "metadata": {},
     "output_type": "execute_result"
    }
   ],
   "source": [
    "trans.acct_id.nunique()"
   ]
  },
  {
   "cell_type": "code",
   "execution_count": 109,
   "id": "0c31ccef",
   "metadata": {},
   "outputs": [
    {
     "data": {
      "text/html": [
       "<div>\n",
       "<style scoped>\n",
       "    .dataframe tbody tr th:only-of-type {\n",
       "        vertical-align: middle;\n",
       "    }\n",
       "\n",
       "    .dataframe tbody tr th {\n",
       "        vertical-align: top;\n",
       "    }\n",
       "\n",
       "    .dataframe thead th {\n",
       "        text-align: right;\n",
       "    }\n",
       "</style>\n",
       "<table border=\"1\" class=\"dataframe\">\n",
       "  <thead>\n",
       "    <tr style=\"text-align: right;\">\n",
       "      <th></th>\n",
       "      <th>create_dt</th>\n",
       "      <th>content_id</th>\n",
       "      <th>acct_id</th>\n",
       "      <th>price</th>\n",
       "      <th>year_month</th>\n",
       "      <th>purchase_device_name</th>\n",
       "    </tr>\n",
       "  </thead>\n",
       "  <tbody>\n",
       "    <tr>\n",
       "      <th>0</th>\n",
       "      <td>2016-08-28</td>\n",
       "      <td>b6cf4f33e7455df4</td>\n",
       "      <td>220574a7a6a71afa</td>\n",
       "      <td>11.99</td>\n",
       "      <td>2016-08</td>\n",
       "      <td>iPhone</td>\n",
       "    </tr>\n",
       "    <tr>\n",
       "      <th>1</th>\n",
       "      <td>2016-09-16</td>\n",
       "      <td>71ac3e9c38ddbbba</td>\n",
       "      <td>8551f69a5015ea6a</td>\n",
       "      <td>1.99</td>\n",
       "      <td>2016-09</td>\n",
       "      <td>iPad</td>\n",
       "    </tr>\n",
       "    <tr>\n",
       "      <th>2</th>\n",
       "      <td>2016-08-15</td>\n",
       "      <td>776b851b916c33d1</td>\n",
       "      <td>7dedf309494a1966</td>\n",
       "      <td>0.99</td>\n",
       "      <td>2016-08</td>\n",
       "      <td>iPad</td>\n",
       "    </tr>\n",
       "    <tr>\n",
       "      <th>3</th>\n",
       "      <td>2016-06-17</td>\n",
       "      <td>7a47ca132a8dc695</td>\n",
       "      <td>7174a81c796dcf7e</td>\n",
       "      <td>1.99</td>\n",
       "      <td>2016-06</td>\n",
       "      <td>iPad</td>\n",
       "    </tr>\n",
       "    <tr>\n",
       "      <th>4</th>\n",
       "      <td>2016-06-13</td>\n",
       "      <td>30581219bc952dbb</td>\n",
       "      <td>35aaf59d64a677e7</td>\n",
       "      <td>11.99</td>\n",
       "      <td>2016-06</td>\n",
       "      <td>iPad</td>\n",
       "    </tr>\n",
       "  </tbody>\n",
       "</table>\n",
       "</div>"
      ],
      "text/plain": [
       "   create_dt        content_id           acct_id  price year_month  \\\n",
       "0 2016-08-28  b6cf4f33e7455df4  220574a7a6a71afa  11.99    2016-08   \n",
       "1 2016-09-16  71ac3e9c38ddbbba  8551f69a5015ea6a   1.99    2016-09   \n",
       "2 2016-08-15  776b851b916c33d1  7dedf309494a1966   0.99    2016-08   \n",
       "3 2016-06-17  7a47ca132a8dc695  7174a81c796dcf7e   1.99    2016-06   \n",
       "4 2016-06-13  30581219bc952dbb  35aaf59d64a677e7  11.99    2016-06   \n",
       "\n",
       "  purchase_device_name  \n",
       "0               iPhone  \n",
       "1                 iPad  \n",
       "2                 iPad  \n",
       "3                 iPad  \n",
       "4                 iPad  "
      ]
     },
     "execution_count": 109,
     "metadata": {},
     "output_type": "execute_result"
    }
   ],
   "source": [
    "trans_dev=pd.merge(trans,devices,left_on='purchase_device_id',right_on='device_id',how='left')\\\n",
    ".drop(['device_id','purchase_device_id'],axis=1)\\\n",
    ".rename(columns={'device_name':'purchase_device_name'})\n",
    "\n",
    "trans_dev.head()"
   ]
  },
  {
   "cell_type": "code",
   "execution_count": 116,
   "id": "8fd09e2a",
   "metadata": {},
   "outputs": [
    {
     "name": "stdout",
     "output_type": "stream",
     "text": [
      "2913\n",
      "2376\n"
     ]
    }
   ],
   "source": [
    "print(trans.content_id.nunique())\n",
    "print(in_app_cont.content_id.nunique())"
   ]
  },
  {
   "cell_type": "code",
   "execution_count": 122,
   "id": "2d608d03",
   "metadata": {},
   "outputs": [
    {
     "data": {
      "text/plain": [
       "2376"
      ]
     },
     "execution_count": 122,
     "metadata": {},
     "output_type": "execute_result"
    }
   ],
   "source": [
    "trans_content_ids=set(trans.content_id.unique())\n",
    "app_dat_content_ids=set(in_app_cont.content_id.unique())\n",
    "len(trans_content_ids & app_dat_content_ids)"
   ]
  },
  {
   "cell_type": "code",
   "execution_count": 127,
   "id": "bcc19517",
   "metadata": {},
   "outputs": [
    {
     "data": {
      "text/plain": [
       "537"
      ]
     },
     "execution_count": 127,
     "metadata": {},
     "output_type": "execute_result"
    }
   ],
   "source": [
    "2913-2376"
   ]
  },
  {
   "cell_type": "code",
   "execution_count": 13,
   "id": "ea537b86",
   "metadata": {},
   "outputs": [
    {
     "name": "stdout",
     "output_type": "stream",
     "text": [
      "(3607509, 6)\n"
     ]
    }
   ],
   "source": [
    "print(trans.shape)\n"
   ]
  },
  {
   "cell_type": "code",
   "execution_count": 78,
   "id": "47cda6c3",
   "metadata": {},
   "outputs": [
    {
     "name": "stdout",
     "output_type": "stream",
     "text": [
      "(2376, 3)\n"
     ]
    },
    {
     "data": {
      "text/html": [
       "<div>\n",
       "<style scoped>\n",
       "    .dataframe tbody tr th:only-of-type {\n",
       "        vertical-align: middle;\n",
       "    }\n",
       "\n",
       "    .dataframe tbody tr th {\n",
       "        vertical-align: top;\n",
       "    }\n",
       "\n",
       "    .dataframe thead th {\n",
       "        text-align: right;\n",
       "    }\n",
       "</style>\n",
       "<table border=\"1\" class=\"dataframe\">\n",
       "  <thead>\n",
       "    <tr style=\"text-align: right;\">\n",
       "      <th></th>\n",
       "      <th>app_id</th>\n",
       "      <th>content_id</th>\n",
       "      <th>content_type</th>\n",
       "    </tr>\n",
       "  </thead>\n",
       "  <tbody>\n",
       "    <tr>\n",
       "      <th>0</th>\n",
       "      <td>d2bde35599e0dae9</td>\n",
       "      <td>227227a77c59809b</td>\n",
       "      <td>consumable</td>\n",
       "    </tr>\n",
       "    <tr>\n",
       "      <th>1</th>\n",
       "      <td>d2bde35599e0dae9</td>\n",
       "      <td>41ac2362a2600185</td>\n",
       "      <td>consumable</td>\n",
       "    </tr>\n",
       "    <tr>\n",
       "      <th>2</th>\n",
       "      <td>d2bde35599e0dae9</td>\n",
       "      <td>64a8e16f030bb611</td>\n",
       "      <td>consumable</td>\n",
       "    </tr>\n",
       "    <tr>\n",
       "      <th>3</th>\n",
       "      <td>d2bde35599e0dae9</td>\n",
       "      <td>2c8ba424183afa7c</td>\n",
       "      <td>consumable</td>\n",
       "    </tr>\n",
       "    <tr>\n",
       "      <th>4</th>\n",
       "      <td>d2bde35599e0dae9</td>\n",
       "      <td>b4c42fa5cc420f7b</td>\n",
       "      <td>consumable</td>\n",
       "    </tr>\n",
       "  </tbody>\n",
       "</table>\n",
       "</div>"
      ],
      "text/plain": [
       "             app_id        content_id content_type\n",
       "0  d2bde35599e0dae9  227227a77c59809b   consumable\n",
       "1  d2bde35599e0dae9  41ac2362a2600185   consumable\n",
       "2  d2bde35599e0dae9  64a8e16f030bb611   consumable\n",
       "3  d2bde35599e0dae9  2c8ba424183afa7c   consumable\n",
       "4  d2bde35599e0dae9  b4c42fa5cc420f7b   consumable"
      ]
     },
     "execution_count": 78,
     "metadata": {},
     "output_type": "execute_result"
    }
   ],
   "source": [
    "print(in_app_cont.shape)\n",
    "in_app_cont.head()"
   ]
  },
  {
   "cell_type": "code",
   "execution_count": 81,
   "id": "4f282438",
   "metadata": {},
   "outputs": [
    {
     "data": {
      "text/plain": [
       "content_type\n",
       "consumable      2107\n",
       "subscription     269\n",
       "Name: content_type, dtype: int64"
      ]
     },
     "execution_count": 81,
     "metadata": {},
     "output_type": "execute_result"
    }
   ],
   "source": [
    "in_app_cont.groupby('content_type').content_type.count()"
   ]
  },
  {
   "cell_type": "code",
   "execution_count": 84,
   "id": "daed6578",
   "metadata": {},
   "outputs": [
    {
     "data": {
      "text/plain": [
       "476"
      ]
     },
     "execution_count": 84,
     "metadata": {},
     "output_type": "execute_result"
    }
   ],
   "source": [
    "in_app_cont.app_id.nunique()"
   ]
  },
  {
   "cell_type": "code",
   "execution_count": 85,
   "id": "c93a2f92",
   "metadata": {},
   "outputs": [
    {
     "data": {
      "text/plain": [
       "2376"
      ]
     },
     "execution_count": 85,
     "metadata": {},
     "output_type": "execute_result"
    }
   ],
   "source": [
    "in_app_cont.content_id.nunique()"
   ]
  },
  {
   "cell_type": "code",
   "execution_count": 56,
   "id": "ab038d71",
   "metadata": {},
   "outputs": [
    {
     "data": {
      "text/html": [
       "<div>\n",
       "<style scoped>\n",
       "    .dataframe tbody tr th:only-of-type {\n",
       "        vertical-align: middle;\n",
       "    }\n",
       "\n",
       "    .dataframe tbody tr th {\n",
       "        vertical-align: top;\n",
       "    }\n",
       "\n",
       "    .dataframe thead th {\n",
       "        text-align: right;\n",
       "    }\n",
       "</style>\n",
       "<table border=\"1\" class=\"dataframe\">\n",
       "  <thead>\n",
       "    <tr style=\"text-align: right;\">\n",
       "      <th></th>\n",
       "      <th>app_category</th>\n",
       "      <th>category_id</th>\n",
       "    </tr>\n",
       "  </thead>\n",
       "  <tbody>\n",
       "    <tr>\n",
       "      <th>0</th>\n",
       "      <td>Games</td>\n",
       "      <td>Z-1</td>\n",
       "    </tr>\n",
       "    <tr>\n",
       "      <th>1</th>\n",
       "      <td>Social Networking</td>\n",
       "      <td>Q-5</td>\n",
       "    </tr>\n",
       "    <tr>\n",
       "      <th>2</th>\n",
       "      <td>Utilities</td>\n",
       "      <td>M-7</td>\n",
       "    </tr>\n",
       "    <tr>\n",
       "      <th>3</th>\n",
       "      <td>Entertainment</td>\n",
       "      <td>Q-1</td>\n",
       "    </tr>\n",
       "    <tr>\n",
       "      <th>4</th>\n",
       "      <td>Photos &amp; Videos</td>\n",
       "      <td>Y-8</td>\n",
       "    </tr>\n",
       "  </tbody>\n",
       "</table>\n",
       "</div>"
      ],
      "text/plain": [
       "        app_category category_id\n",
       "0              Games         Z-1\n",
       "1  Social Networking         Q-5\n",
       "2          Utilities         M-7\n",
       "3      Entertainment         Q-1\n",
       "4    Photos & Videos         Y-8"
      ]
     },
     "execution_count": 56,
     "metadata": {},
     "output_type": "execute_result"
    }
   ],
   "source": [
    "categories"
   ]
  },
  {
   "cell_type": "code",
   "execution_count": 197,
   "id": "691e70de",
   "metadata": {},
   "outputs": [
    {
     "data": {
      "text/html": [
       "<div>\n",
       "<style scoped>\n",
       "    .dataframe tbody tr th:only-of-type {\n",
       "        vertical-align: middle;\n",
       "    }\n",
       "\n",
       "    .dataframe tbody tr th {\n",
       "        vertical-align: top;\n",
       "    }\n",
       "\n",
       "    .dataframe thead th {\n",
       "        text-align: right;\n",
       "    }\n",
       "</style>\n",
       "<table border=\"1\" class=\"dataframe\">\n",
       "  <thead>\n",
       "    <tr style=\"text-align: right;\">\n",
       "      <th></th>\n",
       "      <th>device_name</th>\n",
       "      <th>device_id</th>\n",
       "    </tr>\n",
       "  </thead>\n",
       "  <tbody>\n",
       "    <tr>\n",
       "      <th>0</th>\n",
       "      <td>iPhone</td>\n",
       "      <td>1</td>\n",
       "    </tr>\n",
       "    <tr>\n",
       "      <th>1</th>\n",
       "      <td>iPad</td>\n",
       "      <td>2</td>\n",
       "    </tr>\n",
       "    <tr>\n",
       "      <th>2</th>\n",
       "      <td>Both</td>\n",
       "      <td>3</td>\n",
       "    </tr>\n",
       "  </tbody>\n",
       "</table>\n",
       "</div>"
      ],
      "text/plain": [
       "  device_name  device_id\n",
       "0      iPhone          1\n",
       "1        iPad          2\n",
       "2        Both          3"
      ]
     },
     "execution_count": 197,
     "metadata": {},
     "output_type": "execute_result"
    }
   ],
   "source": [
    "devices"
   ]
  },
  {
   "cell_type": "code",
   "execution_count": 87,
   "id": "6db2776d",
   "metadata": {},
   "outputs": [
    {
     "name": "stdout",
     "output_type": "stream",
     "text": [
      "(1000, 4)\n"
     ]
    },
    {
     "data": {
      "text/html": [
       "<div>\n",
       "<style scoped>\n",
       "    .dataframe tbody tr th:only-of-type {\n",
       "        vertical-align: middle;\n",
       "    }\n",
       "\n",
       "    .dataframe tbody tr th {\n",
       "        vertical-align: top;\n",
       "    }\n",
       "\n",
       "    .dataframe thead th {\n",
       "        text-align: right;\n",
       "    }\n",
       "</style>\n",
       "<table border=\"1\" class=\"dataframe\">\n",
       "  <thead>\n",
       "    <tr style=\"text-align: right;\">\n",
       "      <th></th>\n",
       "      <th>app_name</th>\n",
       "      <th>app_id</th>\n",
       "      <th>category_id</th>\n",
       "      <th>device_id</th>\n",
       "    </tr>\n",
       "  </thead>\n",
       "  <tbody>\n",
       "    <tr>\n",
       "      <th>0</th>\n",
       "      <td>half-slouched having</td>\n",
       "      <td>22dfac9721b899cb</td>\n",
       "      <td>Y-8</td>\n",
       "      <td>3</td>\n",
       "    </tr>\n",
       "    <tr>\n",
       "      <th>1</th>\n",
       "      <td>lift whale-ships</td>\n",
       "      <td>7c645810cd7f166e</td>\n",
       "      <td>M-7</td>\n",
       "      <td>3</td>\n",
       "    </tr>\n",
       "    <tr>\n",
       "      <th>2</th>\n",
       "      <td>mightily community</td>\n",
       "      <td>c495bcb878faffaa</td>\n",
       "      <td>Y-8</td>\n",
       "      <td>2</td>\n",
       "    </tr>\n",
       "    <tr>\n",
       "      <th>3</th>\n",
       "      <td>session: too--shall</td>\n",
       "      <td>4e683dcd461cdd22</td>\n",
       "      <td>Y-8</td>\n",
       "      <td>1</td>\n",
       "    </tr>\n",
       "    <tr>\n",
       "      <th>4</th>\n",
       "      <td>That Zoology</td>\n",
       "      <td>6473dd29a2badbf1</td>\n",
       "      <td>Y-8</td>\n",
       "      <td>3</td>\n",
       "    </tr>\n",
       "  </tbody>\n",
       "</table>\n",
       "</div>"
      ],
      "text/plain": [
       "               app_name            app_id category_id  device_id\n",
       "0  half-slouched having  22dfac9721b899cb         Y-8          3\n",
       "1      lift whale-ships  7c645810cd7f166e         M-7          3\n",
       "2    mightily community  c495bcb878faffaa         Y-8          2\n",
       "3   session: too--shall  4e683dcd461cdd22         Y-8          1\n",
       "4          That Zoology  6473dd29a2badbf1         Y-8          3"
      ]
     },
     "execution_count": 87,
     "metadata": {},
     "output_type": "execute_result"
    }
   ],
   "source": [
    "print(apps.shape)\n",
    "apps.head()"
   ]
  },
  {
   "cell_type": "code",
   "execution_count": 88,
   "id": "53685cb8",
   "metadata": {},
   "outputs": [
    {
     "data": {
      "text/plain": [
       "1000"
      ]
     },
     "execution_count": 88,
     "metadata": {},
     "output_type": "execute_result"
    }
   ],
   "source": [
    "apps.app_id.nunique()"
   ]
  },
  {
   "cell_type": "code",
   "execution_count": 76,
   "id": "d5933c2e",
   "metadata": {},
   "outputs": [
    {
     "name": "stdout",
     "output_type": "stream",
     "text": [
      "apps_shape: (1000, 4)\n",
      "app_categ_shape: (1000, 4)\n",
      "app_categ_dev_shape: (1000, 4)\n",
      "app_master_shape: (2900, 6)\n"
     ]
    },
    {
     "data": {
      "text/html": [
       "<div>\n",
       "<style scoped>\n",
       "    .dataframe tbody tr th:only-of-type {\n",
       "        vertical-align: middle;\n",
       "    }\n",
       "\n",
       "    .dataframe tbody tr th {\n",
       "        vertical-align: top;\n",
       "    }\n",
       "\n",
       "    .dataframe thead th {\n",
       "        text-align: right;\n",
       "    }\n",
       "</style>\n",
       "<table border=\"1\" class=\"dataframe\">\n",
       "  <thead>\n",
       "    <tr style=\"text-align: right;\">\n",
       "      <th></th>\n",
       "      <th>app_name</th>\n",
       "      <th>app_id</th>\n",
       "      <th>app_category</th>\n",
       "      <th>device_name</th>\n",
       "      <th>content_id</th>\n",
       "      <th>content_type</th>\n",
       "    </tr>\n",
       "  </thead>\n",
       "  <tbody>\n",
       "    <tr>\n",
       "      <th>0</th>\n",
       "      <td>half-slouched having</td>\n",
       "      <td>22dfac9721b899cb</td>\n",
       "      <td>Photos &amp; Videos</td>\n",
       "      <td>Both</td>\n",
       "      <td>f049e141e84edd84</td>\n",
       "      <td>consumable</td>\n",
       "    </tr>\n",
       "    <tr>\n",
       "      <th>1</th>\n",
       "      <td>lift whale-ships</td>\n",
       "      <td>7c645810cd7f166e</td>\n",
       "      <td>Utilities</td>\n",
       "      <td>Both</td>\n",
       "      <td>ef891bdc2d651c70</td>\n",
       "      <td>consumable</td>\n",
       "    </tr>\n",
       "    <tr>\n",
       "      <th>2</th>\n",
       "      <td>mightily community</td>\n",
       "      <td>c495bcb878faffaa</td>\n",
       "      <td>Photos &amp; Videos</td>\n",
       "      <td>iPad</td>\n",
       "      <td>107aece323e389df</td>\n",
       "      <td>consumable</td>\n",
       "    </tr>\n",
       "    <tr>\n",
       "      <th>3</th>\n",
       "      <td>mightily community</td>\n",
       "      <td>c495bcb878faffaa</td>\n",
       "      <td>Photos &amp; Videos</td>\n",
       "      <td>iPad</td>\n",
       "      <td>77389dc3f8108c77</td>\n",
       "      <td>consumable</td>\n",
       "    </tr>\n",
       "    <tr>\n",
       "      <th>4</th>\n",
       "      <td>session: too--shall</td>\n",
       "      <td>4e683dcd461cdd22</td>\n",
       "      <td>Photos &amp; Videos</td>\n",
       "      <td>iPhone</td>\n",
       "      <td>abfa638eb85a98f3</td>\n",
       "      <td>consumable</td>\n",
       "    </tr>\n",
       "  </tbody>\n",
       "</table>\n",
       "</div>"
      ],
      "text/plain": [
       "               app_name            app_id     app_category device_name  \\\n",
       "0  half-slouched having  22dfac9721b899cb  Photos & Videos        Both   \n",
       "1      lift whale-ships  7c645810cd7f166e        Utilities        Both   \n",
       "2    mightily community  c495bcb878faffaa  Photos & Videos        iPad   \n",
       "3    mightily community  c495bcb878faffaa  Photos & Videos        iPad   \n",
       "4   session: too--shall  4e683dcd461cdd22  Photos & Videos      iPhone   \n",
       "\n",
       "         content_id content_type  \n",
       "0  f049e141e84edd84   consumable  \n",
       "1  ef891bdc2d651c70   consumable  \n",
       "2  107aece323e389df   consumable  \n",
       "3  77389dc3f8108c77   consumable  \n",
       "4  abfa638eb85a98f3   consumable  "
      ]
     },
     "execution_count": 76,
     "metadata": {},
     "output_type": "execute_result"
    }
   ],
   "source": [
    "print(\"apps_shape: \"+str(apps.shape))\n",
    "\n",
    "app_categ=pd.merge(apps,categories,on='category_id',how='left').drop('category_id',axis=1)\n",
    "# app_categ.head()\n",
    "print(\"app_categ_shape: \"+str(app_categ.shape))\n",
    "app_categ_dev=pd.merge(app_categ,devices,on='device_id',how='left').drop('device_id',axis=1)\n",
    "print(\"app_categ_dev_shape: \"+str(app_categ_dev.shape))\n",
    "app_categ_dev.head()\n",
    "app_master=pd.merge(app_categ_dev,in_app_cont,on='app_id',how='left')\n",
    "print(\"app_master_shape: \"+str(app_master.shape))\n",
    "app_master.head()"
   ]
  },
  {
   "cell_type": "code",
   "execution_count": 94,
   "id": "5ed2d33b",
   "metadata": {},
   "outputs": [
    {
     "data": {
      "text/plain": [
       "524"
      ]
     },
     "execution_count": 94,
     "metadata": {},
     "output_type": "execute_result"
    }
   ],
   "source": [
    "app_master.content_id.isnull().sum()"
   ]
  },
  {
   "cell_type": "code",
   "execution_count": 95,
   "id": "d8dd57c4",
   "metadata": {},
   "outputs": [
    {
     "data": {
      "text/plain": [
       "app_name          0\n",
       "app_id            0\n",
       "app_category      0\n",
       "device_name       0\n",
       "content_id      524\n",
       "content_type    524\n",
       "dtype: int64"
      ]
     },
     "execution_count": 95,
     "metadata": {},
     "output_type": "execute_result"
    }
   ],
   "source": [
    "app_master.isnull().sum()"
   ]
  },
  {
   "cell_type": "code",
   "execution_count": 110,
   "id": "166b9b5d",
   "metadata": {},
   "outputs": [
    {
     "data": {
      "text/html": [
       "<div>\n",
       "<style scoped>\n",
       "    .dataframe tbody tr th:only-of-type {\n",
       "        vertical-align: middle;\n",
       "    }\n",
       "\n",
       "    .dataframe tbody tr th {\n",
       "        vertical-align: top;\n",
       "    }\n",
       "\n",
       "    .dataframe thead th {\n",
       "        text-align: right;\n",
       "    }\n",
       "</style>\n",
       "<table border=\"1\" class=\"dataframe\">\n",
       "  <thead>\n",
       "    <tr style=\"text-align: right;\">\n",
       "      <th></th>\n",
       "      <th>create_dt</th>\n",
       "      <th>content_id</th>\n",
       "      <th>acct_id</th>\n",
       "      <th>price</th>\n",
       "      <th>year_month</th>\n",
       "      <th>purchase_device_name</th>\n",
       "      <th>app_name</th>\n",
       "      <th>app_id</th>\n",
       "      <th>app_category</th>\n",
       "      <th>device_name</th>\n",
       "      <th>content_type</th>\n",
       "    </tr>\n",
       "  </thead>\n",
       "  <tbody>\n",
       "    <tr>\n",
       "      <th>0</th>\n",
       "      <td>2016-08-28</td>\n",
       "      <td>b6cf4f33e7455df4</td>\n",
       "      <td>220574a7a6a71afa</td>\n",
       "      <td>11.99</td>\n",
       "      <td>2016-08</td>\n",
       "      <td>iPhone</td>\n",
       "      <td>events Bildad's</td>\n",
       "      <td>61cea77b9bc843d1</td>\n",
       "      <td>Utilities</td>\n",
       "      <td>Both</td>\n",
       "      <td>subscription</td>\n",
       "    </tr>\n",
       "    <tr>\n",
       "      <th>1</th>\n",
       "      <td>2016-09-16</td>\n",
       "      <td>71ac3e9c38ddbbba</td>\n",
       "      <td>8551f69a5015ea6a</td>\n",
       "      <td>1.99</td>\n",
       "      <td>2016-09</td>\n",
       "      <td>iPad</td>\n",
       "      <td>swell questionably</td>\n",
       "      <td>1f0ebd67df5846cd</td>\n",
       "      <td>Utilities</td>\n",
       "      <td>Both</td>\n",
       "      <td>consumable</td>\n",
       "    </tr>\n",
       "    <tr>\n",
       "      <th>2</th>\n",
       "      <td>2016-08-15</td>\n",
       "      <td>776b851b916c33d1</td>\n",
       "      <td>7dedf309494a1966</td>\n",
       "      <td>0.99</td>\n",
       "      <td>2016-08</td>\n",
       "      <td>iPad</td>\n",
       "      <td>supperless--my Shipmates</td>\n",
       "      <td>1383e4f2f49f0f44</td>\n",
       "      <td>Games</td>\n",
       "      <td>iPad</td>\n",
       "      <td>consumable</td>\n",
       "    </tr>\n",
       "    <tr>\n",
       "      <th>3</th>\n",
       "      <td>2016-06-17</td>\n",
       "      <td>7a47ca132a8dc695</td>\n",
       "      <td>7174a81c796dcf7e</td>\n",
       "      <td>1.99</td>\n",
       "      <td>2016-06</td>\n",
       "      <td>iPad</td>\n",
       "      <td>unwritten hungry</td>\n",
       "      <td>8590a25d4e5c249c</td>\n",
       "      <td>Games</td>\n",
       "      <td>iPad</td>\n",
       "      <td>consumable</td>\n",
       "    </tr>\n",
       "    <tr>\n",
       "      <th>4</th>\n",
       "      <td>2016-06-13</td>\n",
       "      <td>30581219bc952dbb</td>\n",
       "      <td>35aaf59d64a677e7</td>\n",
       "      <td>11.99</td>\n",
       "      <td>2016-06</td>\n",
       "      <td>iPad</td>\n",
       "      <td>Turning thanked</td>\n",
       "      <td>478e10f9248b7842</td>\n",
       "      <td>Entertainment</td>\n",
       "      <td>Both</td>\n",
       "      <td>consumable</td>\n",
       "    </tr>\n",
       "  </tbody>\n",
       "</table>\n",
       "</div>"
      ],
      "text/plain": [
       "   create_dt        content_id           acct_id  price year_month  \\\n",
       "0 2016-08-28  b6cf4f33e7455df4  220574a7a6a71afa  11.99    2016-08   \n",
       "1 2016-09-16  71ac3e9c38ddbbba  8551f69a5015ea6a   1.99    2016-09   \n",
       "2 2016-08-15  776b851b916c33d1  7dedf309494a1966   0.99    2016-08   \n",
       "3 2016-06-17  7a47ca132a8dc695  7174a81c796dcf7e   1.99    2016-06   \n",
       "4 2016-06-13  30581219bc952dbb  35aaf59d64a677e7  11.99    2016-06   \n",
       "\n",
       "  purchase_device_name                  app_name            app_id  \\\n",
       "0               iPhone           events Bildad's  61cea77b9bc843d1   \n",
       "1                 iPad        swell questionably  1f0ebd67df5846cd   \n",
       "2                 iPad  supperless--my Shipmates  1383e4f2f49f0f44   \n",
       "3                 iPad          unwritten hungry  8590a25d4e5c249c   \n",
       "4                 iPad           Turning thanked  478e10f9248b7842   \n",
       "\n",
       "    app_category device_name  content_type  \n",
       "0      Utilities        Both  subscription  \n",
       "1      Utilities        Both    consumable  \n",
       "2          Games        iPad    consumable  \n",
       "3          Games        iPad    consumable  \n",
       "4  Entertainment        Both    consumable  "
      ]
     },
     "execution_count": 110,
     "metadata": {},
     "output_type": "execute_result"
    }
   ],
   "source": [
    "trans_master = pd.merge(trans_dev,app_master,on='content_id',how='left')\n",
    "trans_master.head()"
   ]
  },
  {
   "cell_type": "code",
   "execution_count": 130,
   "id": "c2789b0a",
   "metadata": {},
   "outputs": [
    {
     "name": "stdout",
     "output_type": "stream",
     "text": [
      "trans_shape: (3607509, 6)\n",
      "trans_master_shape: (3607509, 11)\n"
     ]
    },
    {
     "data": {
      "text/plain": [
       "create_dt                     0\n",
       "content_id                    0\n",
       "acct_id                       0\n",
       "price                         0\n",
       "year_month                    0\n",
       "purchase_device_name          0\n",
       "app_name                1594364\n",
       "app_id                  1594364\n",
       "app_category            1594364\n",
       "device_name             1594364\n",
       "content_type            1594364\n",
       "dtype: int64"
      ]
     },
     "execution_count": 130,
     "metadata": {},
     "output_type": "execute_result"
    }
   ],
   "source": [
    "print(\"trans_shape: \"+str(trans_dev.shape))\n",
    "print(\"trans_master_shape: \"+str(trans_master.shape))\n",
    "trans_master.isnull().sum()"
   ]
  },
  {
   "cell_type": "code",
   "execution_count": 126,
   "id": "faac35e6",
   "metadata": {},
   "outputs": [
    {
     "data": {
      "text/plain": [
       "537"
      ]
     },
     "execution_count": 126,
     "metadata": {},
     "output_type": "execute_result"
    }
   ],
   "source": [
    "len(trans_master.content_id[trans_master.app_id.isnull()].unique())"
   ]
  },
  {
   "cell_type": "code",
   "execution_count": 132,
   "id": "ae34b4b7",
   "metadata": {},
   "outputs": [
    {
     "data": {
      "text/html": [
       "<div>\n",
       "<style scoped>\n",
       "    .dataframe tbody tr th:only-of-type {\n",
       "        vertical-align: middle;\n",
       "    }\n",
       "\n",
       "    .dataframe tbody tr th {\n",
       "        vertical-align: top;\n",
       "    }\n",
       "\n",
       "    .dataframe thead th {\n",
       "        text-align: right;\n",
       "    }\n",
       "</style>\n",
       "<table border=\"1\" class=\"dataframe\">\n",
       "  <thead>\n",
       "    <tr style=\"text-align: right;\">\n",
       "      <th></th>\n",
       "      <th>create_dt</th>\n",
       "      <th>content_id</th>\n",
       "      <th>acct_id</th>\n",
       "      <th>price</th>\n",
       "      <th>year_month</th>\n",
       "      <th>purchase_device_name</th>\n",
       "      <th>app_name</th>\n",
       "      <th>app_id</th>\n",
       "      <th>app_category</th>\n",
       "      <th>device_name</th>\n",
       "      <th>content_type</th>\n",
       "      <th>install_dt</th>\n",
       "      <th>payment_type</th>\n",
       "    </tr>\n",
       "  </thead>\n",
       "  <tbody>\n",
       "    <tr>\n",
       "      <th>0</th>\n",
       "      <td>2016-08-28</td>\n",
       "      <td>b6cf4f33e7455df4</td>\n",
       "      <td>220574a7a6a71afa</td>\n",
       "      <td>11.99</td>\n",
       "      <td>2016-08</td>\n",
       "      <td>iPhone</td>\n",
       "      <td>events Bildad's</td>\n",
       "      <td>61cea77b9bc843d1</td>\n",
       "      <td>Utilities</td>\n",
       "      <td>Both</td>\n",
       "      <td>subscription</td>\n",
       "      <td>2009-08-29</td>\n",
       "      <td>PMOF</td>\n",
       "    </tr>\n",
       "    <tr>\n",
       "      <th>1</th>\n",
       "      <td>2016-09-16</td>\n",
       "      <td>71ac3e9c38ddbbba</td>\n",
       "      <td>8551f69a5015ea6a</td>\n",
       "      <td>1.99</td>\n",
       "      <td>2016-09</td>\n",
       "      <td>iPad</td>\n",
       "      <td>swell questionably</td>\n",
       "      <td>1f0ebd67df5846cd</td>\n",
       "      <td>Utilities</td>\n",
       "      <td>Both</td>\n",
       "      <td>consumable</td>\n",
       "      <td>2011-05-28</td>\n",
       "      <td>PMOF</td>\n",
       "    </tr>\n",
       "    <tr>\n",
       "      <th>2</th>\n",
       "      <td>2016-08-15</td>\n",
       "      <td>776b851b916c33d1</td>\n",
       "      <td>7dedf309494a1966</td>\n",
       "      <td>0.99</td>\n",
       "      <td>2016-08</td>\n",
       "      <td>iPad</td>\n",
       "      <td>supperless--my Shipmates</td>\n",
       "      <td>1383e4f2f49f0f44</td>\n",
       "      <td>Games</td>\n",
       "      <td>iPad</td>\n",
       "      <td>consumable</td>\n",
       "      <td>2009-11-15</td>\n",
       "      <td>PMOF</td>\n",
       "    </tr>\n",
       "    <tr>\n",
       "      <th>3</th>\n",
       "      <td>2016-06-17</td>\n",
       "      <td>7a47ca132a8dc695</td>\n",
       "      <td>7174a81c796dcf7e</td>\n",
       "      <td>1.99</td>\n",
       "      <td>2016-06</td>\n",
       "      <td>iPad</td>\n",
       "      <td>unwritten hungry</td>\n",
       "      <td>8590a25d4e5c249c</td>\n",
       "      <td>Games</td>\n",
       "      <td>iPad</td>\n",
       "      <td>consumable</td>\n",
       "      <td>2009-03-01</td>\n",
       "      <td>PMOF</td>\n",
       "    </tr>\n",
       "    <tr>\n",
       "      <th>4</th>\n",
       "      <td>2016-06-13</td>\n",
       "      <td>30581219bc952dbb</td>\n",
       "      <td>35aaf59d64a677e7</td>\n",
       "      <td>11.99</td>\n",
       "      <td>2016-06</td>\n",
       "      <td>iPad</td>\n",
       "      <td>Turning thanked</td>\n",
       "      <td>478e10f9248b7842</td>\n",
       "      <td>Entertainment</td>\n",
       "      <td>Both</td>\n",
       "      <td>consumable</td>\n",
       "      <td>2010-10-01</td>\n",
       "      <td>PMOF</td>\n",
       "    </tr>\n",
       "  </tbody>\n",
       "</table>\n",
       "</div>"
      ],
      "text/plain": [
       "   create_dt        content_id           acct_id  price year_month  \\\n",
       "0 2016-08-28  b6cf4f33e7455df4  220574a7a6a71afa  11.99    2016-08   \n",
       "1 2016-09-16  71ac3e9c38ddbbba  8551f69a5015ea6a   1.99    2016-09   \n",
       "2 2016-08-15  776b851b916c33d1  7dedf309494a1966   0.99    2016-08   \n",
       "3 2016-06-17  7a47ca132a8dc695  7174a81c796dcf7e   1.99    2016-06   \n",
       "4 2016-06-13  30581219bc952dbb  35aaf59d64a677e7  11.99    2016-06   \n",
       "\n",
       "  purchase_device_name                  app_name            app_id  \\\n",
       "0               iPhone           events Bildad's  61cea77b9bc843d1   \n",
       "1                 iPad        swell questionably  1f0ebd67df5846cd   \n",
       "2                 iPad  supperless--my Shipmates  1383e4f2f49f0f44   \n",
       "3                 iPad          unwritten hungry  8590a25d4e5c249c   \n",
       "4                 iPad           Turning thanked  478e10f9248b7842   \n",
       "\n",
       "    app_category device_name  content_type install_dt payment_type  \n",
       "0      Utilities        Both  subscription 2009-08-29         PMOF  \n",
       "1      Utilities        Both    consumable 2011-05-28         PMOF  \n",
       "2          Games        iPad    consumable 2009-11-15         PMOF  \n",
       "3          Games        iPad    consumable 2009-03-01         PMOF  \n",
       "4  Entertainment        Both    consumable 2010-10-01         PMOF  "
      ]
     },
     "execution_count": 132,
     "metadata": {},
     "output_type": "execute_result"
    }
   ],
   "source": [
    "master = pd.merge(trans_master, accounts.drop('year_month',axis=1) , on = 'acct_id', how='left' )\n",
    "master.head()"
   ]
  },
  {
   "cell_type": "code",
   "execution_count": 134,
   "id": "8c33e74d",
   "metadata": {},
   "outputs": [
    {
     "name": "stdout",
     "output_type": "stream",
     "text": [
      "trans_master_shape: (3607509, 11)\n",
      "master_shape: (3607509, 13)\n"
     ]
    },
    {
     "data": {
      "text/plain": [
       "create_dt                     0\n",
       "content_id                    0\n",
       "acct_id                       0\n",
       "price                         0\n",
       "year_month                    0\n",
       "purchase_device_name          0\n",
       "app_name                1594364\n",
       "app_id                  1594364\n",
       "app_category            1594364\n",
       "device_name             1594364\n",
       "content_type            1594364\n",
       "install_dt                 2742\n",
       "payment_type               2742\n",
       "dtype: int64"
      ]
     },
     "execution_count": 134,
     "metadata": {},
     "output_type": "execute_result"
    }
   ],
   "source": [
    "print(\"trans_master_shape: \"+str(trans_master.shape))\n",
    "print(\"master_shape: \"+str(master.shape))\n",
    "master.isnull().sum()"
   ]
  }
 ],
 "metadata": {
  "kernelspec": {
   "display_name": "Python 3 (ipykernel)",
   "language": "python",
   "name": "python3"
  },
  "language_info": {
   "codemirror_mode": {
    "name": "ipython",
    "version": 3
   },
   "file_extension": ".py",
   "mimetype": "text/x-python",
   "name": "python",
   "nbconvert_exporter": "python",
   "pygments_lexer": "ipython3",
   "version": "3.9.7"
  }
 },
 "nbformat": 4,
 "nbformat_minor": 5
}
