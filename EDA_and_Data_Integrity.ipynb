{
 "cells": [
  {
   "cell_type": "code",
   "execution_count": 405,
   "id": "85cd06eb",
   "metadata": {},
   "outputs": [],
   "source": [
    "import pandas as pd\n",
    "import numpy as np\n",
    "import matplotlib.pyplot as plt\n",
    "import matplotlib as mpl\n",
    "import matplotlib.dates as mdates"
   ]
  },
  {
   "cell_type": "markdown",
   "id": "cfa4a19d",
   "metadata": {},
   "source": [
    "## Reading in Data and housekeeping"
   ]
  },
  {
   "cell_type": "code",
   "execution_count": 9,
   "id": "281bfe6e",
   "metadata": {},
   "outputs": [],
   "source": [
    "accounts = pd.read_csv('account_dat.csv')\n",
    "apps=pd.read_csv('app_dat.csv')\n",
    "in_app_cont=pd.read_csv('in-app_dat.csv')\n",
    "devices=pd.read_csv('device_ref.csv')\n",
    "categories=pd.read_csv('category_ref.csv')\n",
    "trans=pd.read_csv('transaction_dat.csv')\n",
    "\n",
    "accounts.create_dt = pd.to_datetime(accounts.create_dt)\n",
    "trans.create_dt = pd.to_datetime(trans.create_dt)\n",
    "\n",
    "# Create year_month to analyze trends across time\n",
    "accounts['year_mon_account'] = pd.to_datetime(accounts.create_dt).dt.to_period('M')\n",
    "trans['year_mon_trans'] = pd.to_datetime(trans.create_dt).dt.to_period('M')\n",
    "\n",
    "#rename vars to more logical names\n",
    "accounts=accounts.rename(columns={'create_dt':'act_create_dt'})\n",
    "categories=categories.rename(columns={'category_name':'app_category'})\n",
    "apps=apps.rename(columns={'content_id':'app_id'})\n",
    "in_app_cont=in_app_cont.rename(columns={'parent_app_content_id':'app_id','type':'content_type'})\n",
    "trans=trans.rename(columns={'device_id':'purchase_device_id', 'create_dt':'trans_dt'})"
   ]
  },
  {
   "cell_type": "markdown",
   "id": "d87e730b",
   "metadata": {},
   "source": [
    "## Looking at accounts data"
   ]
  },
  {
   "cell_type": "code",
   "execution_count": 10,
   "id": "c0054ca9",
   "metadata": {},
   "outputs": [
    {
     "data": {
      "text/html": [
       "<div>\n",
       "<style scoped>\n",
       "    .dataframe tbody tr th:only-of-type {\n",
       "        vertical-align: middle;\n",
       "    }\n",
       "\n",
       "    .dataframe tbody tr th {\n",
       "        vertical-align: top;\n",
       "    }\n",
       "\n",
       "    .dataframe thead th {\n",
       "        text-align: right;\n",
       "    }\n",
       "</style>\n",
       "<table border=\"1\" class=\"dataframe\">\n",
       "  <thead>\n",
       "    <tr style=\"text-align: right;\">\n",
       "      <th></th>\n",
       "      <th>acct_id</th>\n",
       "      <th>act_create_dt</th>\n",
       "      <th>payment_type</th>\n",
       "      <th>year_mon_account</th>\n",
       "    </tr>\n",
       "  </thead>\n",
       "  <tbody>\n",
       "    <tr>\n",
       "      <th>0</th>\n",
       "      <td>eb23e449d274bddb</td>\n",
       "      <td>2012-04-03</td>\n",
       "      <td>PMOF</td>\n",
       "      <td>2012-04</td>\n",
       "    </tr>\n",
       "    <tr>\n",
       "      <th>1</th>\n",
       "      <td>3d60dcb8494a0d70</td>\n",
       "      <td>2009-08-31</td>\n",
       "      <td>PMOF</td>\n",
       "      <td>2009-08</td>\n",
       "    </tr>\n",
       "    <tr>\n",
       "      <th>2</th>\n",
       "      <td>9b6d6fbf76504d85</td>\n",
       "      <td>2008-11-06</td>\n",
       "      <td>PMOF</td>\n",
       "      <td>2008-11</td>\n",
       "    </tr>\n",
       "    <tr>\n",
       "      <th>3</th>\n",
       "      <td>343255370828b380</td>\n",
       "      <td>2012-01-03</td>\n",
       "      <td>PMOF</td>\n",
       "      <td>2012-01</td>\n",
       "    </tr>\n",
       "    <tr>\n",
       "      <th>4</th>\n",
       "      <td>664e27f05189c387</td>\n",
       "      <td>2010-10-31</td>\n",
       "      <td>PMOF</td>\n",
       "      <td>2010-10</td>\n",
       "    </tr>\n",
       "  </tbody>\n",
       "</table>\n",
       "</div>"
      ],
      "text/plain": [
       "            acct_id act_create_dt payment_type year_mon_account\n",
       "0  eb23e449d274bddb    2012-04-03         PMOF          2012-04\n",
       "1  3d60dcb8494a0d70    2009-08-31         PMOF          2009-08\n",
       "2  9b6d6fbf76504d85    2008-11-06         PMOF          2008-11\n",
       "3  343255370828b380    2012-01-03         PMOF          2012-01\n",
       "4  664e27f05189c387    2010-10-31         PMOF          2010-10"
      ]
     },
     "execution_count": 10,
     "metadata": {},
     "output_type": "execute_result"
    }
   ],
   "source": [
    "accounts.head()"
   ]
  },
  {
   "cell_type": "code",
   "execution_count": 16,
   "id": "bbacce07",
   "metadata": {},
   "outputs": [
    {
     "data": {
      "text/plain": [
       "payment_type\n",
       "Free only    50000\n",
       "PMOF         50000\n",
       "Name: acct_id, dtype: int64"
      ]
     },
     "execution_count": 16,
     "metadata": {},
     "output_type": "execute_result"
    }
   ],
   "source": [
    "accounts.groupby('payment_type').acct_id.nunique()"
   ]
  },
  {
   "cell_type": "code",
   "execution_count": 11,
   "id": "2c150098",
   "metadata": {},
   "outputs": [
    {
     "data": {
      "text/plain": [
       "<AxesSubplot:title={'center':'Accounts across Time'}, xlabel='year_mon_account'>"
      ]
     },
     "execution_count": 11,
     "metadata": {},
     "output_type": "execute_result"
    },
    {
     "data": {
      "image/png": "[encoded data removed]",
      "text/plain": [
       "<Figure size 432x288 with 1 Axes>"
      ]
     },
     "metadata": {
      "needs_background": "light"
     },
     "output_type": "display_data"
    }
   ],
   "source": [
    "accounts.groupby('year_mon_account').acct_id.count().plot(title='Accounts across Time')"
   ]
  },
  {
   "cell_type": "code",
   "execution_count": 13,
   "id": "f1089856",
   "metadata": {},
   "outputs": [
    {
     "data": {
      "image/png": "[encoded data removed]",
      "text/plain": [
       "<Figure size 720x432 with 1 Axes>"
      ]
     },
     "metadata": {
      "needs_background": "light"
     },
     "output_type": "display_data"
    }
   ],
   "source": [
    "pd.plotting.register_matplotlib_converters()\n",
    "series1_y=accounts[accounts.payment_type=='PMOF'].groupby('year_mon_account').acct_id.count().values\n",
    "series1_x=accounts[accounts.payment_type=='PMOF'].groupby('year_mon_account').acct_id.count().index.values.astype('datetime64[ns]')\n",
    "\n",
    "\n",
    "series2_y=accounts[accounts.payment_type=='Free only'].groupby('year_mon_account').acct_id.count().values\n",
    "series2_x=accounts[accounts.payment_type=='Free only'].groupby('year_mon_account').acct_id.count().index.values.astype('datetime64[ns]') \n",
    "\n",
    "fig, ax = plt.subplots(figsize=(10, 6))\n",
    "plt.plot(series1_x,series1_y, label='PMOF accounts')\n",
    "plt.plot(series2_x,series2_y, label='Free accounts')\n",
    "\n",
    "# fig, ax = plt.subplots(figsize=(10, 6))\n",
    "# ax.xaxis.set_major_formatter(mdates.DateFormatter('%Y'))\n",
    "\n",
    "plt.legend()\n",
    "plt.title('Account types across created date')\n",
    "plt.show()"
   ]
  },
  {
   "cell_type": "markdown",
   "id": "44b46319",
   "metadata": {},
   "source": [
    "### Finding\n",
    "- 100k accounts have been provided with 50k free accounts and 50k accounts with PMOF\n",
    "- Accounts with PMOF decline in 2013 and similarly free accounts start after 2013\n",
    "- This might be due to a change in option requiring PMOF to create accounts before 2013 or probably is just due to the way data is pulled"
   ]
  },
  {
   "cell_type": "markdown",
   "id": "96a80170",
   "metadata": {},
   "source": [
    "## Looking at Transactions"
   ]
  },
  {
   "cell_type": "code",
   "execution_count": 14,
   "id": "3da1b9c3",
   "metadata": {},
   "outputs": [
    {
     "data": {
      "text/html": [
       "<div>\n",
       "<style scoped>\n",
       "    .dataframe tbody tr th:only-of-type {\n",
       "        vertical-align: middle;\n",
       "    }\n",
       "\n",
       "    .dataframe tbody tr th {\n",
       "        vertical-align: top;\n",
       "    }\n",
       "\n",
       "    .dataframe thead th {\n",
       "        text-align: right;\n",
       "    }\n",
       "</style>\n",
       "<table border=\"1\" class=\"dataframe\">\n",
       "  <thead>\n",
       "    <tr style=\"text-align: right;\">\n",
       "      <th></th>\n",
       "      <th>trans_dt</th>\n",
       "      <th>content_id</th>\n",
       "      <th>acct_id</th>\n",
       "      <th>price</th>\n",
       "      <th>purchase_device_id</th>\n",
       "      <th>year_mon_trans</th>\n",
       "    </tr>\n",
       "  </thead>\n",
       "  <tbody>\n",
       "    <tr>\n",
       "      <th>0</th>\n",
       "      <td>2016-08-28</td>\n",
       "      <td>b6cf4f33e7455df4</td>\n",
       "      <td>220574a7a6a71afa</td>\n",
       "      <td>11.99</td>\n",
       "      <td>1</td>\n",
       "      <td>2016-08</td>\n",
       "    </tr>\n",
       "    <tr>\n",
       "      <th>1</th>\n",
       "      <td>2016-09-16</td>\n",
       "      <td>71ac3e9c38ddbbba</td>\n",
       "      <td>8551f69a5015ea6a</td>\n",
       "      <td>1.99</td>\n",
       "      <td>2</td>\n",
       "      <td>2016-09</td>\n",
       "    </tr>\n",
       "    <tr>\n",
       "      <th>2</th>\n",
       "      <td>2016-08-15</td>\n",
       "      <td>776b851b916c33d1</td>\n",
       "      <td>7dedf309494a1966</td>\n",
       "      <td>0.99</td>\n",
       "      <td>2</td>\n",
       "      <td>2016-08</td>\n",
       "    </tr>\n",
       "    <tr>\n",
       "      <th>3</th>\n",
       "      <td>2016-06-17</td>\n",
       "      <td>7a47ca132a8dc695</td>\n",
       "      <td>7174a81c796dcf7e</td>\n",
       "      <td>1.99</td>\n",
       "      <td>2</td>\n",
       "      <td>2016-06</td>\n",
       "    </tr>\n",
       "    <tr>\n",
       "      <th>4</th>\n",
       "      <td>2016-06-13</td>\n",
       "      <td>30581219bc952dbb</td>\n",
       "      <td>35aaf59d64a677e7</td>\n",
       "      <td>11.99</td>\n",
       "      <td>2</td>\n",
       "      <td>2016-06</td>\n",
       "    </tr>\n",
       "  </tbody>\n",
       "</table>\n",
       "</div>"
      ],
      "text/plain": [
       "    trans_dt        content_id           acct_id  price  purchase_device_id  \\\n",
       "0 2016-08-28  b6cf4f33e7455df4  220574a7a6a71afa  11.99                   1   \n",
       "1 2016-09-16  71ac3e9c38ddbbba  8551f69a5015ea6a   1.99                   2   \n",
       "2 2016-08-15  776b851b916c33d1  7dedf309494a1966   0.99                   2   \n",
       "3 2016-06-17  7a47ca132a8dc695  7174a81c796dcf7e   1.99                   2   \n",
       "4 2016-06-13  30581219bc952dbb  35aaf59d64a677e7  11.99                   2   \n",
       "\n",
       "  year_mon_trans  \n",
       "0        2016-08  \n",
       "1        2016-09  \n",
       "2        2016-08  \n",
       "3        2016-06  \n",
       "4        2016-06  "
      ]
     },
     "execution_count": 14,
     "metadata": {},
     "output_type": "execute_result"
    }
   ],
   "source": [
    "trans.head()"
   ]
  },
  {
   "cell_type": "code",
   "execution_count": 15,
   "id": "c726b321",
   "metadata": {},
   "outputs": [
    {
     "data": {
      "text/plain": [
       "<AxesSubplot:title={'center':'Transactions/Downloads across time'}, xlabel='year_mon_trans'>"
      ]
     },
     "execution_count": 15,
     "metadata": {},
     "output_type": "execute_result"
    },
    {
     "data": {
      "image/png": "[encoded data removed]",
      "text/plain": [
       "<Figure size 432x288 with 1 Axes>"
      ]
     },
     "metadata": {
      "needs_background": "light"
     },
     "output_type": "display_data"
    }
   ],
   "source": [
    "trans.groupby('year_mon_trans').price.sum().plot(title='Transactions/Downloads across time')"
   ]
  },
  {
   "cell_type": "markdown",
   "id": "3ec34f9c",
   "metadata": {},
   "source": [
    "#### Distribution of transaction $ value"
   ]
  },
  {
   "cell_type": "code",
   "execution_count": 55,
   "id": "19fdd0ff",
   "metadata": {},
   "outputs": [
    {
     "data": {
      "text/plain": [
       "<AxesSubplot:>"
      ]
     },
     "execution_count": 55,
     "metadata": {},
     "output_type": "execute_result"
    },
    {
     "data": {
      "image/png": "[encoded data removed]",
      "text/plain": [
       "<Figure size 432x288 with 1 Axes>"
      ]
     },
     "metadata": {
      "needs_background": "light"
     },
     "output_type": "display_data"
    }
   ],
   "source": [
    "trans.price.hist()"
   ]
  },
  {
   "cell_type": "code",
   "execution_count": 56,
   "id": "01b3667a",
   "metadata": {},
   "outputs": [
    {
     "data": {
      "text/plain": [
       "<AxesSubplot:>"
      ]
     },
     "execution_count": 56,
     "metadata": {},
     "output_type": "execute_result"
    },
    {
     "data": {
      "image/png": "[encoded data removed]",
      "text/plain": [
       "<Figure size 432x288 with 1 Axes>"
      ]
     },
     "metadata": {
      "needs_background": "light"
     },
     "output_type": "display_data"
    }
   ],
   "source": [
    "# Non zero transactions distribution\n",
    "trans[trans.price>0].price.hist()"
   ]
  },
  {
   "cell_type": "code",
   "execution_count": 64,
   "id": "123fd0ea",
   "metadata": {},
   "outputs": [
    {
     "name": "stdout",
     "output_type": "stream",
     "text": [
      "Percent transactions that are free: 0.36\n"
     ]
    }
   ],
   "source": [
    "# Percent zero transactions\n",
    "print('Percent transactions that are free: ' + str(round(sum(trans.price==0)/trans.shape[0],2)))"
   ]
  },
  {
   "cell_type": "markdown",
   "id": "2c9dbd89",
   "metadata": {},
   "source": [
    "#### Percent Transactions across devices"
   ]
  },
  {
   "cell_type": "code",
   "execution_count": 47,
   "id": "01088ade",
   "metadata": {},
   "outputs": [
    {
     "data": {
      "text/plain": [
       "Text(0.5, 1.0, 'Split of transactions across Devices')"
      ]
     },
     "execution_count": 47,
     "metadata": {},
     "output_type": "execute_result"
    },
    {
     "data": {
      "image/png": "[encoded data removed]",
      "text/plain": [
       "<Figure size 432x288 with 1 Axes>"
      ]
     },
     "metadata": {
      "needs_background": "light"
     },
     "output_type": "display_data"
    }
   ],
   "source": [
    "total_trans=trans.shape[0]\n",
    "y=(trans.groupby('purchase_device_id').purchase_device_id.count().values)/total_trans\n",
    "x=trans.groupby('purchase_device_id').purchase_device_id.count().index\n",
    "plt.bar(x,y)\n",
    "plt.xticks([1,2],['iPhone','iPad'])\n",
    "plt.ylabel('% Transactiosn')\n",
    "plt.title('Split of transactions across Devices')\n",
    "# print(trans.groupby('purchase_device_id').acct_id.nunique())\n",
    "# trans.acct_id.nunique()\n"
   ]
  },
  {
   "cell_type": "code",
   "execution_count": 80,
   "id": "2be4c774",
   "metadata": {},
   "outputs": [
    {
     "name": "stdout",
     "output_type": "stream",
     "text": [
      "%age transactiosn on iphone: 0.7246983999208318\n",
      "%age transactiosn on ipad: 0.2753016000791682\n"
     ]
    }
   ],
   "source": [
    "print('%age transactiosn on iphone: '+ str(y[0]))\n",
    "print('%age transactiosn on ipad: '+ str(y[1]))"
   ]
  },
  {
   "cell_type": "markdown",
   "id": "05fe0325",
   "metadata": {},
   "source": [
    "#### Accounts with tranascations/downloads across one/multiple devices"
   ]
  },
  {
   "cell_type": "code",
   "execution_count": 74,
   "id": "61534107",
   "metadata": {},
   "outputs": [
    {
     "data": {
      "text/html": [
       "<div>\n",
       "<style scoped>\n",
       "    .dataframe tbody tr th:only-of-type {\n",
       "        vertical-align: middle;\n",
       "    }\n",
       "\n",
       "    .dataframe tbody tr th {\n",
       "        vertical-align: top;\n",
       "    }\n",
       "\n",
       "    .dataframe thead th {\n",
       "        text-align: right;\n",
       "    }\n",
       "</style>\n",
       "<table border=\"1\" class=\"dataframe\">\n",
       "  <thead>\n",
       "    <tr style=\"text-align: right;\">\n",
       "      <th></th>\n",
       "      <th>acct_id</th>\n",
       "      <th>purchase_device_id</th>\n",
       "    </tr>\n",
       "  </thead>\n",
       "  <tbody>\n",
       "    <tr>\n",
       "      <th>0</th>\n",
       "      <td>00028709c8d435ff</td>\n",
       "      <td>2</td>\n",
       "    </tr>\n",
       "    <tr>\n",
       "      <th>1</th>\n",
       "      <td>0005a4d77127fde7</td>\n",
       "      <td>2</td>\n",
       "    </tr>\n",
       "    <tr>\n",
       "      <th>2</th>\n",
       "      <td>0005c296f2605c08</td>\n",
       "      <td>2</td>\n",
       "    </tr>\n",
       "    <tr>\n",
       "      <th>3</th>\n",
       "      <td>00082ad3dc50a70d</td>\n",
       "      <td>2</td>\n",
       "    </tr>\n",
       "    <tr>\n",
       "      <th>4</th>\n",
       "      <td>00085ff73786df4d</td>\n",
       "      <td>2</td>\n",
       "    </tr>\n",
       "  </tbody>\n",
       "</table>\n",
       "</div>"
      ],
      "text/plain": [
       "            acct_id  purchase_device_id\n",
       "0  00028709c8d435ff                   2\n",
       "1  0005a4d77127fde7                   2\n",
       "2  0005c296f2605c08                   2\n",
       "3  00082ad3dc50a70d                   2\n",
       "4  00085ff73786df4d                   2"
      ]
     },
     "execution_count": 74,
     "metadata": {},
     "output_type": "execute_result"
    }
   ],
   "source": [
    "acct_dev=pd.DataFrame(trans.groupby('acct_id').purchase_device_id.nunique()).reset_index()\n",
    "acct_dev.head()"
   ]
  },
  {
   "cell_type": "code",
   "execution_count": 75,
   "id": "ae267820",
   "metadata": {},
   "outputs": [
    {
     "data": {
      "text/html": [
       "<div>\n",
       "<style scoped>\n",
       "    .dataframe tbody tr th:only-of-type {\n",
       "        vertical-align: middle;\n",
       "    }\n",
       "\n",
       "    .dataframe tbody tr th {\n",
       "        vertical-align: top;\n",
       "    }\n",
       "\n",
       "    .dataframe thead th {\n",
       "        text-align: right;\n",
       "    }\n",
       "</style>\n",
       "<table border=\"1\" class=\"dataframe\">\n",
       "  <thead>\n",
       "    <tr style=\"text-align: right;\">\n",
       "      <th></th>\n",
       "      <th>acct_id</th>\n",
       "    </tr>\n",
       "    <tr>\n",
       "      <th>purchase_device_id</th>\n",
       "      <th></th>\n",
       "    </tr>\n",
       "  </thead>\n",
       "  <tbody>\n",
       "    <tr>\n",
       "      <th>2</th>\n",
       "      <td>30000</td>\n",
       "    </tr>\n",
       "  </tbody>\n",
       "</table>\n",
       "</div>"
      ],
      "text/plain": [
       "                    acct_id\n",
       "purchase_device_id         \n",
       "2                     30000"
      ]
     },
     "execution_count": 75,
     "metadata": {},
     "output_type": "execute_result"
    }
   ],
   "source": [
    "acct_dev.groupby('purchase_device_id').count()"
   ]
  },
  {
   "cell_type": "code",
   "execution_count": null,
   "id": "4dc12cee",
   "metadata": {},
   "outputs": [],
   "source": []
  },
  {
   "cell_type": "code",
   "execution_count": null,
   "id": "cca5952b",
   "metadata": {},
   "outputs": [],
   "source": []
  },
  {
   "cell_type": "markdown",
   "id": "10faf745",
   "metadata": {},
   "source": [
    "### Finding\n",
    "- Transactions/Downloads for 30k accounts has been provided\n",
    "- All transactions/downloads are between June 2016 and Sep 2016\n",
    "- Transaction/Download counts have a left skew as expected\n",
    "- Most transactions happen on iphone(72.5%) than ipad(27.5%)\n",
    "- All accounts with transactions have both iPhone and ipad"
   ]
  },
  {
   "cell_type": "markdown",
   "id": "ba1d2ed3",
   "metadata": {},
   "source": [
    "## Looking at apps"
   ]
  },
  {
   "cell_type": "code",
   "execution_count": 82,
   "id": "9cb81956",
   "metadata": {},
   "outputs": [
    {
     "data": {
      "text/html": [
       "<div>\n",
       "<style scoped>\n",
       "    .dataframe tbody tr th:only-of-type {\n",
       "        vertical-align: middle;\n",
       "    }\n",
       "\n",
       "    .dataframe tbody tr th {\n",
       "        vertical-align: top;\n",
       "    }\n",
       "\n",
       "    .dataframe thead th {\n",
       "        text-align: right;\n",
       "    }\n",
       "</style>\n",
       "<table border=\"1\" class=\"dataframe\">\n",
       "  <thead>\n",
       "    <tr style=\"text-align: right;\">\n",
       "      <th></th>\n",
       "      <th>app_name</th>\n",
       "      <th>app_id</th>\n",
       "      <th>category_id</th>\n",
       "      <th>device_id</th>\n",
       "    </tr>\n",
       "  </thead>\n",
       "  <tbody>\n",
       "    <tr>\n",
       "      <th>0</th>\n",
       "      <td>half-slouched having</td>\n",
       "      <td>22dfac9721b899cb</td>\n",
       "      <td>Y-8</td>\n",
       "      <td>3</td>\n",
       "    </tr>\n",
       "    <tr>\n",
       "      <th>1</th>\n",
       "      <td>lift whale-ships</td>\n",
       "      <td>7c645810cd7f166e</td>\n",
       "      <td>M-7</td>\n",
       "      <td>3</td>\n",
       "    </tr>\n",
       "    <tr>\n",
       "      <th>2</th>\n",
       "      <td>mightily community</td>\n",
       "      <td>c495bcb878faffaa</td>\n",
       "      <td>Y-8</td>\n",
       "      <td>2</td>\n",
       "    </tr>\n",
       "    <tr>\n",
       "      <th>3</th>\n",
       "      <td>session: too--shall</td>\n",
       "      <td>4e683dcd461cdd22</td>\n",
       "      <td>Y-8</td>\n",
       "      <td>1</td>\n",
       "    </tr>\n",
       "    <tr>\n",
       "      <th>4</th>\n",
       "      <td>That Zoology</td>\n",
       "      <td>6473dd29a2badbf1</td>\n",
       "      <td>Y-8</td>\n",
       "      <td>3</td>\n",
       "    </tr>\n",
       "  </tbody>\n",
       "</table>\n",
       "</div>"
      ],
      "text/plain": [
       "               app_name            app_id category_id  device_id\n",
       "0  half-slouched having  22dfac9721b899cb         Y-8          3\n",
       "1      lift whale-ships  7c645810cd7f166e         M-7          3\n",
       "2    mightily community  c495bcb878faffaa         Y-8          2\n",
       "3   session: too--shall  4e683dcd461cdd22         Y-8          1\n",
       "4          That Zoology  6473dd29a2badbf1         Y-8          3"
      ]
     },
     "execution_count": 82,
     "metadata": {},
     "output_type": "execute_result"
    }
   ],
   "source": [
    "apps.head()"
   ]
  },
  {
   "cell_type": "code",
   "execution_count": 85,
   "id": "0f012aec",
   "metadata": {},
   "outputs": [
    {
     "data": {
      "text/html": [
       "<div>\n",
       "<style scoped>\n",
       "    .dataframe tbody tr th:only-of-type {\n",
       "        vertical-align: middle;\n",
       "    }\n",
       "\n",
       "    .dataframe tbody tr th {\n",
       "        vertical-align: top;\n",
       "    }\n",
       "\n",
       "    .dataframe thead th {\n",
       "        text-align: right;\n",
       "    }\n",
       "</style>\n",
       "<table border=\"1\" class=\"dataframe\">\n",
       "  <thead>\n",
       "    <tr style=\"text-align: right;\">\n",
       "      <th></th>\n",
       "      <th>app_category</th>\n",
       "      <th>category_id</th>\n",
       "    </tr>\n",
       "  </thead>\n",
       "  <tbody>\n",
       "    <tr>\n",
       "      <th>0</th>\n",
       "      <td>Games</td>\n",
       "      <td>Z-1</td>\n",
       "    </tr>\n",
       "    <tr>\n",
       "      <th>1</th>\n",
       "      <td>Social Networking</td>\n",
       "      <td>Q-5</td>\n",
       "    </tr>\n",
       "    <tr>\n",
       "      <th>2</th>\n",
       "      <td>Utilities</td>\n",
       "      <td>M-7</td>\n",
       "    </tr>\n",
       "    <tr>\n",
       "      <th>3</th>\n",
       "      <td>Entertainment</td>\n",
       "      <td>Q-1</td>\n",
       "    </tr>\n",
       "    <tr>\n",
       "      <th>4</th>\n",
       "      <td>Photos &amp; Videos</td>\n",
       "      <td>Y-8</td>\n",
       "    </tr>\n",
       "  </tbody>\n",
       "</table>\n",
       "</div>"
      ],
      "text/plain": [
       "        app_category category_id\n",
       "0              Games         Z-1\n",
       "1  Social Networking         Q-5\n",
       "2          Utilities         M-7\n",
       "3      Entertainment         Q-1\n",
       "4    Photos & Videos         Y-8"
      ]
     },
     "execution_count": 85,
     "metadata": {},
     "output_type": "execute_result"
    }
   ],
   "source": [
    "categories.head()"
   ]
  },
  {
   "cell_type": "code",
   "execution_count": 91,
   "id": "b6802edf",
   "metadata": {},
   "outputs": [],
   "source": [
    "# Map apps and categories\n",
    "apps_cat=pd.merge(apps,categories,on='category_id').drop(columns=['category_id'])"
   ]
  },
  {
   "cell_type": "code",
   "execution_count": 92,
   "id": "1f84da5d",
   "metadata": {},
   "outputs": [
    {
     "data": {
      "text/html": [
       "<div>\n",
       "<style scoped>\n",
       "    .dataframe tbody tr th:only-of-type {\n",
       "        vertical-align: middle;\n",
       "    }\n",
       "\n",
       "    .dataframe tbody tr th {\n",
       "        vertical-align: top;\n",
       "    }\n",
       "\n",
       "    .dataframe thead th {\n",
       "        text-align: right;\n",
       "    }\n",
       "</style>\n",
       "<table border=\"1\" class=\"dataframe\">\n",
       "  <thead>\n",
       "    <tr style=\"text-align: right;\">\n",
       "      <th></th>\n",
       "      <th>app_name</th>\n",
       "      <th>app_id</th>\n",
       "      <th>device_id</th>\n",
       "      <th>app_category</th>\n",
       "    </tr>\n",
       "  </thead>\n",
       "  <tbody>\n",
       "    <tr>\n",
       "      <th>0</th>\n",
       "      <td>half-slouched having</td>\n",
       "      <td>22dfac9721b899cb</td>\n",
       "      <td>3</td>\n",
       "      <td>Photos &amp; Videos</td>\n",
       "    </tr>\n",
       "    <tr>\n",
       "      <th>1</th>\n",
       "      <td>mightily community</td>\n",
       "      <td>c495bcb878faffaa</td>\n",
       "      <td>2</td>\n",
       "      <td>Photos &amp; Videos</td>\n",
       "    </tr>\n",
       "    <tr>\n",
       "      <th>2</th>\n",
       "      <td>session: too--shall</td>\n",
       "      <td>4e683dcd461cdd22</td>\n",
       "      <td>1</td>\n",
       "      <td>Photos &amp; Videos</td>\n",
       "    </tr>\n",
       "    <tr>\n",
       "      <th>3</th>\n",
       "      <td>That Zoology</td>\n",
       "      <td>6473dd29a2badbf1</td>\n",
       "      <td>3</td>\n",
       "      <td>Photos &amp; Videos</td>\n",
       "    </tr>\n",
       "    <tr>\n",
       "      <th>4</th>\n",
       "      <td>careful!--come stubbornly</td>\n",
       "      <td>ee013dcbf9ecc2b1</td>\n",
       "      <td>3</td>\n",
       "      <td>Photos &amp; Videos</td>\n",
       "    </tr>\n",
       "  </tbody>\n",
       "</table>\n",
       "</div>"
      ],
      "text/plain": [
       "                    app_name            app_id  device_id     app_category\n",
       "0       half-slouched having  22dfac9721b899cb          3  Photos & Videos\n",
       "1         mightily community  c495bcb878faffaa          2  Photos & Videos\n",
       "2        session: too--shall  4e683dcd461cdd22          1  Photos & Videos\n",
       "3               That Zoology  6473dd29a2badbf1          3  Photos & Videos\n",
       "4  careful!--come stubbornly  ee013dcbf9ecc2b1          3  Photos & Videos"
      ]
     },
     "execution_count": 92,
     "metadata": {},
     "output_type": "execute_result"
    }
   ],
   "source": [
    "apps_cat.head()"
   ]
  },
  {
   "cell_type": "code",
   "execution_count": 103,
   "id": "1bf444e1",
   "metadata": {},
   "outputs": [
    {
     "name": "stdout",
     "output_type": "stream",
     "text": [
      "app_category\n",
      "Entertainment        149\n",
      "Games                392\n",
      "Photos & Videos      260\n",
      "Social Networking     46\n",
      "Utilities            153\n",
      "Name: app_id, dtype: int64\n"
     ]
    },
    {
     "data": {
      "image/png": "[encoded data removed]",
      "text/plain": [
       "<Figure size 432x288 with 1 Axes>"
      ]
     },
     "metadata": {
      "needs_background": "light"
     },
     "output_type": "display_data"
    }
   ],
   "source": [
    "apps_freq=apps_cat.groupby('app_category').app_id.count()\n",
    "\n",
    "y=(apps_freq.values)/1000\n",
    "x=apps_freq.index\n",
    "plt.bar(x,y)\n",
    "plt.xticks(rotation=45)\n",
    "plt.ylabel('% count')\n",
    "plt.title('Freq of different app categories')\n",
    "print(apps_freq)"
   ]
  },
  {
   "cell_type": "markdown",
   "id": "79b13847",
   "metadata": {},
   "source": [
    "#### In App content"
   ]
  },
  {
   "cell_type": "code",
   "execution_count": 104,
   "id": "528ab190",
   "metadata": {},
   "outputs": [
    {
     "data": {
      "text/html": [
       "<div>\n",
       "<style scoped>\n",
       "    .dataframe tbody tr th:only-of-type {\n",
       "        vertical-align: middle;\n",
       "    }\n",
       "\n",
       "    .dataframe tbody tr th {\n",
       "        vertical-align: top;\n",
       "    }\n",
       "\n",
       "    .dataframe thead th {\n",
       "        text-align: right;\n",
       "    }\n",
       "</style>\n",
       "<table border=\"1\" class=\"dataframe\">\n",
       "  <thead>\n",
       "    <tr style=\"text-align: right;\">\n",
       "      <th></th>\n",
       "      <th>app_id</th>\n",
       "      <th>content_id</th>\n",
       "      <th>content_type</th>\n",
       "    </tr>\n",
       "  </thead>\n",
       "  <tbody>\n",
       "    <tr>\n",
       "      <th>0</th>\n",
       "      <td>d2bde35599e0dae9</td>\n",
       "      <td>227227a77c59809b</td>\n",
       "      <td>consumable</td>\n",
       "    </tr>\n",
       "    <tr>\n",
       "      <th>1</th>\n",
       "      <td>d2bde35599e0dae9</td>\n",
       "      <td>41ac2362a2600185</td>\n",
       "      <td>consumable</td>\n",
       "    </tr>\n",
       "    <tr>\n",
       "      <th>2</th>\n",
       "      <td>d2bde35599e0dae9</td>\n",
       "      <td>64a8e16f030bb611</td>\n",
       "      <td>consumable</td>\n",
       "    </tr>\n",
       "    <tr>\n",
       "      <th>3</th>\n",
       "      <td>d2bde35599e0dae9</td>\n",
       "      <td>2c8ba424183afa7c</td>\n",
       "      <td>consumable</td>\n",
       "    </tr>\n",
       "    <tr>\n",
       "      <th>4</th>\n",
       "      <td>d2bde35599e0dae9</td>\n",
       "      <td>b4c42fa5cc420f7b</td>\n",
       "      <td>consumable</td>\n",
       "    </tr>\n",
       "  </tbody>\n",
       "</table>\n",
       "</div>"
      ],
      "text/plain": [
       "             app_id        content_id content_type\n",
       "0  d2bde35599e0dae9  227227a77c59809b   consumable\n",
       "1  d2bde35599e0dae9  41ac2362a2600185   consumable\n",
       "2  d2bde35599e0dae9  64a8e16f030bb611   consumable\n",
       "3  d2bde35599e0dae9  2c8ba424183afa7c   consumable\n",
       "4  d2bde35599e0dae9  b4c42fa5cc420f7b   consumable"
      ]
     },
     "execution_count": 104,
     "metadata": {},
     "output_type": "execute_result"
    }
   ],
   "source": [
    "in_app_cont.head()"
   ]
  },
  {
   "cell_type": "code",
   "execution_count": 109,
   "id": "9611aae3",
   "metadata": {},
   "outputs": [
    {
     "data": {
      "text/plain": [
       "(2376, 3)"
      ]
     },
     "execution_count": 109,
     "metadata": {},
     "output_type": "execute_result"
    }
   ],
   "source": [
    "in_app_cont.shape"
   ]
  },
  {
   "cell_type": "code",
   "execution_count": 111,
   "id": "73be8bd4",
   "metadata": {},
   "outputs": [
    {
     "data": {
      "text/plain": [
       "476"
      ]
     },
     "execution_count": 111,
     "metadata": {},
     "output_type": "execute_result"
    }
   ],
   "source": [
    "in_app_cont.app_id.nunique()"
   ]
  },
  {
   "cell_type": "markdown",
   "id": "26e9d911",
   "metadata": {},
   "source": [
    "#### Note : There are 1000 apps but in app content for 476 are present"
   ]
  },
  {
   "cell_type": "code",
   "execution_count": 110,
   "id": "34fd5717",
   "metadata": {},
   "outputs": [
    {
     "data": {
      "text/plain": [
       "content_type\n",
       "consumable      2107\n",
       "subscription     269\n",
       "Name: content_id, dtype: int64"
      ]
     },
     "execution_count": 110,
     "metadata": {},
     "output_type": "execute_result"
    }
   ],
   "source": [
    "print(in_app_cont.groupby('content_type').content_id.nunique())"
   ]
  },
  {
   "cell_type": "markdown",
   "id": "2ed1cb58",
   "metadata": {},
   "source": [
    "\n",
    "## Map apps to in_app_cont"
   ]
  },
  {
   "cell_type": "code",
   "execution_count": 170,
   "id": "68f1a143",
   "metadata": {},
   "outputs": [
    {
     "data": {
      "text/plain": [
       "0"
      ]
     },
     "execution_count": 170,
     "metadata": {},
     "output_type": "execute_result"
    }
   ],
   "source": [
    "# Checking if all apps in in_app_cont is present in apps table\n",
    "len(set(in_app_cont.app_id.unique())-set(apps_wt_cont.app_id.unique()))"
   ]
  },
  {
   "cell_type": "code",
   "execution_count": 174,
   "id": "81624961",
   "metadata": {},
   "outputs": [],
   "source": [
    "apps_wt_cont = pd.merge(apps_cat,in_app_cont,on='app_id',how='left')\n",
    "#Outer join not needed as all apps in in_app_cont is present in apps table"
   ]
  },
  {
   "cell_type": "code",
   "execution_count": 175,
   "id": "e445ae1b",
   "metadata": {},
   "outputs": [
    {
     "data": {
      "text/html": [
       "<div>\n",
       "<style scoped>\n",
       "    .dataframe tbody tr th:only-of-type {\n",
       "        vertical-align: middle;\n",
       "    }\n",
       "\n",
       "    .dataframe tbody tr th {\n",
       "        vertical-align: top;\n",
       "    }\n",
       "\n",
       "    .dataframe thead th {\n",
       "        text-align: right;\n",
       "    }\n",
       "</style>\n",
       "<table border=\"1\" class=\"dataframe\">\n",
       "  <thead>\n",
       "    <tr style=\"text-align: right;\">\n",
       "      <th></th>\n",
       "      <th>app_name</th>\n",
       "      <th>app_id</th>\n",
       "      <th>device_id</th>\n",
       "      <th>app_category</th>\n",
       "      <th>content_id</th>\n",
       "      <th>content_type</th>\n",
       "    </tr>\n",
       "  </thead>\n",
       "  <tbody>\n",
       "    <tr>\n",
       "      <th>0</th>\n",
       "      <td>half-slouched having</td>\n",
       "      <td>22dfac9721b899cb</td>\n",
       "      <td>3</td>\n",
       "      <td>Photos &amp; Videos</td>\n",
       "      <td>f049e141e84edd84</td>\n",
       "      <td>consumable</td>\n",
       "    </tr>\n",
       "    <tr>\n",
       "      <th>1</th>\n",
       "      <td>mightily community</td>\n",
       "      <td>c495bcb878faffaa</td>\n",
       "      <td>2</td>\n",
       "      <td>Photos &amp; Videos</td>\n",
       "      <td>107aece323e389df</td>\n",
       "      <td>consumable</td>\n",
       "    </tr>\n",
       "    <tr>\n",
       "      <th>2</th>\n",
       "      <td>mightily community</td>\n",
       "      <td>c495bcb878faffaa</td>\n",
       "      <td>2</td>\n",
       "      <td>Photos &amp; Videos</td>\n",
       "      <td>77389dc3f8108c77</td>\n",
       "      <td>consumable</td>\n",
       "    </tr>\n",
       "    <tr>\n",
       "      <th>3</th>\n",
       "      <td>session: too--shall</td>\n",
       "      <td>4e683dcd461cdd22</td>\n",
       "      <td>1</td>\n",
       "      <td>Photos &amp; Videos</td>\n",
       "      <td>abfa638eb85a98f3</td>\n",
       "      <td>consumable</td>\n",
       "    </tr>\n",
       "    <tr>\n",
       "      <th>4</th>\n",
       "      <td>session: too--shall</td>\n",
       "      <td>4e683dcd461cdd22</td>\n",
       "      <td>1</td>\n",
       "      <td>Photos &amp; Videos</td>\n",
       "      <td>5275949120266f44</td>\n",
       "      <td>consumable</td>\n",
       "    </tr>\n",
       "  </tbody>\n",
       "</table>\n",
       "</div>"
      ],
      "text/plain": [
       "               app_name            app_id  device_id     app_category  \\\n",
       "0  half-slouched having  22dfac9721b899cb          3  Photos & Videos   \n",
       "1    mightily community  c495bcb878faffaa          2  Photos & Videos   \n",
       "2    mightily community  c495bcb878faffaa          2  Photos & Videos   \n",
       "3   session: too--shall  4e683dcd461cdd22          1  Photos & Videos   \n",
       "4   session: too--shall  4e683dcd461cdd22          1  Photos & Videos   \n",
       "\n",
       "         content_id content_type  \n",
       "0  f049e141e84edd84   consumable  \n",
       "1  107aece323e389df   consumable  \n",
       "2  77389dc3f8108c77   consumable  \n",
       "3  abfa638eb85a98f3   consumable  \n",
       "4  5275949120266f44   consumable  "
      ]
     },
     "execution_count": 175,
     "metadata": {},
     "output_type": "execute_result"
    }
   ],
   "source": [
    "apps_wt_cont.head()"
   ]
  },
  {
   "cell_type": "code",
   "execution_count": 178,
   "id": "5f3f2b6f",
   "metadata": {},
   "outputs": [
    {
     "data": {
      "text/plain": [
       "app_name          0\n",
       "app_id            0\n",
       "device_id         0\n",
       "app_category      0\n",
       "content_id      524\n",
       "content_type    524\n",
       "dtype: int64"
      ]
     },
     "execution_count": 178,
     "metadata": {},
     "output_type": "execute_result"
    }
   ],
   "source": [
    "apps_wt_cont.isnull().sum()"
   ]
  },
  {
   "cell_type": "markdown",
   "id": "32fb1087",
   "metadata": {},
   "source": [
    "#### Note: Only 476 apps have a content_id associated with them, therefore only 476 apps can be mapped to transactions/downloads"
   ]
  },
  {
   "cell_type": "markdown",
   "id": "caf7d4f8",
   "metadata": {},
   "source": [
    "## Map apps and content to transaction/downloads data"
   ]
  },
  {
   "cell_type": "code",
   "execution_count": 256,
   "id": "cf613afb",
   "metadata": {},
   "outputs": [],
   "source": [
    "trans_dev=pd.merge(trans,devices,left_on='purchase_device_id',right_on='device_id',how='left').drop(columns=['device_id'])\n",
    "trans_master=pd.merge(trans_dev,apps_wt_cont.drop(columns=['device_id']),on='content_id',how='left')"
   ]
  },
  {
   "cell_type": "code",
   "execution_count": 184,
   "id": "bdf261c1",
   "metadata": {},
   "outputs": [
    {
     "data": {
      "text/html": [
       "<div>\n",
       "<style scoped>\n",
       "    .dataframe tbody tr th:only-of-type {\n",
       "        vertical-align: middle;\n",
       "    }\n",
       "\n",
       "    .dataframe tbody tr th {\n",
       "        vertical-align: top;\n",
       "    }\n",
       "\n",
       "    .dataframe thead th {\n",
       "        text-align: right;\n",
       "    }\n",
       "</style>\n",
       "<table border=\"1\" class=\"dataframe\">\n",
       "  <thead>\n",
       "    <tr style=\"text-align: right;\">\n",
       "      <th></th>\n",
       "      <th>trans_dt</th>\n",
       "      <th>content_id</th>\n",
       "      <th>acct_id</th>\n",
       "      <th>price</th>\n",
       "      <th>purchase_device_id</th>\n",
       "      <th>year_mon_trans</th>\n",
       "      <th>device_name</th>\n",
       "      <th>app_name</th>\n",
       "      <th>app_id</th>\n",
       "      <th>app_category</th>\n",
       "      <th>content_type</th>\n",
       "    </tr>\n",
       "  </thead>\n",
       "  <tbody>\n",
       "    <tr>\n",
       "      <th>0</th>\n",
       "      <td>2016-08-28</td>\n",
       "      <td>b6cf4f33e7455df4</td>\n",
       "      <td>220574a7a6a71afa</td>\n",
       "      <td>11.99</td>\n",
       "      <td>1</td>\n",
       "      <td>2016-08</td>\n",
       "      <td>iPhone</td>\n",
       "      <td>events Bildad's</td>\n",
       "      <td>61cea77b9bc843d1</td>\n",
       "      <td>Utilities</td>\n",
       "      <td>subscription</td>\n",
       "    </tr>\n",
       "    <tr>\n",
       "      <th>1</th>\n",
       "      <td>2016-09-16</td>\n",
       "      <td>71ac3e9c38ddbbba</td>\n",
       "      <td>8551f69a5015ea6a</td>\n",
       "      <td>1.99</td>\n",
       "      <td>2</td>\n",
       "      <td>2016-09</td>\n",
       "      <td>iPad</td>\n",
       "      <td>swell questionably</td>\n",
       "      <td>1f0ebd67df5846cd</td>\n",
       "      <td>Utilities</td>\n",
       "      <td>consumable</td>\n",
       "    </tr>\n",
       "    <tr>\n",
       "      <th>2</th>\n",
       "      <td>2016-08-15</td>\n",
       "      <td>776b851b916c33d1</td>\n",
       "      <td>7dedf309494a1966</td>\n",
       "      <td>0.99</td>\n",
       "      <td>2</td>\n",
       "      <td>2016-08</td>\n",
       "      <td>iPad</td>\n",
       "      <td>supperless--my Shipmates</td>\n",
       "      <td>1383e4f2f49f0f44</td>\n",
       "      <td>Games</td>\n",
       "      <td>consumable</td>\n",
       "    </tr>\n",
       "    <tr>\n",
       "      <th>3</th>\n",
       "      <td>2016-06-17</td>\n",
       "      <td>7a47ca132a8dc695</td>\n",
       "      <td>7174a81c796dcf7e</td>\n",
       "      <td>1.99</td>\n",
       "      <td>2</td>\n",
       "      <td>2016-06</td>\n",
       "      <td>iPad</td>\n",
       "      <td>unwritten hungry</td>\n",
       "      <td>8590a25d4e5c249c</td>\n",
       "      <td>Games</td>\n",
       "      <td>consumable</td>\n",
       "    </tr>\n",
       "    <tr>\n",
       "      <th>4</th>\n",
       "      <td>2016-06-13</td>\n",
       "      <td>30581219bc952dbb</td>\n",
       "      <td>35aaf59d64a677e7</td>\n",
       "      <td>11.99</td>\n",
       "      <td>2</td>\n",
       "      <td>2016-06</td>\n",
       "      <td>iPad</td>\n",
       "      <td>Turning thanked</td>\n",
       "      <td>478e10f9248b7842</td>\n",
       "      <td>Entertainment</td>\n",
       "      <td>consumable</td>\n",
       "    </tr>\n",
       "  </tbody>\n",
       "</table>\n",
       "</div>"
      ],
      "text/plain": [
       "    trans_dt        content_id           acct_id  price  purchase_device_id  \\\n",
       "0 2016-08-28  b6cf4f33e7455df4  220574a7a6a71afa  11.99                   1   \n",
       "1 2016-09-16  71ac3e9c38ddbbba  8551f69a5015ea6a   1.99                   2   \n",
       "2 2016-08-15  776b851b916c33d1  7dedf309494a1966   0.99                   2   \n",
       "3 2016-06-17  7a47ca132a8dc695  7174a81c796dcf7e   1.99                   2   \n",
       "4 2016-06-13  30581219bc952dbb  35aaf59d64a677e7  11.99                   2   \n",
       "\n",
       "  year_mon_trans device_name                  app_name            app_id  \\\n",
       "0        2016-08      iPhone           events Bildad's  61cea77b9bc843d1   \n",
       "1        2016-09        iPad        swell questionably  1f0ebd67df5846cd   \n",
       "2        2016-08        iPad  supperless--my Shipmates  1383e4f2f49f0f44   \n",
       "3        2016-06        iPad          unwritten hungry  8590a25d4e5c249c   \n",
       "4        2016-06        iPad           Turning thanked  478e10f9248b7842   \n",
       "\n",
       "    app_category  content_type  \n",
       "0      Utilities  subscription  \n",
       "1      Utilities    consumable  \n",
       "2          Games    consumable  \n",
       "3          Games    consumable  \n",
       "4  Entertainment    consumable  "
      ]
     },
     "execution_count": 184,
     "metadata": {},
     "output_type": "execute_result"
    }
   ],
   "source": [
    "trans_master.head()"
   ]
  },
  {
   "cell_type": "code",
   "execution_count": 185,
   "id": "a9f3c2fc",
   "metadata": {},
   "outputs": [
    {
     "data": {
      "text/plain": [
       "trans_dt                    0\n",
       "content_id                  0\n",
       "acct_id                     0\n",
       "price                       0\n",
       "purchase_device_id          0\n",
       "year_mon_trans              0\n",
       "device_name                 0\n",
       "app_name              1594364\n",
       "app_id                1594364\n",
       "app_category          1594364\n",
       "content_type          1594364\n",
       "dtype: int64"
      ]
     },
     "execution_count": 185,
     "metadata": {},
     "output_type": "execute_result"
    }
   ],
   "source": [
    "trans_master.isnull().sum()"
   ]
  },
  {
   "cell_type": "markdown",
   "id": "3944d388",
   "metadata": {},
   "source": [
    "#### Note: About 1.6 million transactions are on apps that do not have app data "
   ]
  },
  {
   "cell_type": "code",
   "execution_count": 195,
   "id": "7710dfd1",
   "metadata": {},
   "outputs": [
    {
     "data": {
      "text/plain": [
       "2376"
      ]
     },
     "execution_count": 195,
     "metadata": {},
     "output_type": "execute_result"
    }
   ],
   "source": [
    "apps_wt_cont.content_id.nunique()"
   ]
  },
  {
   "cell_type": "code",
   "execution_count": 186,
   "id": "7a890687",
   "metadata": {},
   "outputs": [
    {
     "data": {
      "text/plain": [
       "2913"
      ]
     },
     "execution_count": 186,
     "metadata": {},
     "output_type": "execute_result"
    }
   ],
   "source": [
    "trans_master.content_id.nunique()"
   ]
  },
  {
   "cell_type": "code",
   "execution_count": 193,
   "id": "6865377b",
   "metadata": {},
   "outputs": [
    {
     "data": {
      "text/plain": [
       "{nan}"
      ]
     },
     "execution_count": 193,
     "metadata": {},
     "output_type": "execute_result"
    }
   ],
   "source": [
    "# Are there content_ids in app table which do not map to transaction? \n",
    "set(apps_wt_cont.content_id.unique())-set(trans_master.content_id.unique())\n"
   ]
  },
  {
   "cell_type": "markdown",
   "id": "875ac2b9",
   "metadata": {},
   "source": [
    "#### Note: There are 537 content_ids not in app data which accounts for 1.6 million downloads/transactions"
   ]
  },
  {
   "cell_type": "markdown",
   "id": "ec2dcfde",
   "metadata": {},
   "source": [
    "## Explore Downloads and Payment data"
   ]
  },
  {
   "cell_type": "code",
   "execution_count": 196,
   "id": "4e22d1ae",
   "metadata": {},
   "outputs": [
    {
     "data": {
      "text/html": [
       "<div>\n",
       "<style scoped>\n",
       "    .dataframe tbody tr th:only-of-type {\n",
       "        vertical-align: middle;\n",
       "    }\n",
       "\n",
       "    .dataframe tbody tr th {\n",
       "        vertical-align: top;\n",
       "    }\n",
       "\n",
       "    .dataframe thead th {\n",
       "        text-align: right;\n",
       "    }\n",
       "</style>\n",
       "<table border=\"1\" class=\"dataframe\">\n",
       "  <thead>\n",
       "    <tr style=\"text-align: right;\">\n",
       "      <th></th>\n",
       "      <th>trans_dt</th>\n",
       "      <th>content_id</th>\n",
       "      <th>acct_id</th>\n",
       "      <th>price</th>\n",
       "      <th>purchase_device_id</th>\n",
       "      <th>year_mon_trans</th>\n",
       "      <th>device_name</th>\n",
       "      <th>app_name</th>\n",
       "      <th>app_id</th>\n",
       "      <th>app_category</th>\n",
       "      <th>content_type</th>\n",
       "    </tr>\n",
       "  </thead>\n",
       "  <tbody>\n",
       "    <tr>\n",
       "      <th>0</th>\n",
       "      <td>2016-08-28</td>\n",
       "      <td>b6cf4f33e7455df4</td>\n",
       "      <td>220574a7a6a71afa</td>\n",
       "      <td>11.99</td>\n",
       "      <td>1</td>\n",
       "      <td>2016-08</td>\n",
       "      <td>iPhone</td>\n",
       "      <td>events Bildad's</td>\n",
       "      <td>61cea77b9bc843d1</td>\n",
       "      <td>Utilities</td>\n",
       "      <td>subscription</td>\n",
       "    </tr>\n",
       "    <tr>\n",
       "      <th>1</th>\n",
       "      <td>2016-09-16</td>\n",
       "      <td>71ac3e9c38ddbbba</td>\n",
       "      <td>8551f69a5015ea6a</td>\n",
       "      <td>1.99</td>\n",
       "      <td>2</td>\n",
       "      <td>2016-09</td>\n",
       "      <td>iPad</td>\n",
       "      <td>swell questionably</td>\n",
       "      <td>1f0ebd67df5846cd</td>\n",
       "      <td>Utilities</td>\n",
       "      <td>consumable</td>\n",
       "    </tr>\n",
       "    <tr>\n",
       "      <th>2</th>\n",
       "      <td>2016-08-15</td>\n",
       "      <td>776b851b916c33d1</td>\n",
       "      <td>7dedf309494a1966</td>\n",
       "      <td>0.99</td>\n",
       "      <td>2</td>\n",
       "      <td>2016-08</td>\n",
       "      <td>iPad</td>\n",
       "      <td>supperless--my Shipmates</td>\n",
       "      <td>1383e4f2f49f0f44</td>\n",
       "      <td>Games</td>\n",
       "      <td>consumable</td>\n",
       "    </tr>\n",
       "    <tr>\n",
       "      <th>3</th>\n",
       "      <td>2016-06-17</td>\n",
       "      <td>7a47ca132a8dc695</td>\n",
       "      <td>7174a81c796dcf7e</td>\n",
       "      <td>1.99</td>\n",
       "      <td>2</td>\n",
       "      <td>2016-06</td>\n",
       "      <td>iPad</td>\n",
       "      <td>unwritten hungry</td>\n",
       "      <td>8590a25d4e5c249c</td>\n",
       "      <td>Games</td>\n",
       "      <td>consumable</td>\n",
       "    </tr>\n",
       "    <tr>\n",
       "      <th>4</th>\n",
       "      <td>2016-06-13</td>\n",
       "      <td>30581219bc952dbb</td>\n",
       "      <td>35aaf59d64a677e7</td>\n",
       "      <td>11.99</td>\n",
       "      <td>2</td>\n",
       "      <td>2016-06</td>\n",
       "      <td>iPad</td>\n",
       "      <td>Turning thanked</td>\n",
       "      <td>478e10f9248b7842</td>\n",
       "      <td>Entertainment</td>\n",
       "      <td>consumable</td>\n",
       "    </tr>\n",
       "  </tbody>\n",
       "</table>\n",
       "</div>"
      ],
      "text/plain": [
       "    trans_dt        content_id           acct_id  price  purchase_device_id  \\\n",
       "0 2016-08-28  b6cf4f33e7455df4  220574a7a6a71afa  11.99                   1   \n",
       "1 2016-09-16  71ac3e9c38ddbbba  8551f69a5015ea6a   1.99                   2   \n",
       "2 2016-08-15  776b851b916c33d1  7dedf309494a1966   0.99                   2   \n",
       "3 2016-06-17  7a47ca132a8dc695  7174a81c796dcf7e   1.99                   2   \n",
       "4 2016-06-13  30581219bc952dbb  35aaf59d64a677e7  11.99                   2   \n",
       "\n",
       "  year_mon_trans device_name                  app_name            app_id  \\\n",
       "0        2016-08      iPhone           events Bildad's  61cea77b9bc843d1   \n",
       "1        2016-09        iPad        swell questionably  1f0ebd67df5846cd   \n",
       "2        2016-08        iPad  supperless--my Shipmates  1383e4f2f49f0f44   \n",
       "3        2016-06        iPad          unwritten hungry  8590a25d4e5c249c   \n",
       "4        2016-06        iPad           Turning thanked  478e10f9248b7842   \n",
       "\n",
       "    app_category  content_type  \n",
       "0      Utilities  subscription  \n",
       "1      Utilities    consumable  \n",
       "2          Games    consumable  \n",
       "3          Games    consumable  \n",
       "4  Entertainment    consumable  "
      ]
     },
     "execution_count": 196,
     "metadata": {},
     "output_type": "execute_result"
    }
   ],
   "source": [
    "trans_master.head()"
   ]
  },
  {
   "cell_type": "markdown",
   "id": "25466fef",
   "metadata": {},
   "source": [
    "#### Freq of transactions across time across app_types"
   ]
  },
  {
   "cell_type": "code",
   "execution_count": 262,
   "id": "d2c76cb1",
   "metadata": {},
   "outputs": [
    {
     "data": {
      "text/plain": [
       "<AxesSubplot:title={'center':'Freq of transactions across time across app_types'}, xlabel='trans_dt'>"
      ]
     },
     "execution_count": 262,
     "metadata": {},
     "output_type": "execute_result"
    },
    {
     "data": {
      "image/png": "[encoded data removed]",
      "text/plain": [
       "<Figure size 432x288 with 1 Axes>"
      ]
     },
     "metadata": {
      "needs_background": "light"
     },
     "output_type": "display_data"
    }
   ],
   "source": [
    "trans_freq_app_cat=pd.DataFrame(trans_master.fillna({'app_category':'Unknown'}).groupby(['app_category','trans_dt']).acct_id.count()).reset_index()\n",
    "trans_freq_app_cat.pivot(index='trans_dt',columns='app_category',values='acct_id').plot(title='Freq of transactions across time across app_types')\n"
   ]
  },
  {
   "cell_type": "markdown",
   "id": "bfde5e37",
   "metadata": {},
   "source": [
    "#### Avg $ val of transactions across time across app_types"
   ]
  },
  {
   "cell_type": "code",
   "execution_count": 264,
   "id": "b268daab",
   "metadata": {},
   "outputs": [
    {
     "data": {
      "text/plain": [
       "<AxesSubplot:title={'center':'avg $ val of transactions across time across app_types'}, xlabel='trans_dt'>"
      ]
     },
     "execution_count": 264,
     "metadata": {},
     "output_type": "execute_result"
    },
    {
     "data": {
      "image/png": "[encoded data removed]",
      "text/plain": [
       "<Figure size 432x288 with 1 Axes>"
      ]
     },
     "metadata": {
      "needs_background": "light"
     },
     "output_type": "display_data"
    }
   ],
   "source": [
    "trans_freq_app_cat=pd.DataFrame(trans_master.fillna({'app_category':'Unknown'}).groupby(['app_category','trans_dt']).price.mean()).reset_index()\n",
    "trans_freq_app_cat.pivot(index='trans_dt',columns='app_category',values='price').plot(title = 'avg $ val of transactions across time across app_types')\n"
   ]
  },
  {
   "cell_type": "code",
   "execution_count": 271,
   "id": "78f4cb5b",
   "metadata": {},
   "outputs": [
    {
     "data": {
      "text/plain": [
       "<AxesSubplot:title={'center':'Transaction volume across app types'}, xlabel='app_category'>"
      ]
     },
     "execution_count": 271,
     "metadata": {},
     "output_type": "execute_result"
    },
    {
     "data": {
      "image/png": "[encoded data removed]",
      "text/plain": [
       "<Figure size 432x288 with 1 Axes>"
      ]
     },
     "metadata": {
      "needs_background": "light"
     },
     "output_type": "display_data"
    }
   ],
   "source": [
    "trans_master.fillna({'app_category':'Unknown'}).groupby('app_category').price.count().plot.bar(title='Transaction volume across app types')"
   ]
  },
  {
   "cell_type": "markdown",
   "id": "65702f18",
   "metadata": {},
   "source": [
    "#### Note: The transactions from the missing app data has the highest volume and quite low average transaction value"
   ]
  },
  {
   "cell_type": "code",
   "execution_count": 270,
   "id": "350db68c",
   "metadata": {},
   "outputs": [
    {
     "data": {
      "text/plain": [
       "<AxesSubplot:title={'center':'Non zero transaction volume across app types'}, xlabel='app_category'>"
      ]
     },
     "execution_count": 270,
     "metadata": {},
     "output_type": "execute_result"
    },
    {
     "data": {
      "image/png": "[encoded data removed]",
      "text/plain": [
       "<Figure size 432x288 with 1 Axes>"
      ]
     },
     "metadata": {
      "needs_background": "light"
     },
     "output_type": "display_data"
    }
   ],
   "source": [
    "trans_master.fillna({'app_category':'Unknown'})[trans_master.price>0].groupby('app_category').price.count().plot.bar(title='Non zero transaction volume across app types')"
   ]
  },
  {
   "cell_type": "markdown",
   "id": "b104d448",
   "metadata": {},
   "source": [
    "#### Note: The volume of transactions which are >$0 have a smaller proportion of unknowns"
   ]
  },
  {
   "cell_type": "code",
   "execution_count": 274,
   "id": "c21f6a70",
   "metadata": {},
   "outputs": [
    {
     "data": {
      "text/plain": [
       "<AxesSubplot:title={'center':'Transaction volume across content_type'}, xlabel='content_type'>"
      ]
     },
     "execution_count": 274,
     "metadata": {},
     "output_type": "execute_result"
    },
    {
     "data": {
      "image/png": "[encoded data removed]",
      "text/plain": [
       "<Figure size 432x288 with 1 Axes>"
      ]
     },
     "metadata": {
      "needs_background": "light"
     },
     "output_type": "display_data"
    }
   ],
   "source": [
    "trans_master.groupby('content_type').price.count().plot.bar(title='Transaction volume across content_type')"
   ]
  },
  {
   "cell_type": "code",
   "execution_count": 275,
   "id": "ede01266",
   "metadata": {},
   "outputs": [
    {
     "data": {
      "text/plain": [
       "<AxesSubplot:title={'center':'Non zero Transaction volume across content_type'}, xlabel='content_type'>"
      ]
     },
     "execution_count": 275,
     "metadata": {},
     "output_type": "execute_result"
    },
    {
     "data": {
      "image/png": "[encoded data removed]",
      "text/plain": [
       "<Figure size 432x288 with 1 Axes>"
      ]
     },
     "metadata": {
      "needs_background": "light"
     },
     "output_type": "display_data"
    }
   ],
   "source": [
    "trans_master.groupby('content_type').price.mean().plot.bar(title='Non zero Transaction volume across content_type')"
   ]
  },
  {
   "cell_type": "markdown",
   "id": "b5261e8a",
   "metadata": {},
   "source": [
    "#### Check if there are any zero $ transaction which has app info?"
   ]
  },
  {
   "cell_type": "code",
   "execution_count": 283,
   "id": "53a8e5f0",
   "metadata": {},
   "outputs": [
    {
     "data": {
      "text/html": [
       "<div>\n",
       "<style scoped>\n",
       "    .dataframe tbody tr th:only-of-type {\n",
       "        vertical-align: middle;\n",
       "    }\n",
       "\n",
       "    .dataframe tbody tr th {\n",
       "        vertical-align: top;\n",
       "    }\n",
       "\n",
       "    .dataframe thead th {\n",
       "        text-align: right;\n",
       "    }\n",
       "</style>\n",
       "<table border=\"1\" class=\"dataframe\">\n",
       "  <thead>\n",
       "    <tr style=\"text-align: right;\">\n",
       "      <th></th>\n",
       "      <th>trans_dt</th>\n",
       "      <th>content_id</th>\n",
       "      <th>acct_id</th>\n",
       "      <th>price</th>\n",
       "      <th>purchase_device_id</th>\n",
       "      <th>year_mon_trans</th>\n",
       "      <th>device_name</th>\n",
       "      <th>app_name</th>\n",
       "      <th>app_id</th>\n",
       "      <th>app_category</th>\n",
       "      <th>content_type</th>\n",
       "    </tr>\n",
       "  </thead>\n",
       "  <tbody>\n",
       "  </tbody>\n",
       "</table>\n",
       "</div>"
      ],
      "text/plain": [
       "Empty DataFrame\n",
       "Columns: [trans_dt, content_id, acct_id, price, purchase_device_id, year_mon_trans, device_name, app_name, app_id, app_category, content_type]\n",
       "Index: []"
      ]
     },
     "execution_count": 283,
     "metadata": {},
     "output_type": "execute_result"
    }
   ],
   "source": [
    "trans_master[(trans_master.price==0) & ~(trans_master.app_id.isnull())]\n",
    "# .groupby('content_type').price.mean()"
   ]
  },
  {
   "cell_type": "code",
   "execution_count": 433,
   "id": "ec4c26f0",
   "metadata": {},
   "outputs": [
    {
     "data": {
      "text/plain": [
       "0.08098940293704049"
      ]
     },
     "execution_count": 433,
     "metadata": {},
     "output_type": "execute_result"
    }
   ],
   "source": [
    "sum((trans_master.price!=0) & (trans_master.app_id.isnull()))/trans_master.shape[0]"
   ]
  },
  {
   "cell_type": "markdown",
   "id": "3b8473ab",
   "metadata": {},
   "source": [
    "#### 8% non zero transactions do not have app info "
   ]
  },
  {
   "cell_type": "code",
   "execution_count": 309,
   "id": "5a9c0de7",
   "metadata": {},
   "outputs": [
    {
     "data": {
      "text/plain": [
       "0"
      ]
     },
     "execution_count": 309,
     "metadata": {},
     "output_type": "execute_result"
    }
   ],
   "source": [
    "len(set(trans_master.acct_id[trans_master.price!=0])-(set(trans_master.acct_id[trans_master.price==0])))"
   ]
  },
  {
   "cell_type": "markdown",
   "id": "8d7c28d8",
   "metadata": {},
   "source": [
    "#### Finding: \n",
    "- Consumable transactions volume and avg tranasaction size are higher than subscription based transactions\n",
    "- Any transaction which is of dollar 0 value has no app or app content info against it\n",
    "- All accounts with transactions have a 0 transaction atleast once\n",
    "\n"
   ]
  },
  {
   "cell_type": "markdown",
   "id": "7d335a81",
   "metadata": {},
   "source": [
    "## Map accounts to transactions(for all transactions with accounts present)"
   ]
  },
  {
   "cell_type": "code",
   "execution_count": 313,
   "id": "c1988c2b",
   "metadata": {},
   "outputs": [],
   "source": [
    "master=pd.merge(trans_master,accounts,on='acct_id',how='left')"
   ]
  },
  {
   "cell_type": "code",
   "execution_count": 314,
   "id": "45fcbbe0",
   "metadata": {},
   "outputs": [
    {
     "data": {
      "text/html": [
       "<div>\n",
       "<style scoped>\n",
       "    .dataframe tbody tr th:only-of-type {\n",
       "        vertical-align: middle;\n",
       "    }\n",
       "\n",
       "    .dataframe tbody tr th {\n",
       "        vertical-align: top;\n",
       "    }\n",
       "\n",
       "    .dataframe thead th {\n",
       "        text-align: right;\n",
       "    }\n",
       "</style>\n",
       "<table border=\"1\" class=\"dataframe\">\n",
       "  <thead>\n",
       "    <tr style=\"text-align: right;\">\n",
       "      <th></th>\n",
       "      <th>trans_dt</th>\n",
       "      <th>content_id</th>\n",
       "      <th>acct_id</th>\n",
       "      <th>price</th>\n",
       "      <th>purchase_device_id</th>\n",
       "      <th>year_mon_trans</th>\n",
       "      <th>device_name</th>\n",
       "      <th>app_name</th>\n",
       "      <th>app_id</th>\n",
       "      <th>app_category</th>\n",
       "      <th>content_type</th>\n",
       "      <th>act_create_dt</th>\n",
       "      <th>payment_type</th>\n",
       "      <th>year_mon_account</th>\n",
       "    </tr>\n",
       "  </thead>\n",
       "  <tbody>\n",
       "    <tr>\n",
       "      <th>0</th>\n",
       "      <td>2016-08-28</td>\n",
       "      <td>b6cf4f33e7455df4</td>\n",
       "      <td>220574a7a6a71afa</td>\n",
       "      <td>11.99</td>\n",
       "      <td>1</td>\n",
       "      <td>2016-08</td>\n",
       "      <td>iPhone</td>\n",
       "      <td>events Bildad's</td>\n",
       "      <td>61cea77b9bc843d1</td>\n",
       "      <td>Utilities</td>\n",
       "      <td>subscription</td>\n",
       "      <td>2009-08-29</td>\n",
       "      <td>PMOF</td>\n",
       "      <td>2009-08</td>\n",
       "    </tr>\n",
       "    <tr>\n",
       "      <th>1</th>\n",
       "      <td>2016-09-16</td>\n",
       "      <td>71ac3e9c38ddbbba</td>\n",
       "      <td>8551f69a5015ea6a</td>\n",
       "      <td>1.99</td>\n",
       "      <td>2</td>\n",
       "      <td>2016-09</td>\n",
       "      <td>iPad</td>\n",
       "      <td>swell questionably</td>\n",
       "      <td>1f0ebd67df5846cd</td>\n",
       "      <td>Utilities</td>\n",
       "      <td>consumable</td>\n",
       "      <td>2011-05-28</td>\n",
       "      <td>PMOF</td>\n",
       "      <td>2011-05</td>\n",
       "    </tr>\n",
       "    <tr>\n",
       "      <th>2</th>\n",
       "      <td>2016-08-15</td>\n",
       "      <td>776b851b916c33d1</td>\n",
       "      <td>7dedf309494a1966</td>\n",
       "      <td>0.99</td>\n",
       "      <td>2</td>\n",
       "      <td>2016-08</td>\n",
       "      <td>iPad</td>\n",
       "      <td>supperless--my Shipmates</td>\n",
       "      <td>1383e4f2f49f0f44</td>\n",
       "      <td>Games</td>\n",
       "      <td>consumable</td>\n",
       "      <td>2009-11-15</td>\n",
       "      <td>PMOF</td>\n",
       "      <td>2009-11</td>\n",
       "    </tr>\n",
       "    <tr>\n",
       "      <th>3</th>\n",
       "      <td>2016-06-17</td>\n",
       "      <td>7a47ca132a8dc695</td>\n",
       "      <td>7174a81c796dcf7e</td>\n",
       "      <td>1.99</td>\n",
       "      <td>2</td>\n",
       "      <td>2016-06</td>\n",
       "      <td>iPad</td>\n",
       "      <td>unwritten hungry</td>\n",
       "      <td>8590a25d4e5c249c</td>\n",
       "      <td>Games</td>\n",
       "      <td>consumable</td>\n",
       "      <td>2009-03-01</td>\n",
       "      <td>PMOF</td>\n",
       "      <td>2009-03</td>\n",
       "    </tr>\n",
       "    <tr>\n",
       "      <th>4</th>\n",
       "      <td>2016-06-13</td>\n",
       "      <td>30581219bc952dbb</td>\n",
       "      <td>35aaf59d64a677e7</td>\n",
       "      <td>11.99</td>\n",
       "      <td>2</td>\n",
       "      <td>2016-06</td>\n",
       "      <td>iPad</td>\n",
       "      <td>Turning thanked</td>\n",
       "      <td>478e10f9248b7842</td>\n",
       "      <td>Entertainment</td>\n",
       "      <td>consumable</td>\n",
       "      <td>2010-10-01</td>\n",
       "      <td>PMOF</td>\n",
       "      <td>2010-10</td>\n",
       "    </tr>\n",
       "  </tbody>\n",
       "</table>\n",
       "</div>"
      ],
      "text/plain": [
       "    trans_dt        content_id           acct_id  price  purchase_device_id  \\\n",
       "0 2016-08-28  b6cf4f33e7455df4  220574a7a6a71afa  11.99                   1   \n",
       "1 2016-09-16  71ac3e9c38ddbbba  8551f69a5015ea6a   1.99                   2   \n",
       "2 2016-08-15  776b851b916c33d1  7dedf309494a1966   0.99                   2   \n",
       "3 2016-06-17  7a47ca132a8dc695  7174a81c796dcf7e   1.99                   2   \n",
       "4 2016-06-13  30581219bc952dbb  35aaf59d64a677e7  11.99                   2   \n",
       "\n",
       "  year_mon_trans device_name                  app_name            app_id  \\\n",
       "0        2016-08      iPhone           events Bildad's  61cea77b9bc843d1   \n",
       "1        2016-09        iPad        swell questionably  1f0ebd67df5846cd   \n",
       "2        2016-08        iPad  supperless--my Shipmates  1383e4f2f49f0f44   \n",
       "3        2016-06        iPad          unwritten hungry  8590a25d4e5c249c   \n",
       "4        2016-06        iPad           Turning thanked  478e10f9248b7842   \n",
       "\n",
       "    app_category  content_type act_create_dt payment_type year_mon_account  \n",
       "0      Utilities  subscription    2009-08-29         PMOF          2009-08  \n",
       "1      Utilities    consumable    2011-05-28         PMOF          2011-05  \n",
       "2          Games    consumable    2009-11-15         PMOF          2009-11  \n",
       "3          Games    consumable    2009-03-01         PMOF          2009-03  \n",
       "4  Entertainment    consumable    2010-10-01         PMOF          2010-10  "
      ]
     },
     "execution_count": 314,
     "metadata": {},
     "output_type": "execute_result"
    }
   ],
   "source": [
    "master.head()"
   ]
  },
  {
   "cell_type": "code",
   "execution_count": 320,
   "id": "0a7e4c66",
   "metadata": {},
   "outputs": [
    {
     "data": {
      "text/plain": [
       "trans_dt                    0\n",
       "content_id                  0\n",
       "acct_id                     0\n",
       "price                       0\n",
       "purchase_device_id          0\n",
       "year_mon_trans              0\n",
       "device_name                 0\n",
       "app_name              1594364\n",
       "app_id                1594364\n",
       "app_category          1594364\n",
       "content_type          1594364\n",
       "act_create_dt            2742\n",
       "payment_type             2742\n",
       "year_mon_account         2742\n",
       "age_on_pltfm             2742\n",
       "dtype: int64"
      ]
     },
     "execution_count": 320,
     "metadata": {},
     "output_type": "execute_result"
    }
   ],
   "source": [
    "master.isnull().sum()"
   ]
  },
  {
   "cell_type": "code",
   "execution_count": 321,
   "id": "a9975538",
   "metadata": {},
   "outputs": [
    {
     "data": {
      "text/plain": [
       "25"
      ]
     },
     "execution_count": 321,
     "metadata": {},
     "output_type": "execute_result"
    }
   ],
   "source": [
    "master[master.act_create_dt.isnull()].acct_id.nunique()"
   ]
  },
  {
   "cell_type": "code",
   "execution_count": 324,
   "id": "272b3b37",
   "metadata": {},
   "outputs": [
    {
     "data": {
      "text/plain": [
       "29975"
      ]
     },
     "execution_count": 324,
     "metadata": {},
     "output_type": "execute_result"
    }
   ],
   "source": [
    "master[~master.act_create_dt.isnull()].acct_id.nunique()"
   ]
  },
  {
   "cell_type": "markdown",
   "id": "2c3b6f9c",
   "metadata": {},
   "source": [
    "#### Note: 25 out of 30k accounts do not have a mapping to account created"
   ]
  },
  {
   "cell_type": "markdown",
   "id": "bbf759f3",
   "metadata": {},
   "source": [
    "### Create a new column as age on platform(transaction_dt- account_create_dt)"
   ]
  },
  {
   "cell_type": "code",
   "execution_count": 315,
   "id": "7edbbf83",
   "metadata": {},
   "outputs": [],
   "source": [
    "master['age_on_pltfm']=(master.trans_dt-master.act_create_dt).dt.days"
   ]
  },
  {
   "cell_type": "code",
   "execution_count": 316,
   "id": "b720fb60",
   "metadata": {},
   "outputs": [
    {
     "data": {
      "text/plain": [
       "<AxesSubplot:>"
      ]
     },
     "execution_count": 316,
     "metadata": {},
     "output_type": "execute_result"
    },
    {
     "data": {
      "image/png": "[encoded data removed]",
      "text/plain": [
       "<Figure size 432x288 with 1 Axes>"
      ]
     },
     "metadata": {
      "needs_background": "light"
     },
     "output_type": "display_data"
    }
   ],
   "source": [
    "# the below histogram is on number of transactions and not accounts\n",
    "master['age_on_pltfm'].hist()"
   ]
  },
  {
   "cell_type": "markdown",
   "id": "1f6a38b9",
   "metadata": {},
   "source": [
    "#### Finding: There are accounts with account create dates after transactions "
   ]
  },
  {
   "cell_type": "code",
   "execution_count": 340,
   "id": "c8a29adb",
   "metadata": {},
   "outputs": [
    {
     "data": {
      "text/plain": [
       "0.0647039272805695"
      ]
     },
     "execution_count": 340,
     "metadata": {},
     "output_type": "execute_result"
    }
   ],
   "source": [
    "sum(master.age_on_pltfm<0)/master.shape[0]"
   ]
  },
  {
   "cell_type": "code",
   "execution_count": 339,
   "id": "f4ba3b35",
   "metadata": {},
   "outputs": [
    {
     "data": {
      "text/plain": [
       "0.11623333333333333"
      ]
     },
     "execution_count": 339,
     "metadata": {},
     "output_type": "execute_result"
    }
   ],
   "source": [
    "master.acct_id[master.age_on_pltfm<0].nunique()/ 30000\n",
    "# master.acct_id[master.age_on_pltfm<0].nunique()\n"
   ]
  },
  {
   "cell_type": "markdown",
   "id": "5dc17835",
   "metadata": {},
   "source": [
    "#### There are  6.4 % transactions by 11.6 % accounts  displaying -ve age on platform"
   ]
  },
  {
   "cell_type": "code",
   "execution_count": 355,
   "id": "d5785f47",
   "metadata": {},
   "outputs": [
    {
     "data": {
      "text/html": [
       "<div>\n",
       "<style scoped>\n",
       "    .dataframe tbody tr th:only-of-type {\n",
       "        vertical-align: middle;\n",
       "    }\n",
       "\n",
       "    .dataframe tbody tr th {\n",
       "        vertical-align: top;\n",
       "    }\n",
       "\n",
       "    .dataframe thead th {\n",
       "        text-align: right;\n",
       "    }\n",
       "</style>\n",
       "<table border=\"1\" class=\"dataframe\">\n",
       "  <thead>\n",
       "    <tr style=\"text-align: right;\">\n",
       "      <th></th>\n",
       "      <th>trans_dt</th>\n",
       "      <th>content_id</th>\n",
       "      <th>acct_id</th>\n",
       "      <th>price</th>\n",
       "      <th>purchase_device_id</th>\n",
       "      <th>year_mon_trans</th>\n",
       "      <th>device_name</th>\n",
       "      <th>app_name</th>\n",
       "      <th>app_id</th>\n",
       "      <th>app_category</th>\n",
       "      <th>content_type</th>\n",
       "      <th>act_create_dt</th>\n",
       "      <th>payment_type</th>\n",
       "      <th>year_mon_account</th>\n",
       "      <th>age_on_pltfm</th>\n",
       "    </tr>\n",
       "  </thead>\n",
       "  <tbody>\n",
       "    <tr>\n",
       "      <th>0</th>\n",
       "      <td>2016-08-28</td>\n",
       "      <td>b6cf4f33e7455df4</td>\n",
       "      <td>220574a7a6a71afa</td>\n",
       "      <td>11.99</td>\n",
       "      <td>1</td>\n",
       "      <td>2016-08</td>\n",
       "      <td>iPhone</td>\n",
       "      <td>events Bildad's</td>\n",
       "      <td>61cea77b9bc843d1</td>\n",
       "      <td>Utilities</td>\n",
       "      <td>subscription</td>\n",
       "      <td>2009-08-29</td>\n",
       "      <td>PMOF</td>\n",
       "      <td>2009-08</td>\n",
       "      <td>2556.0</td>\n",
       "    </tr>\n",
       "    <tr>\n",
       "      <th>1</th>\n",
       "      <td>2016-09-16</td>\n",
       "      <td>71ac3e9c38ddbbba</td>\n",
       "      <td>8551f69a5015ea6a</td>\n",
       "      <td>1.99</td>\n",
       "      <td>2</td>\n",
       "      <td>2016-09</td>\n",
       "      <td>iPad</td>\n",
       "      <td>swell questionably</td>\n",
       "      <td>1f0ebd67df5846cd</td>\n",
       "      <td>Utilities</td>\n",
       "      <td>consumable</td>\n",
       "      <td>2011-05-28</td>\n",
       "      <td>PMOF</td>\n",
       "      <td>2011-05</td>\n",
       "      <td>1938.0</td>\n",
       "    </tr>\n",
       "    <tr>\n",
       "      <th>2</th>\n",
       "      <td>2016-08-15</td>\n",
       "      <td>776b851b916c33d1</td>\n",
       "      <td>7dedf309494a1966</td>\n",
       "      <td>0.99</td>\n",
       "      <td>2</td>\n",
       "      <td>2016-08</td>\n",
       "      <td>iPad</td>\n",
       "      <td>supperless--my Shipmates</td>\n",
       "      <td>1383e4f2f49f0f44</td>\n",
       "      <td>Games</td>\n",
       "      <td>consumable</td>\n",
       "      <td>2009-11-15</td>\n",
       "      <td>PMOF</td>\n",
       "      <td>2009-11</td>\n",
       "      <td>2465.0</td>\n",
       "    </tr>\n",
       "    <tr>\n",
       "      <th>3</th>\n",
       "      <td>2016-06-17</td>\n",
       "      <td>7a47ca132a8dc695</td>\n",
       "      <td>7174a81c796dcf7e</td>\n",
       "      <td>1.99</td>\n",
       "      <td>2</td>\n",
       "      <td>2016-06</td>\n",
       "      <td>iPad</td>\n",
       "      <td>unwritten hungry</td>\n",
       "      <td>8590a25d4e5c249c</td>\n",
       "      <td>Games</td>\n",
       "      <td>consumable</td>\n",
       "      <td>2009-03-01</td>\n",
       "      <td>PMOF</td>\n",
       "      <td>2009-03</td>\n",
       "      <td>2665.0</td>\n",
       "    </tr>\n",
       "    <tr>\n",
       "      <th>4</th>\n",
       "      <td>2016-06-13</td>\n",
       "      <td>30581219bc952dbb</td>\n",
       "      <td>35aaf59d64a677e7</td>\n",
       "      <td>11.99</td>\n",
       "      <td>2</td>\n",
       "      <td>2016-06</td>\n",
       "      <td>iPad</td>\n",
       "      <td>Turning thanked</td>\n",
       "      <td>478e10f9248b7842</td>\n",
       "      <td>Entertainment</td>\n",
       "      <td>consumable</td>\n",
       "      <td>2010-10-01</td>\n",
       "      <td>PMOF</td>\n",
       "      <td>2010-10</td>\n",
       "      <td>2082.0</td>\n",
       "    </tr>\n",
       "  </tbody>\n",
       "</table>\n",
       "</div>"
      ],
      "text/plain": [
       "    trans_dt        content_id           acct_id  price  purchase_device_id  \\\n",
       "0 2016-08-28  b6cf4f33e7455df4  220574a7a6a71afa  11.99                   1   \n",
       "1 2016-09-16  71ac3e9c38ddbbba  8551f69a5015ea6a   1.99                   2   \n",
       "2 2016-08-15  776b851b916c33d1  7dedf309494a1966   0.99                   2   \n",
       "3 2016-06-17  7a47ca132a8dc695  7174a81c796dcf7e   1.99                   2   \n",
       "4 2016-06-13  30581219bc952dbb  35aaf59d64a677e7  11.99                   2   \n",
       "\n",
       "  year_mon_trans device_name                  app_name            app_id  \\\n",
       "0        2016-08      iPhone           events Bildad's  61cea77b9bc843d1   \n",
       "1        2016-09        iPad        swell questionably  1f0ebd67df5846cd   \n",
       "2        2016-08        iPad  supperless--my Shipmates  1383e4f2f49f0f44   \n",
       "3        2016-06        iPad          unwritten hungry  8590a25d4e5c249c   \n",
       "4        2016-06        iPad           Turning thanked  478e10f9248b7842   \n",
       "\n",
       "    app_category  content_type act_create_dt payment_type year_mon_account  \\\n",
       "0      Utilities  subscription    2009-08-29         PMOF          2009-08   \n",
       "1      Utilities    consumable    2011-05-28         PMOF          2011-05   \n",
       "2          Games    consumable    2009-11-15         PMOF          2009-11   \n",
       "3          Games    consumable    2009-03-01         PMOF          2009-03   \n",
       "4  Entertainment    consumable    2010-10-01         PMOF          2010-10   \n",
       "\n",
       "   age_on_pltfm  \n",
       "0        2556.0  \n",
       "1        1938.0  \n",
       "2        2465.0  \n",
       "3        2665.0  \n",
       "4        2082.0  "
      ]
     },
     "execution_count": 355,
     "metadata": {},
     "output_type": "execute_result"
    }
   ],
   "source": [
    "master.head()"
   ]
  },
  {
   "cell_type": "code",
   "execution_count": 438,
   "id": "dbe50a9f",
   "metadata": {},
   "outputs": [
    {
     "data": {
      "text/plain": [
       "payment_type\n",
       "PMOF    14982\n",
       "Name: acct_id, dtype: int64"
      ]
     },
     "execution_count": 438,
     "metadata": {},
     "output_type": "execute_result"
    }
   ],
   "source": [
    "master[master.price>0].groupby('payment_type').acct_id.nunique()"
   ]
  },
  {
   "cell_type": "code",
   "execution_count": 439,
   "id": "7b8e8412",
   "metadata": {},
   "outputs": [
    {
     "data": {
      "text/plain": [
       "payment_type\n",
       "Free only    14993\n",
       "PMOF         14982\n",
       "Name: acct_id, dtype: int64"
      ]
     },
     "execution_count": 439,
     "metadata": {},
     "output_type": "execute_result"
    }
   ],
   "source": [
    "master[master.price==0].groupby('payment_type').acct_id.nunique()"
   ]
  },
  {
   "cell_type": "markdown",
   "id": "a4638444",
   "metadata": {},
   "source": [
    "## User level dataset"
   ]
  },
  {
   "cell_type": "code",
   "execution_count": 447,
   "id": "f4e70742",
   "metadata": {},
   "outputs": [
    {
     "data": {
      "text/html": [
       "<div>\n",
       "<style scoped>\n",
       "    .dataframe tbody tr th:only-of-type {\n",
       "        vertical-align: middle;\n",
       "    }\n",
       "\n",
       "    .dataframe tbody tr th {\n",
       "        vertical-align: top;\n",
       "    }\n",
       "\n",
       "    .dataframe thead th {\n",
       "        text-align: right;\n",
       "    }\n",
       "</style>\n",
       "<table border=\"1\" class=\"dataframe\">\n",
       "  <thead>\n",
       "    <tr style=\"text-align: right;\">\n",
       "      <th></th>\n",
       "      <th>acct_id</th>\n",
       "      <th>tot_trans_val</th>\n",
       "      <th>avg_trans_val</th>\n",
       "      <th>trans_freq</th>\n",
       "      <th>uniq_categ</th>\n",
       "      <th>payment_type</th>\n",
       "      <th>game_trans_count</th>\n",
       "    </tr>\n",
       "  </thead>\n",
       "  <tbody>\n",
       "    <tr>\n",
       "      <th>0</th>\n",
       "      <td>00028709c8d435ff</td>\n",
       "      <td>0.00</td>\n",
       "      <td>0.000000</td>\n",
       "      <td>71</td>\n",
       "      <td>0</td>\n",
       "      <td>Free only</td>\n",
       "      <td>0</td>\n",
       "    </tr>\n",
       "    <tr>\n",
       "      <th>1</th>\n",
       "      <td>0005a4d77127fde7</td>\n",
       "      <td>1048.69</td>\n",
       "      <td>7.490643</td>\n",
       "      <td>140</td>\n",
       "      <td>5</td>\n",
       "      <td>PMOF</td>\n",
       "      <td>62</td>\n",
       "    </tr>\n",
       "    <tr>\n",
       "      <th>2</th>\n",
       "      <td>0005c296f2605c08</td>\n",
       "      <td>1208.55</td>\n",
       "      <td>7.899020</td>\n",
       "      <td>153</td>\n",
       "      <td>5</td>\n",
       "      <td>PMOF</td>\n",
       "      <td>62</td>\n",
       "    </tr>\n",
       "    <tr>\n",
       "      <th>3</th>\n",
       "      <td>00082ad3dc50a70d</td>\n",
       "      <td>0.00</td>\n",
       "      <td>0.000000</td>\n",
       "      <td>76</td>\n",
       "      <td>0</td>\n",
       "      <td>Free only</td>\n",
       "      <td>0</td>\n",
       "    </tr>\n",
       "    <tr>\n",
       "      <th>4</th>\n",
       "      <td>00085ff73786df4d</td>\n",
       "      <td>1255.51</td>\n",
       "      <td>7.946266</td>\n",
       "      <td>158</td>\n",
       "      <td>5</td>\n",
       "      <td>PMOF</td>\n",
       "      <td>81</td>\n",
       "    </tr>\n",
       "  </tbody>\n",
       "</table>\n",
       "</div>"
      ],
      "text/plain": [
       "            acct_id  tot_trans_val  avg_trans_val  trans_freq  uniq_categ  \\\n",
       "0  00028709c8d435ff           0.00       0.000000          71           0   \n",
       "1  0005a4d77127fde7        1048.69       7.490643         140           5   \n",
       "2  0005c296f2605c08        1208.55       7.899020         153           5   \n",
       "3  00082ad3dc50a70d           0.00       0.000000          76           0   \n",
       "4  00085ff73786df4d        1255.51       7.946266         158           5   \n",
       "\n",
       "  payment_type  game_trans_count  \n",
       "0    Free only                 0  \n",
       "1         PMOF                62  \n",
       "2         PMOF                62  \n",
       "3    Free only                 0  \n",
       "4         PMOF                81  "
      ]
     },
     "execution_count": 447,
     "metadata": {},
     "output_type": "execute_result"
    }
   ],
   "source": [
    "user_dtst=master.groupby('acct_id').agg(\n",
    "                                        tot_trans_val=('price', lambda x: sum(x)),        \n",
    "                                        avg_trans_val=('price', 'mean'),\n",
    "                                        trans_freq=('price', 'count'),\n",
    "                                        uniq_categ=('app_category','nunique'),\n",
    "                                        payment_type=('payment_type','min'),\n",
    "                                        game_trans_count=('app_category', lambda x:sum(np.where(x=='Games',1,0)))\n",
    "                                        ).reset_index()\n",
    "user_dtst.head()"
   ]
  },
  {
   "cell_type": "markdown",
   "id": "17d1e8d1",
   "metadata": {},
   "source": [
    "### Payer non payer proportions in data"
   ]
  },
  {
   "cell_type": "code",
   "execution_count": 398,
   "id": "8547eb5d",
   "metadata": {},
   "outputs": [
    {
     "data": {
      "text/plain": [
       "0.5002333333333333"
      ]
     },
     "execution_count": 398,
     "metadata": {},
     "output_type": "execute_result"
    }
   ],
   "source": [
    "sum(user_dtst.tot_trans_val==0)/user_dtst.shape[0]"
   ]
  },
  {
   "cell_type": "markdown",
   "id": "b761a4f9",
   "metadata": {},
   "source": [
    "#### Note: The dataset has 50% payers and 50% non payers"
   ]
  },
  {
   "cell_type": "markdown",
   "id": "dc6149b3",
   "metadata": {},
   "source": [
    "### Distribution of total spend across payers"
   ]
  },
  {
   "cell_type": "code",
   "execution_count": 399,
   "id": "55cfee24",
   "metadata": {},
   "outputs": [
    {
     "data": {
      "text/plain": [
       "<AxesSubplot:>"
      ]
     },
     "execution_count": 399,
     "metadata": {},
     "output_type": "execute_result"
    },
    {
     "data": {
      "image/png": "[encoded data removed]",
      "text/plain": [
       "<Figure size 432x288 with 1 Axes>"
      ]
     },
     "metadata": {
      "needs_background": "light"
     },
     "output_type": "display_data"
    }
   ],
   "source": [
    "user_dtst[user_dtst.tot_trans_val>0].tot_trans_val.hist()"
   ]
  },
  {
   "cell_type": "markdown",
   "id": "22f8f2a5",
   "metadata": {},
   "source": [
    "#### Outliers skew the distribution so creating 100 buckets based on total spend ranks"
   ]
  },
  {
   "cell_type": "code",
   "execution_count": 448,
   "id": "26ea0807",
   "metadata": {},
   "outputs": [],
   "source": [
    "user_dtst['per_tot_spend']=user_dtst.tot_trans_val.rank(pct=True, method='dense')\n",
    "user_dtst['per_tot_spend_100']=round(user_dtst.tot_trans_val.rank(pct=True, method='dense'),2)"
   ]
  },
  {
   "cell_type": "code",
   "execution_count": 449,
   "id": "3b11a99e",
   "metadata": {},
   "outputs": [
    {
     "data": {
      "text/plain": [
       "<AxesSubplot:title={'center':'Total Spend for payers across 100 ranked buckets'}, xlabel='per_tot_spend_100'>"
      ]
     },
     "execution_count": 449,
     "metadata": {},
     "output_type": "execute_result"
    },
    {
     "data": {
      "image/png": "[encoded data removed]",
      "text/plain": [
       "<Figure size 432x288 with 1 Axes>"
      ]
     },
     "metadata": {
      "needs_background": "light"
     },
     "output_type": "display_data"
    }
   ],
   "source": [
    "user_dtst[user_dtst.tot_trans_val>0].groupby('per_tot_spend_100').tot_trans_val.mean().plot(logy=True, title='Total Spend for payers across 100 ranked buckets')"
   ]
  },
  {
   "cell_type": "markdown",
   "id": "3e10fdfd",
   "metadata": {},
   "source": [
    "#### Remove last 2 %ile and check distribution for payers"
   ]
  },
  {
   "cell_type": "code",
   "execution_count": 450,
   "id": "03c0dcdd",
   "metadata": {},
   "outputs": [
    {
     "data": {
      "text/plain": [
       "<AxesSubplot:>"
      ]
     },
     "execution_count": 450,
     "metadata": {},
     "output_type": "execute_result"
    },
    {
     "data": {
      "image/png": "[encoded data removed]",
      "text/plain": [
       "<Figure size 432x288 with 1 Axes>"
      ]
     },
     "metadata": {
      "needs_background": "light"
     },
     "output_type": "display_data"
    }
   ],
   "source": [
    "outlier_filter = user_dtst.per_tot_spend_100 < 0.98 \n",
    "payer_filter = user_dtst.tot_trans_val>0\n",
    "user_dtst[payer_filter & outlier_filter].tot_trans_val.hist()"
   ]
  },
  {
   "cell_type": "markdown",
   "id": "2623b23e",
   "metadata": {},
   "source": [
    "#### Distribution of Whales"
   ]
  },
  {
   "cell_type": "code",
   "execution_count": 393,
   "id": "af92b45c",
   "metadata": {},
   "outputs": [
    {
     "data": {
      "text/plain": [
       "<AxesSubplot:>"
      ]
     },
     "execution_count": 393,
     "metadata": {},
     "output_type": "execute_result"
    },
    {
     "data": {
      "image/png": "[encoded data removed]",
      "text/plain": [
       "<Figure size 432x288 with 1 Axes>"
      ]
     },
     "metadata": {
      "needs_background": "light"
     },
     "output_type": "display_data"
    }
   ],
   "source": [
    "user_dtst[(user_dtst.per_tot_spend_100 >= 0.98) & (user_dtst.tot_trans_val>0)].tot_trans_val.hist()"
   ]
  },
  {
   "cell_type": "markdown",
   "id": "2723642e",
   "metadata": {},
   "source": [
    "#### Relationsip between Game apps and total spend"
   ]
  },
  {
   "cell_type": "code",
   "execution_count": 462,
   "id": "a92a3d59",
   "metadata": {},
   "outputs": [
    {
     "data": {
      "text/plain": [
       "Text(0, 0.5, 'Total Spend')"
      ]
     },
     "execution_count": 462,
     "metadata": {},
     "output_type": "execute_result"
    },
    {
     "data": {
      "image/png": "[encoded data removed]",
      "text/plain": [
       "<Figure size 432x288 with 1 Axes>"
      ]
     },
     "metadata": {
      "needs_background": "light"
     },
     "output_type": "display_data"
    }
   ],
   "source": [
    "plt.scatter(x=user_dtst[outlier_filter & payer_filter].game_trans_count,y=user_dtst[outlier_filter & payer_filter].tot_trans_val)\n",
    "plt.xlabel('No of transactions on Games')\n",
    "plt.ylabel('Total Spend')"
   ]
  },
  {
   "cell_type": "code",
   "execution_count": 463,
   "id": "929fa7b9",
   "metadata": {},
   "outputs": [
    {
     "data": {
      "text/plain": [
       "Text(0, 0.5, 'Total Spend')"
      ]
     },
     "execution_count": 463,
     "metadata": {},
     "output_type": "execute_result"
    },
    {
     "data": {
      "image/png": "[encoded data removed]",
      "text/plain": [
       "<Figure size 432x288 with 1 Axes>"
      ]
     },
     "metadata": {
      "needs_background": "light"
     },
     "output_type": "display_data"
    }
   ],
   "source": [
    "plt.scatter(x=user_dtst[outlier_filter & payer_filter].uniq_categ,y=user_dtst[outlier_filter & payer_filter].tot_trans_val)\n",
    "plt.xlabel('No of transactions on Games')\n",
    "plt.ylabel('Total Spend')"
   ]
  }
 ],
 "metadata": {
  "kernelspec": {
   "display_name": "Python 3 (ipykernel)",
   "language": "python",
   "name": "python3"
  },
  "language_info": {
   "codemirror_mode": {
    "name": "ipython",
    "version": 3
   },
   "file_extension": ".py",
   "mimetype": "text/x-python",
   "name": "python",
   "nbconvert_exporter": "python",
   "pygments_lexer": "ipython3",
   "version": "3.9.7"
  }
 },
 "nbformat": 4,
 "nbformat_minor": 5
}
