{
 "cells": [
  {
   "cell_type": "code",
   "execution_count": null,
   "id": "3f88e33a",
   "metadata": {},
   "outputs": [],
   "source": []
  },
  {
   "cell_type": "code",
   "execution_count": null,
   "id": "6a94e019",
   "metadata": {},
   "outputs": [],
   "source": [
    "Counts: Users, payers, apps"
   ]
  },
  {
   "cell_type": "code",
   "execution_count": null,
   "id": "1cf340bd",
   "metadata": {},
   "outputs": [],
   "source": [
    "%age payers\n",
    "Active apps:\n",
    "    No install since last 90 days\n",
    "Active payers:\n",
    "    No payment in last 90 days\n",
    "\n",
    "\n",
    "Avg transactions value\n",
    "Transaction dist\n",
    "\n",
    "Avg no of apps per user\n",
    "\n",
    "Apps by revenue\n",
    "\n",
    "Dist of users across apps\n",
    "Dist of payers across apps\n",
    "\n",
    "\n"
   ]
  },
  {
   "cell_type": "code",
   "execution_count": null,
   "id": "e957ced6",
   "metadata": {},
   "outputs": [],
   "source": []
  }
 ],
 "metadata": {
  "kernelspec": {
   "display_name": "Python 3 (ipykernel)",
   "language": "python",
   "name": "python3"
  },
  "language_info": {
   "codemirror_mode": {
    "name": "ipython",
    "version": 3
   },
   "file_extension": ".py",
   "mimetype": "text/x-python",
   "name": "python",
   "nbconvert_exporter": "python",
   "pygments_lexer": "ipython3",
   "version": "3.9.7"
  }
 },
 "nbformat": 4,
 "nbformat_minor": 5
}
