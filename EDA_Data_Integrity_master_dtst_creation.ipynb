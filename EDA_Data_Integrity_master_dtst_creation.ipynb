{
 "cells": [
  {
   "cell_type": "code",
   "execution_count": 32,
   "id": "e11f51f5",
   "metadata": {},
   "outputs": [],
   "source": [
    "import pandas as pd\n",
    "import numpy as np\n",
    "import matplotlib.pyplot as plt\n",
    "import matplotlib as mpl\n",
    "import matplotlib.dates as mdates"
   ]
  },
  {
   "cell_type": "markdown",
   "id": "c87f939d",
   "metadata": {},
   "source": [
    "## Reading in Data and housekeeping"
   ]
  },
  {
   "cell_type": "code",
   "execution_count": 33,
   "id": "e4d50f06",
   "metadata": {},
   "outputs": [],
   "source": [
    "accounts = pd.read_csv('account_dat.csv')\n",
    "apps=pd.read_csv('app_dat.csv')\n",
    "in_app_cont=pd.read_csv('in-app_dat.csv')\n",
    "devices=pd.read_csv('device_ref.csv')\n",
    "categories=pd.read_csv('category_ref.csv')\n",
    "trans=pd.read_csv('transaction_dat.csv')\n",
    "\n",
    "accounts.create_dt = pd.to_datetime(accounts.create_dt)\n",
    "trans.create_dt = pd.to_datetime(trans.create_dt)\n",
    "\n",
    "# Create year_month to analyze trends across time\n",
    "accounts['year_mon_account'] = pd.to_datetime(accounts.create_dt).dt.to_period('M')\n",
    "trans['year_mon_trans'] = pd.to_datetime(trans.create_dt).dt.to_period('M')\n",
    "\n",
    "#rename vars to more logical names\n",
    "accounts=accounts.rename(columns={'create_dt':'act_create_dt'})\n",
    "categories=categories.rename(columns={'category_name':'app_category'})\n",
    "apps=apps.rename(columns={'content_id':'app_id'})\n",
    "in_app_cont=in_app_cont.rename(columns={'parent_app_content_id':'app_id','type':'content_type'})\n",
    "trans=trans.rename(columns={'device_id':'purchase_device_id', 'create_dt':'trans_dt'})"
   ]
  },
  {
   "cell_type": "markdown",
   "id": "2ae95525",
   "metadata": {},
   "source": [
    "## Looking at accounts data"
   ]
  },
  {
   "cell_type": "code",
   "execution_count": 34,
   "id": "cbc74460",
   "metadata": {},
   "outputs": [
    {
     "data": {
      "text/html": [
       "<div>\n",
       "<style scoped>\n",
       "    .dataframe tbody tr th:only-of-type {\n",
       "        vertical-align: middle;\n",
       "    }\n",
       "\n",
       "    .dataframe tbody tr th {\n",
       "        vertical-align: top;\n",
       "    }\n",
       "\n",
       "    .dataframe thead th {\n",
       "        text-align: right;\n",
       "    }\n",
       "</style>\n",
       "<table border=\"1\" class=\"dataframe\">\n",
       "  <thead>\n",
       "    <tr style=\"text-align: right;\">\n",
       "      <th></th>\n",
       "      <th>acct_id</th>\n",
       "      <th>act_create_dt</th>\n",
       "      <th>payment_type</th>\n",
       "      <th>year_mon_account</th>\n",
       "    </tr>\n",
       "  </thead>\n",
       "  <tbody>\n",
       "    <tr>\n",
       "      <th>0</th>\n",
       "      <td>eb23e449d274bddb</td>\n",
       "      <td>2012-04-03</td>\n",
       "      <td>PMOF</td>\n",
       "      <td>2012-04</td>\n",
       "    </tr>\n",
       "    <tr>\n",
       "      <th>1</th>\n",
       "      <td>3d60dcb8494a0d70</td>\n",
       "      <td>2009-08-31</td>\n",
       "      <td>PMOF</td>\n",
       "      <td>2009-08</td>\n",
       "    </tr>\n",
       "    <tr>\n",
       "      <th>2</th>\n",
       "      <td>9b6d6fbf76504d85</td>\n",
       "      <td>2008-11-06</td>\n",
       "      <td>PMOF</td>\n",
       "      <td>2008-11</td>\n",
       "    </tr>\n",
       "    <tr>\n",
       "      <th>3</th>\n",
       "      <td>343255370828b380</td>\n",
       "      <td>2012-01-03</td>\n",
       "      <td>PMOF</td>\n",
       "      <td>2012-01</td>\n",
       "    </tr>\n",
       "    <tr>\n",
       "      <th>4</th>\n",
       "      <td>664e27f05189c387</td>\n",
       "      <td>2010-10-31</td>\n",
       "      <td>PMOF</td>\n",
       "      <td>2010-10</td>\n",
       "    </tr>\n",
       "  </tbody>\n",
       "</table>\n",
       "</div>"
      ],
      "text/plain": [
       "            acct_id act_create_dt payment_type year_mon_account\n",
       "0  eb23e449d274bddb    2012-04-03         PMOF          2012-04\n",
       "1  3d60dcb8494a0d70    2009-08-31         PMOF          2009-08\n",
       "2  9b6d6fbf76504d85    2008-11-06         PMOF          2008-11\n",
       "3  343255370828b380    2012-01-03         PMOF          2012-01\n",
       "4  664e27f05189c387    2010-10-31         PMOF          2010-10"
      ]
     },
     "execution_count": 34,
     "metadata": {},
     "output_type": "execute_result"
    }
   ],
   "source": [
    "accounts.head()"
   ]
  },
  {
   "cell_type": "code",
   "execution_count": 35,
   "id": "df44145c",
   "metadata": {},
   "outputs": [
    {
     "data": {
      "text/plain": [
       "payment_type\n",
       "Free only    50000\n",
       "PMOF         50000\n",
       "Name: acct_id, dtype: int64"
      ]
     },
     "execution_count": 35,
     "metadata": {},
     "output_type": "execute_result"
    }
   ],
   "source": [
    "accounts.groupby('payment_type').acct_id.nunique()"
   ]
  },
  {
   "cell_type": "code",
   "execution_count": 36,
   "id": "c7819c9f",
   "metadata": {},
   "outputs": [
    {
     "data": {
      "text/plain": [
       "<AxesSubplot:title={'center':'Accounts across Time'}, xlabel='year_mon_account'>"
      ]
     },
     "execution_count": 36,
     "metadata": {},
     "output_type": "execute_result"
    },
    {
     "data": {
      "image/png": "[encoded data removed]",
      "text/plain": [
       "<Figure size 432x288 with 1 Axes>"
      ]
     },
     "metadata": {
      "needs_background": "light"
     },
     "output_type": "display_data"
    }
   ],
   "source": [
    "accounts.groupby('year_mon_account').acct_id.count().plot(title='Accounts across Time')"
   ]
  },
  {
   "cell_type": "code",
   "execution_count": 37,
   "id": "8364080e",
   "metadata": {},
   "outputs": [
    {
     "data": {
      "image/png": "[encoded data removed]",
      "text/plain": [
       "<Figure size 720x432 with 1 Axes>"
      ]
     },
     "metadata": {
      "needs_background": "light"
     },
     "output_type": "display_data"
    }
   ],
   "source": [
    "pd.plotting.register_matplotlib_converters()\n",
    "series1_y=accounts[accounts.payment_type=='PMOF'].groupby('year_mon_account').acct_id.count().values\n",
    "series1_x=accounts[accounts.payment_type=='PMOF'].groupby('year_mon_account').acct_id.count().index.values.astype('datetime64[ns]')\n",
    "\n",
    "\n",
    "series2_y=accounts[accounts.payment_type=='Free only'].groupby('year_mon_account').acct_id.count().values\n",
    "series2_x=accounts[accounts.payment_type=='Free only'].groupby('year_mon_account').acct_id.count().index.values.astype('datetime64[ns]') \n",
    "\n",
    "fig, ax = plt.subplots(figsize=(10, 6))\n",
    "plt.plot(series1_x,series1_y, label='PMOF accounts')\n",
    "plt.plot(series2_x,series2_y, label='Free accounts')\n",
    "\n",
    "# fig, ax = plt.subplots(figsize=(10, 6))\n",
    "# ax.xaxis.set_major_formatter(mdates.DateFormatter('%Y'))\n",
    "\n",
    "plt.legend()\n",
    "plt.title('Account types across created date')\n",
    "plt.show()"
   ]
  },
  {
   "cell_type": "markdown",
   "id": "97ac676c",
   "metadata": {},
   "source": [
    "### Finding\n",
    "- 100k accounts have been provided with 50k free accounts and 50k accounts with PMOF\n",
    "- Accounts with PMOF decline in 2013 and similarly free accounts start after 2013\n",
    "- This might be due to a change in option requiring PMOF to create accounts before 2013 or probably is just due to the way data is pulled"
   ]
  },
  {
   "cell_type": "markdown",
   "id": "f71497bd",
   "metadata": {},
   "source": [
    "## Looking at Transactions"
   ]
  },
  {
   "cell_type": "code",
   "execution_count": 38,
   "id": "9ce61546",
   "metadata": {},
   "outputs": [
    {
     "data": {
      "text/html": [
       "<div>\n",
       "<style scoped>\n",
       "    .dataframe tbody tr th:only-of-type {\n",
       "        vertical-align: middle;\n",
       "    }\n",
       "\n",
       "    .dataframe tbody tr th {\n",
       "        vertical-align: top;\n",
       "    }\n",
       "\n",
       "    .dataframe thead th {\n",
       "        text-align: right;\n",
       "    }\n",
       "</style>\n",
       "<table border=\"1\" class=\"dataframe\">\n",
       "  <thead>\n",
       "    <tr style=\"text-align: right;\">\n",
       "      <th></th>\n",
       "      <th>trans_dt</th>\n",
       "      <th>content_id</th>\n",
       "      <th>acct_id</th>\n",
       "      <th>price</th>\n",
       "      <th>purchase_device_id</th>\n",
       "      <th>year_mon_trans</th>\n",
       "    </tr>\n",
       "  </thead>\n",
       "  <tbody>\n",
       "    <tr>\n",
       "      <th>0</th>\n",
       "      <td>2016-08-28</td>\n",
       "      <td>b6cf4f33e7455df4</td>\n",
       "      <td>220574a7a6a71afa</td>\n",
       "      <td>11.99</td>\n",
       "      <td>1</td>\n",
       "      <td>2016-08</td>\n",
       "    </tr>\n",
       "    <tr>\n",
       "      <th>1</th>\n",
       "      <td>2016-09-16</td>\n",
       "      <td>71ac3e9c38ddbbba</td>\n",
       "      <td>8551f69a5015ea6a</td>\n",
       "      <td>1.99</td>\n",
       "      <td>2</td>\n",
       "      <td>2016-09</td>\n",
       "    </tr>\n",
       "    <tr>\n",
       "      <th>2</th>\n",
       "      <td>2016-08-15</td>\n",
       "      <td>776b851b916c33d1</td>\n",
       "      <td>7dedf309494a1966</td>\n",
       "      <td>0.99</td>\n",
       "      <td>2</td>\n",
       "      <td>2016-08</td>\n",
       "    </tr>\n",
       "    <tr>\n",
       "      <th>3</th>\n",
       "      <td>2016-06-17</td>\n",
       "      <td>7a47ca132a8dc695</td>\n",
       "      <td>7174a81c796dcf7e</td>\n",
       "      <td>1.99</td>\n",
       "      <td>2</td>\n",
       "      <td>2016-06</td>\n",
       "    </tr>\n",
       "    <tr>\n",
       "      <th>4</th>\n",
       "      <td>2016-06-13</td>\n",
       "      <td>30581219bc952dbb</td>\n",
       "      <td>35aaf59d64a677e7</td>\n",
       "      <td>11.99</td>\n",
       "      <td>2</td>\n",
       "      <td>2016-06</td>\n",
       "    </tr>\n",
       "  </tbody>\n",
       "</table>\n",
       "</div>"
      ],
      "text/plain": [
       "    trans_dt        content_id           acct_id  price  purchase_device_id  \\\n",
       "0 2016-08-28  b6cf4f33e7455df4  220574a7a6a71afa  11.99                   1   \n",
       "1 2016-09-16  71ac3e9c38ddbbba  8551f69a5015ea6a   1.99                   2   \n",
       "2 2016-08-15  776b851b916c33d1  7dedf309494a1966   0.99                   2   \n",
       "3 2016-06-17  7a47ca132a8dc695  7174a81c796dcf7e   1.99                   2   \n",
       "4 2016-06-13  30581219bc952dbb  35aaf59d64a677e7  11.99                   2   \n",
       "\n",
       "  year_mon_trans  \n",
       "0        2016-08  \n",
       "1        2016-09  \n",
       "2        2016-08  \n",
       "3        2016-06  \n",
       "4        2016-06  "
      ]
     },
     "execution_count": 38,
     "metadata": {},
     "output_type": "execute_result"
    }
   ],
   "source": [
    "trans.head()"
   ]
  },
  {
   "cell_type": "code",
   "execution_count": 39,
   "id": "45fa278a",
   "metadata": {},
   "outputs": [
    {
     "data": {
      "text/plain": [
       "<AxesSubplot:title={'center':'Transactions/Downloads across time'}, xlabel='year_mon_trans'>"
      ]
     },
     "execution_count": 39,
     "metadata": {},
     "output_type": "execute_result"
    },
    {
     "data": {
      "image/png": "[encoded data removed]",
      "text/plain": [
       "<Figure size 432x288 with 1 Axes>"
      ]
     },
     "metadata": {
      "needs_background": "light"
     },
     "output_type": "display_data"
    }
   ],
   "source": [
    "trans.groupby('year_mon_trans').price.sum().plot(title='Transactions/Downloads across time')"
   ]
  },
  {
   "cell_type": "markdown",
   "id": "d9d7c09c",
   "metadata": {},
   "source": [
    "#### Distribution of transaction $ value"
   ]
  },
  {
   "cell_type": "code",
   "execution_count": 40,
   "id": "1b94fe39",
   "metadata": {},
   "outputs": [
    {
     "data": {
      "text/plain": [
       "Text(0.5, 1.0, 'Distribution of transaction $ value')"
      ]
     },
     "execution_count": 40,
     "metadata": {},
     "output_type": "execute_result"
    },
    {
     "data": {
      "image/png": "[encoded data removed]",
      "text/plain": [
       "<Figure size 432x288 with 1 Axes>"
      ]
     },
     "metadata": {
      "needs_background": "light"
     },
     "output_type": "display_data"
    }
   ],
   "source": [
    "trans.price.hist()\n",
    "plt.title('Distribution of transaction $ value')"
   ]
  },
  {
   "cell_type": "code",
   "execution_count": 41,
   "id": "4f69e89f",
   "metadata": {},
   "outputs": [
    {
     "data": {
      "text/plain": [
       "<AxesSubplot:>"
      ]
     },
     "execution_count": 41,
     "metadata": {},
     "output_type": "execute_result"
    },
    {
     "data": {
      "image/png": "[encoded data removed]",
      "text/plain": [
       "<Figure size 432x288 with 1 Axes>"
      ]
     },
     "metadata": {
      "needs_background": "light"
     },
     "output_type": "display_data"
    }
   ],
   "source": [
    "# Non zero transactions distribution\n",
    "trans[trans.price>0].price.hist()\n"
   ]
  },
  {
   "cell_type": "code",
   "execution_count": 42,
   "id": "65bd775b",
   "metadata": {},
   "outputs": [
    {
     "name": "stdout",
     "output_type": "stream",
     "text": [
      "Percent transactions that are free: 0.36\n"
     ]
    }
   ],
   "source": [
    "# Percent zero transactions\n",
    "print('Percent transactions that are free: ' + str(round(sum(trans.price==0)/trans.shape[0],2)))"
   ]
  },
  {
   "cell_type": "markdown",
   "id": "91adee53",
   "metadata": {},
   "source": [
    "#### Percent Transactions across devices"
   ]
  },
  {
   "cell_type": "code",
   "execution_count": 43,
   "id": "52e9c5ad",
   "metadata": {},
   "outputs": [
    {
     "data": {
      "text/plain": [
       "Text(0.5, 1.0, 'Split of transactions across Devices')"
      ]
     },
     "execution_count": 43,
     "metadata": {},
     "output_type": "execute_result"
    },
    {
     "data": {
      "image/png": "[encoded data removed]",
      "text/plain": [
       "<Figure size 432x288 with 1 Axes>"
      ]
     },
     "metadata": {
      "needs_background": "light"
     },
     "output_type": "display_data"
    }
   ],
   "source": [
    "total_trans=trans.shape[0]\n",
    "y=(trans.groupby('purchase_device_id').purchase_device_id.count().values)/total_trans\n",
    "x=trans.groupby('purchase_device_id').purchase_device_id.count().index\n",
    "plt.bar(x,y)\n",
    "plt.xticks([1,2],['iPhone','iPad'])\n",
    "plt.ylabel('% Transactiosn')\n",
    "plt.title('Split of transactions across Devices')\n",
    "# print(trans.groupby('purchase_device_id').acct_id.nunique())\n",
    "# trans.acct_id.nunique()\n"
   ]
  },
  {
   "cell_type": "code",
   "execution_count": 44,
   "id": "072a0ae6",
   "metadata": {},
   "outputs": [
    {
     "name": "stdout",
     "output_type": "stream",
     "text": [
      "%age transactiosn on iphone: 0.7246983999208318\n",
      "%age transactiosn on ipad: 0.2753016000791682\n"
     ]
    }
   ],
   "source": [
    "print('%age transactiosn on iphone: '+ str(y[0]))\n",
    "print('%age transactiosn on ipad: '+ str(y[1]))"
   ]
  },
  {
   "cell_type": "markdown",
   "id": "950387ae",
   "metadata": {},
   "source": [
    "#### Accounts with tranascations/downloads across one/multiple devices"
   ]
  },
  {
   "cell_type": "code",
   "execution_count": 45,
   "id": "34de855a",
   "metadata": {},
   "outputs": [
    {
     "data": {
      "text/html": [
       "<div>\n",
       "<style scoped>\n",
       "    .dataframe tbody tr th:only-of-type {\n",
       "        vertical-align: middle;\n",
       "    }\n",
       "\n",
       "    .dataframe tbody tr th {\n",
       "        vertical-align: top;\n",
       "    }\n",
       "\n",
       "    .dataframe thead th {\n",
       "        text-align: right;\n",
       "    }\n",
       "</style>\n",
       "<table border=\"1\" class=\"dataframe\">\n",
       "  <thead>\n",
       "    <tr style=\"text-align: right;\">\n",
       "      <th></th>\n",
       "      <th>acct_id</th>\n",
       "      <th>purchase_device_id</th>\n",
       "    </tr>\n",
       "  </thead>\n",
       "  <tbody>\n",
       "    <tr>\n",
       "      <th>0</th>\n",
       "      <td>00028709c8d435ff</td>\n",
       "      <td>2</td>\n",
       "    </tr>\n",
       "    <tr>\n",
       "      <th>1</th>\n",
       "      <td>0005a4d77127fde7</td>\n",
       "      <td>2</td>\n",
       "    </tr>\n",
       "    <tr>\n",
       "      <th>2</th>\n",
       "      <td>0005c296f2605c08</td>\n",
       "      <td>2</td>\n",
       "    </tr>\n",
       "    <tr>\n",
       "      <th>3</th>\n",
       "      <td>00082ad3dc50a70d</td>\n",
       "      <td>2</td>\n",
       "    </tr>\n",
       "    <tr>\n",
       "      <th>4</th>\n",
       "      <td>00085ff73786df4d</td>\n",
       "      <td>2</td>\n",
       "    </tr>\n",
       "  </tbody>\n",
       "</table>\n",
       "</div>"
      ],
      "text/plain": [
       "            acct_id  purchase_device_id\n",
       "0  00028709c8d435ff                   2\n",
       "1  0005a4d77127fde7                   2\n",
       "2  0005c296f2605c08                   2\n",
       "3  00082ad3dc50a70d                   2\n",
       "4  00085ff73786df4d                   2"
      ]
     },
     "execution_count": 45,
     "metadata": {},
     "output_type": "execute_result"
    }
   ],
   "source": [
    "acct_dev=pd.DataFrame(trans.groupby('acct_id').purchase_device_id.nunique()).reset_index()\n",
    "acct_dev.head()"
   ]
  },
  {
   "cell_type": "code",
   "execution_count": 46,
   "id": "f95af588",
   "metadata": {},
   "outputs": [
    {
     "data": {
      "text/html": [
       "<div>\n",
       "<style scoped>\n",
       "    .dataframe tbody tr th:only-of-type {\n",
       "        vertical-align: middle;\n",
       "    }\n",
       "\n",
       "    .dataframe tbody tr th {\n",
       "        vertical-align: top;\n",
       "    }\n",
       "\n",
       "    .dataframe thead th {\n",
       "        text-align: right;\n",
       "    }\n",
       "</style>\n",
       "<table border=\"1\" class=\"dataframe\">\n",
       "  <thead>\n",
       "    <tr style=\"text-align: right;\">\n",
       "      <th></th>\n",
       "      <th>acct_id</th>\n",
       "    </tr>\n",
       "    <tr>\n",
       "      <th>purchase_device_id</th>\n",
       "      <th></th>\n",
       "    </tr>\n",
       "  </thead>\n",
       "  <tbody>\n",
       "    <tr>\n",
       "      <th>2</th>\n",
       "      <td>30000</td>\n",
       "    </tr>\n",
       "  </tbody>\n",
       "</table>\n",
       "</div>"
      ],
      "text/plain": [
       "                    acct_id\n",
       "purchase_device_id         \n",
       "2                     30000"
      ]
     },
     "execution_count": 46,
     "metadata": {},
     "output_type": "execute_result"
    }
   ],
   "source": [
    "acct_dev.groupby('purchase_device_id').count()"
   ]
  },
  {
   "cell_type": "code",
   "execution_count": null,
   "id": "c7f7f4a3",
   "metadata": {},
   "outputs": [],
   "source": []
  },
  {
   "cell_type": "code",
   "execution_count": null,
   "id": "dd2827fa",
   "metadata": {},
   "outputs": [],
   "source": []
  },
  {
   "cell_type": "markdown",
   "id": "30ba1ffe",
   "metadata": {},
   "source": [
    "### Finding\n",
    "- Transactions/Downloads for 30k accounts has been provided\n",
    "- All transactions/downloads are between June 2016 and Sep 2016\n",
    "- Transaction/Download counts have a left skew as expected\n",
    "- Most transactions happen on iphone(72.5%) than ipad(27.5%)\n",
    "- All accounts with transactions have both iPhone and ipad\n",
    "- 36% tranasactions are free"
   ]
  },
  {
   "cell_type": "markdown",
   "id": "57b41968",
   "metadata": {},
   "source": [
    "## Looking at apps"
   ]
  },
  {
   "cell_type": "code",
   "execution_count": 47,
   "id": "8c4c975c",
   "metadata": {},
   "outputs": [
    {
     "data": {
      "text/html": [
       "<div>\n",
       "<style scoped>\n",
       "    .dataframe tbody tr th:only-of-type {\n",
       "        vertical-align: middle;\n",
       "    }\n",
       "\n",
       "    .dataframe tbody tr th {\n",
       "        vertical-align: top;\n",
       "    }\n",
       "\n",
       "    .dataframe thead th {\n",
       "        text-align: right;\n",
       "    }\n",
       "</style>\n",
       "<table border=\"1\" class=\"dataframe\">\n",
       "  <thead>\n",
       "    <tr style=\"text-align: right;\">\n",
       "      <th></th>\n",
       "      <th>app_name</th>\n",
       "      <th>app_id</th>\n",
       "      <th>category_id</th>\n",
       "      <th>device_id</th>\n",
       "    </tr>\n",
       "  </thead>\n",
       "  <tbody>\n",
       "    <tr>\n",
       "      <th>0</th>\n",
       "      <td>half-slouched having</td>\n",
       "      <td>22dfac9721b899cb</td>\n",
       "      <td>Y-8</td>\n",
       "      <td>3</td>\n",
       "    </tr>\n",
       "    <tr>\n",
       "      <th>1</th>\n",
       "      <td>lift whale-ships</td>\n",
       "      <td>7c645810cd7f166e</td>\n",
       "      <td>M-7</td>\n",
       "      <td>3</td>\n",
       "    </tr>\n",
       "    <tr>\n",
       "      <th>2</th>\n",
       "      <td>mightily community</td>\n",
       "      <td>c495bcb878faffaa</td>\n",
       "      <td>Y-8</td>\n",
       "      <td>2</td>\n",
       "    </tr>\n",
       "    <tr>\n",
       "      <th>3</th>\n",
       "      <td>session: too--shall</td>\n",
       "      <td>4e683dcd461cdd22</td>\n",
       "      <td>Y-8</td>\n",
       "      <td>1</td>\n",
       "    </tr>\n",
       "    <tr>\n",
       "      <th>4</th>\n",
       "      <td>That Zoology</td>\n",
       "      <td>6473dd29a2badbf1</td>\n",
       "      <td>Y-8</td>\n",
       "      <td>3</td>\n",
       "    </tr>\n",
       "  </tbody>\n",
       "</table>\n",
       "</div>"
      ],
      "text/plain": [
       "               app_name            app_id category_id  device_id\n",
       "0  half-slouched having  22dfac9721b899cb         Y-8          3\n",
       "1      lift whale-ships  7c645810cd7f166e         M-7          3\n",
       "2    mightily community  c495bcb878faffaa         Y-8          2\n",
       "3   session: too--shall  4e683dcd461cdd22         Y-8          1\n",
       "4          That Zoology  6473dd29a2badbf1         Y-8          3"
      ]
     },
     "execution_count": 47,
     "metadata": {},
     "output_type": "execute_result"
    }
   ],
   "source": [
    "apps.head()"
   ]
  },
  {
   "cell_type": "code",
   "execution_count": 48,
   "id": "26fbe3af",
   "metadata": {},
   "outputs": [
    {
     "data": {
      "text/html": [
       "<div>\n",
       "<style scoped>\n",
       "    .dataframe tbody tr th:only-of-type {\n",
       "        vertical-align: middle;\n",
       "    }\n",
       "\n",
       "    .dataframe tbody tr th {\n",
       "        vertical-align: top;\n",
       "    }\n",
       "\n",
       "    .dataframe thead th {\n",
       "        text-align: right;\n",
       "    }\n",
       "</style>\n",
       "<table border=\"1\" class=\"dataframe\">\n",
       "  <thead>\n",
       "    <tr style=\"text-align: right;\">\n",
       "      <th></th>\n",
       "      <th>app_category</th>\n",
       "      <th>category_id</th>\n",
       "    </tr>\n",
       "  </thead>\n",
       "  <tbody>\n",
       "    <tr>\n",
       "      <th>0</th>\n",
       "      <td>Games</td>\n",
       "      <td>Z-1</td>\n",
       "    </tr>\n",
       "    <tr>\n",
       "      <th>1</th>\n",
       "      <td>Social Networking</td>\n",
       "      <td>Q-5</td>\n",
       "    </tr>\n",
       "    <tr>\n",
       "      <th>2</th>\n",
       "      <td>Utilities</td>\n",
       "      <td>M-7</td>\n",
       "    </tr>\n",
       "    <tr>\n",
       "      <th>3</th>\n",
       "      <td>Entertainment</td>\n",
       "      <td>Q-1</td>\n",
       "    </tr>\n",
       "    <tr>\n",
       "      <th>4</th>\n",
       "      <td>Photos &amp; Videos</td>\n",
       "      <td>Y-8</td>\n",
       "    </tr>\n",
       "  </tbody>\n",
       "</table>\n",
       "</div>"
      ],
      "text/plain": [
       "        app_category category_id\n",
       "0              Games         Z-1\n",
       "1  Social Networking         Q-5\n",
       "2          Utilities         M-7\n",
       "3      Entertainment         Q-1\n",
       "4    Photos & Videos         Y-8"
      ]
     },
     "execution_count": 48,
     "metadata": {},
     "output_type": "execute_result"
    }
   ],
   "source": [
    "categories.head()"
   ]
  },
  {
   "cell_type": "code",
   "execution_count": 49,
   "id": "dd8c2c19",
   "metadata": {},
   "outputs": [],
   "source": [
    "# Map apps and categories\n",
    "apps_cat=pd.merge(apps,categories,on='category_id').drop(columns=['category_id'])"
   ]
  },
  {
   "cell_type": "code",
   "execution_count": 50,
   "id": "e20c372e",
   "metadata": {},
   "outputs": [
    {
     "data": {
      "text/html": [
       "<div>\n",
       "<style scoped>\n",
       "    .dataframe tbody tr th:only-of-type {\n",
       "        vertical-align: middle;\n",
       "    }\n",
       "\n",
       "    .dataframe tbody tr th {\n",
       "        vertical-align: top;\n",
       "    }\n",
       "\n",
       "    .dataframe thead th {\n",
       "        text-align: right;\n",
       "    }\n",
       "</style>\n",
       "<table border=\"1\" class=\"dataframe\">\n",
       "  <thead>\n",
       "    <tr style=\"text-align: right;\">\n",
       "      <th></th>\n",
       "      <th>app_name</th>\n",
       "      <th>app_id</th>\n",
       "      <th>device_id</th>\n",
       "      <th>app_category</th>\n",
       "    </tr>\n",
       "  </thead>\n",
       "  <tbody>\n",
       "    <tr>\n",
       "      <th>0</th>\n",
       "      <td>half-slouched having</td>\n",
       "      <td>22dfac9721b899cb</td>\n",
       "      <td>3</td>\n",
       "      <td>Photos &amp; Videos</td>\n",
       "    </tr>\n",
       "    <tr>\n",
       "      <th>1</th>\n",
       "      <td>mightily community</td>\n",
       "      <td>c495bcb878faffaa</td>\n",
       "      <td>2</td>\n",
       "      <td>Photos &amp; Videos</td>\n",
       "    </tr>\n",
       "    <tr>\n",
       "      <th>2</th>\n",
       "      <td>session: too--shall</td>\n",
       "      <td>4e683dcd461cdd22</td>\n",
       "      <td>1</td>\n",
       "      <td>Photos &amp; Videos</td>\n",
       "    </tr>\n",
       "    <tr>\n",
       "      <th>3</th>\n",
       "      <td>That Zoology</td>\n",
       "      <td>6473dd29a2badbf1</td>\n",
       "      <td>3</td>\n",
       "      <td>Photos &amp; Videos</td>\n",
       "    </tr>\n",
       "    <tr>\n",
       "      <th>4</th>\n",
       "      <td>careful!--come stubbornly</td>\n",
       "      <td>ee013dcbf9ecc2b1</td>\n",
       "      <td>3</td>\n",
       "      <td>Photos &amp; Videos</td>\n",
       "    </tr>\n",
       "  </tbody>\n",
       "</table>\n",
       "</div>"
      ],
      "text/plain": [
       "                    app_name            app_id  device_id     app_category\n",
       "0       half-slouched having  22dfac9721b899cb          3  Photos & Videos\n",
       "1         mightily community  c495bcb878faffaa          2  Photos & Videos\n",
       "2        session: too--shall  4e683dcd461cdd22          1  Photos & Videos\n",
       "3               That Zoology  6473dd29a2badbf1          3  Photos & Videos\n",
       "4  careful!--come stubbornly  ee013dcbf9ecc2b1          3  Photos & Videos"
      ]
     },
     "execution_count": 50,
     "metadata": {},
     "output_type": "execute_result"
    }
   ],
   "source": [
    "apps_cat.head()"
   ]
  },
  {
   "cell_type": "code",
   "execution_count": 51,
   "id": "5865e3b4",
   "metadata": {},
   "outputs": [
    {
     "name": "stdout",
     "output_type": "stream",
     "text": [
      "app_category\n",
      "Entertainment        149\n",
      "Games                392\n",
      "Photos & Videos      260\n",
      "Social Networking     46\n",
      "Utilities            153\n",
      "Name: app_id, dtype: int64\n"
     ]
    },
    {
     "data": {
      "image/png": "[encoded data removed]",
      "text/plain": [
       "<Figure size 432x288 with 1 Axes>"
      ]
     },
     "metadata": {
      "needs_background": "light"
     },
     "output_type": "display_data"
    }
   ],
   "source": [
    "apps_freq=apps_cat.groupby('app_category').app_id.count()\n",
    "\n",
    "y=(apps_freq.values)/1000\n",
    "x=apps_freq.index\n",
    "plt.bar(x,y)\n",
    "plt.xticks(rotation=45)\n",
    "plt.ylabel('% count')\n",
    "plt.title('Freq of different app categories')\n",
    "print(apps_freq)"
   ]
  },
  {
   "cell_type": "markdown",
   "id": "157b90bd",
   "metadata": {},
   "source": [
    "#### In App content"
   ]
  },
  {
   "cell_type": "code",
   "execution_count": 52,
   "id": "30c8becf",
   "metadata": {},
   "outputs": [
    {
     "data": {
      "text/html": [
       "<div>\n",
       "<style scoped>\n",
       "    .dataframe tbody tr th:only-of-type {\n",
       "        vertical-align: middle;\n",
       "    }\n",
       "\n",
       "    .dataframe tbody tr th {\n",
       "        vertical-align: top;\n",
       "    }\n",
       "\n",
       "    .dataframe thead th {\n",
       "        text-align: right;\n",
       "    }\n",
       "</style>\n",
       "<table border=\"1\" class=\"dataframe\">\n",
       "  <thead>\n",
       "    <tr style=\"text-align: right;\">\n",
       "      <th></th>\n",
       "      <th>app_id</th>\n",
       "      <th>content_id</th>\n",
       "      <th>content_type</th>\n",
       "    </tr>\n",
       "  </thead>\n",
       "  <tbody>\n",
       "    <tr>\n",
       "      <th>0</th>\n",
       "      <td>d2bde35599e0dae9</td>\n",
       "      <td>227227a77c59809b</td>\n",
       "      <td>consumable</td>\n",
       "    </tr>\n",
       "    <tr>\n",
       "      <th>1</th>\n",
       "      <td>d2bde35599e0dae9</td>\n",
       "      <td>41ac2362a2600185</td>\n",
       "      <td>consumable</td>\n",
       "    </tr>\n",
       "    <tr>\n",
       "      <th>2</th>\n",
       "      <td>d2bde35599e0dae9</td>\n",
       "      <td>64a8e16f030bb611</td>\n",
       "      <td>consumable</td>\n",
       "    </tr>\n",
       "    <tr>\n",
       "      <th>3</th>\n",
       "      <td>d2bde35599e0dae9</td>\n",
       "      <td>2c8ba424183afa7c</td>\n",
       "      <td>consumable</td>\n",
       "    </tr>\n",
       "    <tr>\n",
       "      <th>4</th>\n",
       "      <td>d2bde35599e0dae9</td>\n",
       "      <td>b4c42fa5cc420f7b</td>\n",
       "      <td>consumable</td>\n",
       "    </tr>\n",
       "  </tbody>\n",
       "</table>\n",
       "</div>"
      ],
      "text/plain": [
       "             app_id        content_id content_type\n",
       "0  d2bde35599e0dae9  227227a77c59809b   consumable\n",
       "1  d2bde35599e0dae9  41ac2362a2600185   consumable\n",
       "2  d2bde35599e0dae9  64a8e16f030bb611   consumable\n",
       "3  d2bde35599e0dae9  2c8ba424183afa7c   consumable\n",
       "4  d2bde35599e0dae9  b4c42fa5cc420f7b   consumable"
      ]
     },
     "execution_count": 52,
     "metadata": {},
     "output_type": "execute_result"
    }
   ],
   "source": [
    "in_app_cont.head()"
   ]
  },
  {
   "cell_type": "code",
   "execution_count": 53,
   "id": "661928c3",
   "metadata": {},
   "outputs": [
    {
     "data": {
      "text/plain": [
       "(2376, 3)"
      ]
     },
     "execution_count": 53,
     "metadata": {},
     "output_type": "execute_result"
    }
   ],
   "source": [
    "in_app_cont.shape"
   ]
  },
  {
   "cell_type": "code",
   "execution_count": 54,
   "id": "62dd470a",
   "metadata": {},
   "outputs": [
    {
     "data": {
      "text/plain": [
       "476"
      ]
     },
     "execution_count": 54,
     "metadata": {},
     "output_type": "execute_result"
    }
   ],
   "source": [
    "in_app_cont.app_id.nunique()"
   ]
  },
  {
   "cell_type": "markdown",
   "id": "a2fa305e",
   "metadata": {},
   "source": [
    "#### Note : There are 1000 apps but in app content for 476 are present"
   ]
  },
  {
   "cell_type": "code",
   "execution_count": 55,
   "id": "5bbc3204",
   "metadata": {},
   "outputs": [
    {
     "name": "stdout",
     "output_type": "stream",
     "text": [
      "content_type\n",
      "consumable      2107\n",
      "subscription     269\n",
      "Name: content_id, dtype: int64\n"
     ]
    }
   ],
   "source": [
    "print(in_app_cont.groupby('content_type').content_id.nunique())"
   ]
  },
  {
   "cell_type": "markdown",
   "id": "7d41c305",
   "metadata": {},
   "source": [
    "\n",
    "## Map apps to in_app_cont"
   ]
  },
  {
   "cell_type": "code",
   "execution_count": 56,
   "id": "01c7e7b2",
   "metadata": {},
   "outputs": [],
   "source": [
    "apps_wt_cont = pd.merge(apps_cat,in_app_cont,on='app_id',how='left')\n",
    "#Outer join not needed as all apps in in_app_cont is present in apps table"
   ]
  },
  {
   "cell_type": "code",
   "execution_count": 57,
   "id": "1568284d",
   "metadata": {},
   "outputs": [
    {
     "data": {
      "text/plain": [
       "0"
      ]
     },
     "execution_count": 57,
     "metadata": {},
     "output_type": "execute_result"
    }
   ],
   "source": [
    "# Checking if all apps in in_app_cont is present in apps table\n",
    "len(set(in_app_cont.app_id.unique())-set(apps_wt_cont.app_id.unique()))"
   ]
  },
  {
   "cell_type": "code",
   "execution_count": 58,
   "id": "6cb0d361",
   "metadata": {},
   "outputs": [
    {
     "data": {
      "text/html": [
       "<div>\n",
       "<style scoped>\n",
       "    .dataframe tbody tr th:only-of-type {\n",
       "        vertical-align: middle;\n",
       "    }\n",
       "\n",
       "    .dataframe tbody tr th {\n",
       "        vertical-align: top;\n",
       "    }\n",
       "\n",
       "    .dataframe thead th {\n",
       "        text-align: right;\n",
       "    }\n",
       "</style>\n",
       "<table border=\"1\" class=\"dataframe\">\n",
       "  <thead>\n",
       "    <tr style=\"text-align: right;\">\n",
       "      <th></th>\n",
       "      <th>app_name</th>\n",
       "      <th>app_id</th>\n",
       "      <th>device_id</th>\n",
       "      <th>app_category</th>\n",
       "      <th>content_id</th>\n",
       "      <th>content_type</th>\n",
       "    </tr>\n",
       "  </thead>\n",
       "  <tbody>\n",
       "    <tr>\n",
       "      <th>0</th>\n",
       "      <td>half-slouched having</td>\n",
       "      <td>22dfac9721b899cb</td>\n",
       "      <td>3</td>\n",
       "      <td>Photos &amp; Videos</td>\n",
       "      <td>f049e141e84edd84</td>\n",
       "      <td>consumable</td>\n",
       "    </tr>\n",
       "    <tr>\n",
       "      <th>1</th>\n",
       "      <td>mightily community</td>\n",
       "      <td>c495bcb878faffaa</td>\n",
       "      <td>2</td>\n",
       "      <td>Photos &amp; Videos</td>\n",
       "      <td>107aece323e389df</td>\n",
       "      <td>consumable</td>\n",
       "    </tr>\n",
       "    <tr>\n",
       "      <th>2</th>\n",
       "      <td>mightily community</td>\n",
       "      <td>c495bcb878faffaa</td>\n",
       "      <td>2</td>\n",
       "      <td>Photos &amp; Videos</td>\n",
       "      <td>77389dc3f8108c77</td>\n",
       "      <td>consumable</td>\n",
       "    </tr>\n",
       "    <tr>\n",
       "      <th>3</th>\n",
       "      <td>session: too--shall</td>\n",
       "      <td>4e683dcd461cdd22</td>\n",
       "      <td>1</td>\n",
       "      <td>Photos &amp; Videos</td>\n",
       "      <td>abfa638eb85a98f3</td>\n",
       "      <td>consumable</td>\n",
       "    </tr>\n",
       "    <tr>\n",
       "      <th>4</th>\n",
       "      <td>session: too--shall</td>\n",
       "      <td>4e683dcd461cdd22</td>\n",
       "      <td>1</td>\n",
       "      <td>Photos &amp; Videos</td>\n",
       "      <td>5275949120266f44</td>\n",
       "      <td>consumable</td>\n",
       "    </tr>\n",
       "  </tbody>\n",
       "</table>\n",
       "</div>"
      ],
      "text/plain": [
       "               app_name            app_id  device_id     app_category  \\\n",
       "0  half-slouched having  22dfac9721b899cb          3  Photos & Videos   \n",
       "1    mightily community  c495bcb878faffaa          2  Photos & Videos   \n",
       "2    mightily community  c495bcb878faffaa          2  Photos & Videos   \n",
       "3   session: too--shall  4e683dcd461cdd22          1  Photos & Videos   \n",
       "4   session: too--shall  4e683dcd461cdd22          1  Photos & Videos   \n",
       "\n",
       "         content_id content_type  \n",
       "0  f049e141e84edd84   consumable  \n",
       "1  107aece323e389df   consumable  \n",
       "2  77389dc3f8108c77   consumable  \n",
       "3  abfa638eb85a98f3   consumable  \n",
       "4  5275949120266f44   consumable  "
      ]
     },
     "execution_count": 58,
     "metadata": {},
     "output_type": "execute_result"
    }
   ],
   "source": [
    "apps_wt_cont.head()"
   ]
  },
  {
   "cell_type": "code",
   "execution_count": 59,
   "id": "8acf8083",
   "metadata": {},
   "outputs": [
    {
     "data": {
      "text/plain": [
       "app_name          0\n",
       "app_id            0\n",
       "device_id         0\n",
       "app_category      0\n",
       "content_id      524\n",
       "content_type    524\n",
       "dtype: int64"
      ]
     },
     "execution_count": 59,
     "metadata": {},
     "output_type": "execute_result"
    }
   ],
   "source": [
    "apps_wt_cont.isnull().sum()"
   ]
  },
  {
   "cell_type": "markdown",
   "id": "f41a3e5d",
   "metadata": {},
   "source": [
    "#### Note: Only 476 apps have a content_id associated with them, therefore only 476 apps can be mapped to transactions/downloads"
   ]
  },
  {
   "cell_type": "markdown",
   "id": "023566aa",
   "metadata": {},
   "source": [
    "## Map apps and content to transaction/downloads data"
   ]
  },
  {
   "cell_type": "code",
   "execution_count": 60,
   "id": "2cf06e7a",
   "metadata": {},
   "outputs": [],
   "source": [
    "trans_dev=pd.merge(trans,devices,left_on='purchase_device_id',right_on='device_id',how='left').drop(columns=['device_id'])\n",
    "trans_master=pd.merge(trans_dev,apps_wt_cont.drop(columns=['device_id']),on='content_id',how='left')"
   ]
  },
  {
   "cell_type": "code",
   "execution_count": 61,
   "id": "6ae116c8",
   "metadata": {},
   "outputs": [
    {
     "data": {
      "text/html": [
       "<div>\n",
       "<style scoped>\n",
       "    .dataframe tbody tr th:only-of-type {\n",
       "        vertical-align: middle;\n",
       "    }\n",
       "\n",
       "    .dataframe tbody tr th {\n",
       "        vertical-align: top;\n",
       "    }\n",
       "\n",
       "    .dataframe thead th {\n",
       "        text-align: right;\n",
       "    }\n",
       "</style>\n",
       "<table border=\"1\" class=\"dataframe\">\n",
       "  <thead>\n",
       "    <tr style=\"text-align: right;\">\n",
       "      <th></th>\n",
       "      <th>trans_dt</th>\n",
       "      <th>content_id</th>\n",
       "      <th>acct_id</th>\n",
       "      <th>price</th>\n",
       "      <th>purchase_device_id</th>\n",
       "      <th>year_mon_trans</th>\n",
       "      <th>device_name</th>\n",
       "      <th>app_name</th>\n",
       "      <th>app_id</th>\n",
       "      <th>app_category</th>\n",
       "      <th>content_type</th>\n",
       "    </tr>\n",
       "  </thead>\n",
       "  <tbody>\n",
       "    <tr>\n",
       "      <th>0</th>\n",
       "      <td>2016-08-28</td>\n",
       "      <td>b6cf4f33e7455df4</td>\n",
       "      <td>220574a7a6a71afa</td>\n",
       "      <td>11.99</td>\n",
       "      <td>1</td>\n",
       "      <td>2016-08</td>\n",
       "      <td>iPhone</td>\n",
       "      <td>events Bildad's</td>\n",
       "      <td>61cea77b9bc843d1</td>\n",
       "      <td>Utilities</td>\n",
       "      <td>subscription</td>\n",
       "    </tr>\n",
       "    <tr>\n",
       "      <th>1</th>\n",
       "      <td>2016-09-16</td>\n",
       "      <td>71ac3e9c38ddbbba</td>\n",
       "      <td>8551f69a5015ea6a</td>\n",
       "      <td>1.99</td>\n",
       "      <td>2</td>\n",
       "      <td>2016-09</td>\n",
       "      <td>iPad</td>\n",
       "      <td>swell questionably</td>\n",
       "      <td>1f0ebd67df5846cd</td>\n",
       "      <td>Utilities</td>\n",
       "      <td>consumable</td>\n",
       "    </tr>\n",
       "    <tr>\n",
       "      <th>2</th>\n",
       "      <td>2016-08-15</td>\n",
       "      <td>776b851b916c33d1</td>\n",
       "      <td>7dedf309494a1966</td>\n",
       "      <td>0.99</td>\n",
       "      <td>2</td>\n",
       "      <td>2016-08</td>\n",
       "      <td>iPad</td>\n",
       "      <td>supperless--my Shipmates</td>\n",
       "      <td>1383e4f2f49f0f44</td>\n",
       "      <td>Games</td>\n",
       "      <td>consumable</td>\n",
       "    </tr>\n",
       "    <tr>\n",
       "      <th>3</th>\n",
       "      <td>2016-06-17</td>\n",
       "      <td>7a47ca132a8dc695</td>\n",
       "      <td>7174a81c796dcf7e</td>\n",
       "      <td>1.99</td>\n",
       "      <td>2</td>\n",
       "      <td>2016-06</td>\n",
       "      <td>iPad</td>\n",
       "      <td>unwritten hungry</td>\n",
       "      <td>8590a25d4e5c249c</td>\n",
       "      <td>Games</td>\n",
       "      <td>consumable</td>\n",
       "    </tr>\n",
       "    <tr>\n",
       "      <th>4</th>\n",
       "      <td>2016-06-13</td>\n",
       "      <td>30581219bc952dbb</td>\n",
       "      <td>35aaf59d64a677e7</td>\n",
       "      <td>11.99</td>\n",
       "      <td>2</td>\n",
       "      <td>2016-06</td>\n",
       "      <td>iPad</td>\n",
       "      <td>Turning thanked</td>\n",
       "      <td>478e10f9248b7842</td>\n",
       "      <td>Entertainment</td>\n",
       "      <td>consumable</td>\n",
       "    </tr>\n",
       "  </tbody>\n",
       "</table>\n",
       "</div>"
      ],
      "text/plain": [
       "    trans_dt        content_id           acct_id  price  purchase_device_id  \\\n",
       "0 2016-08-28  b6cf4f33e7455df4  220574a7a6a71afa  11.99                   1   \n",
       "1 2016-09-16  71ac3e9c38ddbbba  8551f69a5015ea6a   1.99                   2   \n",
       "2 2016-08-15  776b851b916c33d1  7dedf309494a1966   0.99                   2   \n",
       "3 2016-06-17  7a47ca132a8dc695  7174a81c796dcf7e   1.99                   2   \n",
       "4 2016-06-13  30581219bc952dbb  35aaf59d64a677e7  11.99                   2   \n",
       "\n",
       "  year_mon_trans device_name                  app_name            app_id  \\\n",
       "0        2016-08      iPhone           events Bildad's  61cea77b9bc843d1   \n",
       "1        2016-09        iPad        swell questionably  1f0ebd67df5846cd   \n",
       "2        2016-08        iPad  supperless--my Shipmates  1383e4f2f49f0f44   \n",
       "3        2016-06        iPad          unwritten hungry  8590a25d4e5c249c   \n",
       "4        2016-06        iPad           Turning thanked  478e10f9248b7842   \n",
       "\n",
       "    app_category  content_type  \n",
       "0      Utilities  subscription  \n",
       "1      Utilities    consumable  \n",
       "2          Games    consumable  \n",
       "3          Games    consumable  \n",
       "4  Entertainment    consumable  "
      ]
     },
     "execution_count": 61,
     "metadata": {},
     "output_type": "execute_result"
    }
   ],
   "source": [
    "trans_master.head()"
   ]
  },
  {
   "cell_type": "code",
   "execution_count": 62,
   "id": "62c35924",
   "metadata": {
    "scrolled": true
   },
   "outputs": [
    {
     "data": {
      "text/plain": [
       "trans_dt                    0\n",
       "content_id                  0\n",
       "acct_id                     0\n",
       "price                       0\n",
       "purchase_device_id          0\n",
       "year_mon_trans              0\n",
       "device_name                 0\n",
       "app_name              1594364\n",
       "app_id                1594364\n",
       "app_category          1594364\n",
       "content_type          1594364\n",
       "dtype: int64"
      ]
     },
     "execution_count": 62,
     "metadata": {},
     "output_type": "execute_result"
    }
   ],
   "source": [
    "trans_master.isnull().sum()"
   ]
  },
  {
   "cell_type": "markdown",
   "id": "e351c186",
   "metadata": {},
   "source": [
    "#### Note: About 1.6 million transactions are on apps that do not have app data "
   ]
  },
  {
   "cell_type": "code",
   "execution_count": 63,
   "id": "b58d756f",
   "metadata": {},
   "outputs": [
    {
     "data": {
      "text/plain": [
       "(3607509, 11)"
      ]
     },
     "execution_count": 63,
     "metadata": {},
     "output_type": "execute_result"
    }
   ],
   "source": [
    "trans_master.shape"
   ]
  },
  {
   "cell_type": "code",
   "execution_count": 64,
   "id": "901aff18",
   "metadata": {},
   "outputs": [
    {
     "data": {
      "text/plain": [
       "0.4419570401626164"
      ]
     },
     "execution_count": 64,
     "metadata": {},
     "output_type": "execute_result"
    }
   ],
   "source": [
    "1594364/3607509"
   ]
  },
  {
   "cell_type": "code",
   "execution_count": 65,
   "id": "2804c3be",
   "metadata": {},
   "outputs": [
    {
     "data": {
      "text/plain": [
       "2376"
      ]
     },
     "execution_count": 65,
     "metadata": {},
     "output_type": "execute_result"
    }
   ],
   "source": [
    "apps_wt_cont.content_id.nunique()"
   ]
  },
  {
   "cell_type": "code",
   "execution_count": 66,
   "id": "a0329244",
   "metadata": {},
   "outputs": [
    {
     "data": {
      "text/plain": [
       "2913"
      ]
     },
     "execution_count": 66,
     "metadata": {},
     "output_type": "execute_result"
    }
   ],
   "source": [
    "trans_master.content_id.nunique()"
   ]
  },
  {
   "cell_type": "code",
   "execution_count": 67,
   "id": "766f6545",
   "metadata": {},
   "outputs": [
    {
     "data": {
      "text/plain": [
       "{nan}"
      ]
     },
     "execution_count": 67,
     "metadata": {},
     "output_type": "execute_result"
    }
   ],
   "source": [
    "# Are there content_ids in app table which do not map to transaction? \n",
    "set(apps_wt_cont.content_id.unique())-set(trans_master.content_id.unique())\n"
   ]
  },
  {
   "cell_type": "markdown",
   "id": "493ef9d3",
   "metadata": {},
   "source": [
    "#### Note: There are 537 content_ids not in app data which accounts for 1.6 million downloads/transactions"
   ]
  },
  {
   "cell_type": "markdown",
   "id": "0f970d26",
   "metadata": {},
   "source": [
    "## Explore Downloads and Payment data"
   ]
  },
  {
   "cell_type": "code",
   "execution_count": 68,
   "id": "55c2d844",
   "metadata": {},
   "outputs": [
    {
     "data": {
      "text/html": [
       "<div>\n",
       "<style scoped>\n",
       "    .dataframe tbody tr th:only-of-type {\n",
       "        vertical-align: middle;\n",
       "    }\n",
       "\n",
       "    .dataframe tbody tr th {\n",
       "        vertical-align: top;\n",
       "    }\n",
       "\n",
       "    .dataframe thead th {\n",
       "        text-align: right;\n",
       "    }\n",
       "</style>\n",
       "<table border=\"1\" class=\"dataframe\">\n",
       "  <thead>\n",
       "    <tr style=\"text-align: right;\">\n",
       "      <th></th>\n",
       "      <th>trans_dt</th>\n",
       "      <th>content_id</th>\n",
       "      <th>acct_id</th>\n",
       "      <th>price</th>\n",
       "      <th>purchase_device_id</th>\n",
       "      <th>year_mon_trans</th>\n",
       "      <th>device_name</th>\n",
       "      <th>app_name</th>\n",
       "      <th>app_id</th>\n",
       "      <th>app_category</th>\n",
       "      <th>content_type</th>\n",
       "    </tr>\n",
       "  </thead>\n",
       "  <tbody>\n",
       "    <tr>\n",
       "      <th>0</th>\n",
       "      <td>2016-08-28</td>\n",
       "      <td>b6cf4f33e7455df4</td>\n",
       "      <td>220574a7a6a71afa</td>\n",
       "      <td>11.99</td>\n",
       "      <td>1</td>\n",
       "      <td>2016-08</td>\n",
       "      <td>iPhone</td>\n",
       "      <td>events Bildad's</td>\n",
       "      <td>61cea77b9bc843d1</td>\n",
       "      <td>Utilities</td>\n",
       "      <td>subscription</td>\n",
       "    </tr>\n",
       "    <tr>\n",
       "      <th>1</th>\n",
       "      <td>2016-09-16</td>\n",
       "      <td>71ac3e9c38ddbbba</td>\n",
       "      <td>8551f69a5015ea6a</td>\n",
       "      <td>1.99</td>\n",
       "      <td>2</td>\n",
       "      <td>2016-09</td>\n",
       "      <td>iPad</td>\n",
       "      <td>swell questionably</td>\n",
       "      <td>1f0ebd67df5846cd</td>\n",
       "      <td>Utilities</td>\n",
       "      <td>consumable</td>\n",
       "    </tr>\n",
       "    <tr>\n",
       "      <th>2</th>\n",
       "      <td>2016-08-15</td>\n",
       "      <td>776b851b916c33d1</td>\n",
       "      <td>7dedf309494a1966</td>\n",
       "      <td>0.99</td>\n",
       "      <td>2</td>\n",
       "      <td>2016-08</td>\n",
       "      <td>iPad</td>\n",
       "      <td>supperless--my Shipmates</td>\n",
       "      <td>1383e4f2f49f0f44</td>\n",
       "      <td>Games</td>\n",
       "      <td>consumable</td>\n",
       "    </tr>\n",
       "    <tr>\n",
       "      <th>3</th>\n",
       "      <td>2016-06-17</td>\n",
       "      <td>7a47ca132a8dc695</td>\n",
       "      <td>7174a81c796dcf7e</td>\n",
       "      <td>1.99</td>\n",
       "      <td>2</td>\n",
       "      <td>2016-06</td>\n",
       "      <td>iPad</td>\n",
       "      <td>unwritten hungry</td>\n",
       "      <td>8590a25d4e5c249c</td>\n",
       "      <td>Games</td>\n",
       "      <td>consumable</td>\n",
       "    </tr>\n",
       "    <tr>\n",
       "      <th>4</th>\n",
       "      <td>2016-06-13</td>\n",
       "      <td>30581219bc952dbb</td>\n",
       "      <td>35aaf59d64a677e7</td>\n",
       "      <td>11.99</td>\n",
       "      <td>2</td>\n",
       "      <td>2016-06</td>\n",
       "      <td>iPad</td>\n",
       "      <td>Turning thanked</td>\n",
       "      <td>478e10f9248b7842</td>\n",
       "      <td>Entertainment</td>\n",
       "      <td>consumable</td>\n",
       "    </tr>\n",
       "  </tbody>\n",
       "</table>\n",
       "</div>"
      ],
      "text/plain": [
       "    trans_dt        content_id           acct_id  price  purchase_device_id  \\\n",
       "0 2016-08-28  b6cf4f33e7455df4  220574a7a6a71afa  11.99                   1   \n",
       "1 2016-09-16  71ac3e9c38ddbbba  8551f69a5015ea6a   1.99                   2   \n",
       "2 2016-08-15  776b851b916c33d1  7dedf309494a1966   0.99                   2   \n",
       "3 2016-06-17  7a47ca132a8dc695  7174a81c796dcf7e   1.99                   2   \n",
       "4 2016-06-13  30581219bc952dbb  35aaf59d64a677e7  11.99                   2   \n",
       "\n",
       "  year_mon_trans device_name                  app_name            app_id  \\\n",
       "0        2016-08      iPhone           events Bildad's  61cea77b9bc843d1   \n",
       "1        2016-09        iPad        swell questionably  1f0ebd67df5846cd   \n",
       "2        2016-08        iPad  supperless--my Shipmates  1383e4f2f49f0f44   \n",
       "3        2016-06        iPad          unwritten hungry  8590a25d4e5c249c   \n",
       "4        2016-06        iPad           Turning thanked  478e10f9248b7842   \n",
       "\n",
       "    app_category  content_type  \n",
       "0      Utilities  subscription  \n",
       "1      Utilities    consumable  \n",
       "2          Games    consumable  \n",
       "3          Games    consumable  \n",
       "4  Entertainment    consumable  "
      ]
     },
     "execution_count": 68,
     "metadata": {},
     "output_type": "execute_result"
    }
   ],
   "source": [
    "trans_master.head()"
   ]
  },
  {
   "cell_type": "markdown",
   "id": "fccda63e",
   "metadata": {},
   "source": [
    "#### Freq of transactions across time across app_types"
   ]
  },
  {
   "cell_type": "code",
   "execution_count": 69,
   "id": "c9c7d489",
   "metadata": {},
   "outputs": [
    {
     "data": {
      "text/plain": [
       "<AxesSubplot:title={'center':'Freq of transactions across time across app_types'}, xlabel='trans_dt'>"
      ]
     },
     "execution_count": 69,
     "metadata": {},
     "output_type": "execute_result"
    },
    {
     "data": {
      "image/png": "[encoded data removed]",
      "text/plain": [
       "<Figure size 432x288 with 1 Axes>"
      ]
     },
     "metadata": {
      "needs_background": "light"
     },
     "output_type": "display_data"
    }
   ],
   "source": [
    "trans_freq_app_cat=pd.DataFrame(trans_master.fillna({'app_category':'Unknown'}).groupby(['app_category','trans_dt']).acct_id.count()).reset_index()\n",
    "trans_freq_app_cat.pivot(index='trans_dt',columns='app_category',values='acct_id').plot(title='Freq of transactions across time across app_types')\n"
   ]
  },
  {
   "cell_type": "markdown",
   "id": "195362dd",
   "metadata": {},
   "source": [
    "#### Avg $ val of transactions across time across app_types"
   ]
  },
  {
   "cell_type": "code",
   "execution_count": 70,
   "id": "bbf96ca6",
   "metadata": {},
   "outputs": [
    {
     "data": {
      "text/plain": [
       "<AxesSubplot:title={'center':'avg $ val of transactions across time across app_types'}, xlabel='trans_dt'>"
      ]
     },
     "execution_count": 70,
     "metadata": {},
     "output_type": "execute_result"
    },
    {
     "data": {
      "image/png": "[encoded data removed]",
      "text/plain": [
       "<Figure size 432x288 with 1 Axes>"
      ]
     },
     "metadata": {
      "needs_background": "light"
     },
     "output_type": "display_data"
    }
   ],
   "source": [
    "trans_freq_app_cat=pd.DataFrame(trans_master.fillna({'app_category':'Unknown'}).groupby(['app_category','trans_dt']).price.mean()).reset_index()\n",
    "trans_freq_app_cat.pivot(index='trans_dt',columns='app_category',values='price').plot(title = 'avg $ val of transactions across time across app_types')\n"
   ]
  },
  {
   "cell_type": "code",
   "execution_count": 71,
   "id": "c6a1a4c1",
   "metadata": {},
   "outputs": [
    {
     "data": {
      "text/plain": [
       "<AxesSubplot:title={'center':'Transaction volume across app types'}, xlabel='app_category'>"
      ]
     },
     "execution_count": 71,
     "metadata": {},
     "output_type": "execute_result"
    },
    {
     "data": {
      "image/png": "[encoded data removed]",
      "text/plain": [
       "<Figure size 432x288 with 1 Axes>"
      ]
     },
     "metadata": {
      "needs_background": "light"
     },
     "output_type": "display_data"
    }
   ],
   "source": [
    "trans_master.fillna({'app_category':'Unknown'}).groupby('app_category').price.count().plot.bar(title='Transaction volume across app types')"
   ]
  },
  {
   "cell_type": "markdown",
   "id": "c38dba0e",
   "metadata": {},
   "source": [
    "#### Note: The transactions from the missing app data has the highest volume and quite low average transaction value"
   ]
  },
  {
   "cell_type": "code",
   "execution_count": 72,
   "id": "45da9d5c",
   "metadata": {},
   "outputs": [
    {
     "data": {
      "text/plain": [
       "<AxesSubplot:title={'center':'Non zero transaction volume across app types'}, xlabel='app_category'>"
      ]
     },
     "execution_count": 72,
     "metadata": {},
     "output_type": "execute_result"
    },
    {
     "data": {
      "image/png": "[encoded data removed]",
      "text/plain": [
       "<Figure size 432x288 with 1 Axes>"
      ]
     },
     "metadata": {
      "needs_background": "light"
     },
     "output_type": "display_data"
    }
   ],
   "source": [
    "trans_master.fillna({'app_category':'Unknown'})[trans_master.price>0].groupby('app_category').price.count().plot.bar(title='Non zero transaction volume across app types')"
   ]
  },
  {
   "cell_type": "markdown",
   "id": "46b7f9db",
   "metadata": {},
   "source": [
    "#### Note: The volume of transactions which are >$0 have a smaller proportion of unknowns"
   ]
  },
  {
   "cell_type": "code",
   "execution_count": 73,
   "id": "2776896d",
   "metadata": {},
   "outputs": [
    {
     "data": {
      "text/plain": [
       "<AxesSubplot:title={'center':'Transaction volume across content_type'}, xlabel='content_type'>"
      ]
     },
     "execution_count": 73,
     "metadata": {},
     "output_type": "execute_result"
    },
    {
     "data": {
      "image/png": "[encoded data removed]",
      "text/plain": [
       "<Figure size 432x288 with 1 Axes>"
      ]
     },
     "metadata": {
      "needs_background": "light"
     },
     "output_type": "display_data"
    }
   ],
   "source": [
    "trans_master.groupby('content_type').price.count().plot.bar(title='Transaction volume across content_type')"
   ]
  },
  {
   "cell_type": "code",
   "execution_count": 113,
   "id": "0791291c",
   "metadata": {},
   "outputs": [
    {
     "data": {
      "text/plain": [
       "<AxesSubplot:title={'center':'Avg Spend across content_type'}, xlabel='content_type'>"
      ]
     },
     "execution_count": 113,
     "metadata": {},
     "output_type": "execute_result"
    },
    {
     "data": {
      "image/png": "[encoded data removed]",
      "text/plain": [
       "<Figure size 432x288 with 1 Axes>"
      ]
     },
     "metadata": {
      "needs_background": "light"
     },
     "output_type": "display_data"
    }
   ],
   "source": [
    "trans_master.groupby('content_type').price.mean().plot.bar(title='Avg Spend across content_type')"
   ]
  },
  {
   "cell_type": "markdown",
   "id": "003d6ca2",
   "metadata": {},
   "source": [
    "#### Check if there are any zero $ transaction which has app info?"
   ]
  },
  {
   "cell_type": "code",
   "execution_count": 75,
   "id": "a619001b",
   "metadata": {},
   "outputs": [
    {
     "data": {
      "text/html": [
       "<div>\n",
       "<style scoped>\n",
       "    .dataframe tbody tr th:only-of-type {\n",
       "        vertical-align: middle;\n",
       "    }\n",
       "\n",
       "    .dataframe tbody tr th {\n",
       "        vertical-align: top;\n",
       "    }\n",
       "\n",
       "    .dataframe thead th {\n",
       "        text-align: right;\n",
       "    }\n",
       "</style>\n",
       "<table border=\"1\" class=\"dataframe\">\n",
       "  <thead>\n",
       "    <tr style=\"text-align: right;\">\n",
       "      <th></th>\n",
       "      <th>trans_dt</th>\n",
       "      <th>content_id</th>\n",
       "      <th>acct_id</th>\n",
       "      <th>price</th>\n",
       "      <th>purchase_device_id</th>\n",
       "      <th>year_mon_trans</th>\n",
       "      <th>device_name</th>\n",
       "      <th>app_name</th>\n",
       "      <th>app_id</th>\n",
       "      <th>app_category</th>\n",
       "      <th>content_type</th>\n",
       "    </tr>\n",
       "  </thead>\n",
       "  <tbody>\n",
       "  </tbody>\n",
       "</table>\n",
       "</div>"
      ],
      "text/plain": [
       "Empty DataFrame\n",
       "Columns: [trans_dt, content_id, acct_id, price, purchase_device_id, year_mon_trans, device_name, app_name, app_id, app_category, content_type]\n",
       "Index: []"
      ]
     },
     "execution_count": 75,
     "metadata": {},
     "output_type": "execute_result"
    }
   ],
   "source": [
    "trans_master[(trans_master.price==0) & ~(trans_master.app_id.isnull())]\n",
    "# .groupby('content_type').price.mean()"
   ]
  },
  {
   "cell_type": "code",
   "execution_count": 76,
   "id": "b76b2282",
   "metadata": {},
   "outputs": [
    {
     "data": {
      "text/plain": [
       "0.08098940293704049"
      ]
     },
     "execution_count": 76,
     "metadata": {},
     "output_type": "execute_result"
    }
   ],
   "source": [
    "sum((trans_master.price!=0) & (trans_master.app_id.isnull()))/trans_master.shape[0]"
   ]
  },
  {
   "cell_type": "markdown",
   "id": "6a2e0d49",
   "metadata": {},
   "source": [
    "#### 8% non zero transactions do not have app info "
   ]
  },
  {
   "cell_type": "code",
   "execution_count": 77,
   "id": "93b83dcc",
   "metadata": {},
   "outputs": [
    {
     "data": {
      "text/plain": [
       "0"
      ]
     },
     "execution_count": 77,
     "metadata": {},
     "output_type": "execute_result"
    }
   ],
   "source": [
    "len(set(trans_master.acct_id[trans_master.price!=0])-(set(trans_master.acct_id[trans_master.price==0])))"
   ]
  },
  {
   "cell_type": "markdown",
   "id": "6f793bf6",
   "metadata": {},
   "source": [
    "#### Finding: \n",
    "- Consumable transactions volume and avg tranasaction size are higher than subscription based transactions\n",
    "- Any transaction which is of dollar 0 value has no app or app content info against it\n",
    "- All accounts with transactions have a 0 transaction atleast once\n",
    "\n"
   ]
  },
  {
   "cell_type": "markdown",
   "id": "206fdae2",
   "metadata": {},
   "source": [
    "## Map accounts to transactions(for all transactions with accounts present)"
   ]
  },
  {
   "cell_type": "code",
   "execution_count": 78,
   "id": "fbfa2505",
   "metadata": {},
   "outputs": [],
   "source": [
    "master=pd.merge(trans_master,accounts,on='acct_id',how='left')"
   ]
  },
  {
   "cell_type": "code",
   "execution_count": 79,
   "id": "8a642329",
   "metadata": {},
   "outputs": [
    {
     "data": {
      "text/html": [
       "<div>\n",
       "<style scoped>\n",
       "    .dataframe tbody tr th:only-of-type {\n",
       "        vertical-align: middle;\n",
       "    }\n",
       "\n",
       "    .dataframe tbody tr th {\n",
       "        vertical-align: top;\n",
       "    }\n",
       "\n",
       "    .dataframe thead th {\n",
       "        text-align: right;\n",
       "    }\n",
       "</style>\n",
       "<table border=\"1\" class=\"dataframe\">\n",
       "  <thead>\n",
       "    <tr style=\"text-align: right;\">\n",
       "      <th></th>\n",
       "      <th>trans_dt</th>\n",
       "      <th>content_id</th>\n",
       "      <th>acct_id</th>\n",
       "      <th>price</th>\n",
       "      <th>purchase_device_id</th>\n",
       "      <th>year_mon_trans</th>\n",
       "      <th>device_name</th>\n",
       "      <th>app_name</th>\n",
       "      <th>app_id</th>\n",
       "      <th>app_category</th>\n",
       "      <th>content_type</th>\n",
       "      <th>act_create_dt</th>\n",
       "      <th>payment_type</th>\n",
       "      <th>year_mon_account</th>\n",
       "    </tr>\n",
       "  </thead>\n",
       "  <tbody>\n",
       "    <tr>\n",
       "      <th>0</th>\n",
       "      <td>2016-08-28</td>\n",
       "      <td>b6cf4f33e7455df4</td>\n",
       "      <td>220574a7a6a71afa</td>\n",
       "      <td>11.99</td>\n",
       "      <td>1</td>\n",
       "      <td>2016-08</td>\n",
       "      <td>iPhone</td>\n",
       "      <td>events Bildad's</td>\n",
       "      <td>61cea77b9bc843d1</td>\n",
       "      <td>Utilities</td>\n",
       "      <td>subscription</td>\n",
       "      <td>2009-08-29</td>\n",
       "      <td>PMOF</td>\n",
       "      <td>2009-08</td>\n",
       "    </tr>\n",
       "    <tr>\n",
       "      <th>1</th>\n",
       "      <td>2016-09-16</td>\n",
       "      <td>71ac3e9c38ddbbba</td>\n",
       "      <td>8551f69a5015ea6a</td>\n",
       "      <td>1.99</td>\n",
       "      <td>2</td>\n",
       "      <td>2016-09</td>\n",
       "      <td>iPad</td>\n",
       "      <td>swell questionably</td>\n",
       "      <td>1f0ebd67df5846cd</td>\n",
       "      <td>Utilities</td>\n",
       "      <td>consumable</td>\n",
       "      <td>2011-05-28</td>\n",
       "      <td>PMOF</td>\n",
       "      <td>2011-05</td>\n",
       "    </tr>\n",
       "    <tr>\n",
       "      <th>2</th>\n",
       "      <td>2016-08-15</td>\n",
       "      <td>776b851b916c33d1</td>\n",
       "      <td>7dedf309494a1966</td>\n",
       "      <td>0.99</td>\n",
       "      <td>2</td>\n",
       "      <td>2016-08</td>\n",
       "      <td>iPad</td>\n",
       "      <td>supperless--my Shipmates</td>\n",
       "      <td>1383e4f2f49f0f44</td>\n",
       "      <td>Games</td>\n",
       "      <td>consumable</td>\n",
       "      <td>2009-11-15</td>\n",
       "      <td>PMOF</td>\n",
       "      <td>2009-11</td>\n",
       "    </tr>\n",
       "    <tr>\n",
       "      <th>3</th>\n",
       "      <td>2016-06-17</td>\n",
       "      <td>7a47ca132a8dc695</td>\n",
       "      <td>7174a81c796dcf7e</td>\n",
       "      <td>1.99</td>\n",
       "      <td>2</td>\n",
       "      <td>2016-06</td>\n",
       "      <td>iPad</td>\n",
       "      <td>unwritten hungry</td>\n",
       "      <td>8590a25d4e5c249c</td>\n",
       "      <td>Games</td>\n",
       "      <td>consumable</td>\n",
       "      <td>2009-03-01</td>\n",
       "      <td>PMOF</td>\n",
       "      <td>2009-03</td>\n",
       "    </tr>\n",
       "    <tr>\n",
       "      <th>4</th>\n",
       "      <td>2016-06-13</td>\n",
       "      <td>30581219bc952dbb</td>\n",
       "      <td>35aaf59d64a677e7</td>\n",
       "      <td>11.99</td>\n",
       "      <td>2</td>\n",
       "      <td>2016-06</td>\n",
       "      <td>iPad</td>\n",
       "      <td>Turning thanked</td>\n",
       "      <td>478e10f9248b7842</td>\n",
       "      <td>Entertainment</td>\n",
       "      <td>consumable</td>\n",
       "      <td>2010-10-01</td>\n",
       "      <td>PMOF</td>\n",
       "      <td>2010-10</td>\n",
       "    </tr>\n",
       "  </tbody>\n",
       "</table>\n",
       "</div>"
      ],
      "text/plain": [
       "    trans_dt        content_id           acct_id  price  purchase_device_id  \\\n",
       "0 2016-08-28  b6cf4f33e7455df4  220574a7a6a71afa  11.99                   1   \n",
       "1 2016-09-16  71ac3e9c38ddbbba  8551f69a5015ea6a   1.99                   2   \n",
       "2 2016-08-15  776b851b916c33d1  7dedf309494a1966   0.99                   2   \n",
       "3 2016-06-17  7a47ca132a8dc695  7174a81c796dcf7e   1.99                   2   \n",
       "4 2016-06-13  30581219bc952dbb  35aaf59d64a677e7  11.99                   2   \n",
       "\n",
       "  year_mon_trans device_name                  app_name            app_id  \\\n",
       "0        2016-08      iPhone           events Bildad's  61cea77b9bc843d1   \n",
       "1        2016-09        iPad        swell questionably  1f0ebd67df5846cd   \n",
       "2        2016-08        iPad  supperless--my Shipmates  1383e4f2f49f0f44   \n",
       "3        2016-06        iPad          unwritten hungry  8590a25d4e5c249c   \n",
       "4        2016-06        iPad           Turning thanked  478e10f9248b7842   \n",
       "\n",
       "    app_category  content_type act_create_dt payment_type year_mon_account  \n",
       "0      Utilities  subscription    2009-08-29         PMOF          2009-08  \n",
       "1      Utilities    consumable    2011-05-28         PMOF          2011-05  \n",
       "2          Games    consumable    2009-11-15         PMOF          2009-11  \n",
       "3          Games    consumable    2009-03-01         PMOF          2009-03  \n",
       "4  Entertainment    consumable    2010-10-01         PMOF          2010-10  "
      ]
     },
     "execution_count": 79,
     "metadata": {},
     "output_type": "execute_result"
    }
   ],
   "source": [
    "master.head()"
   ]
  },
  {
   "cell_type": "code",
   "execution_count": 80,
   "id": "08281b3a",
   "metadata": {},
   "outputs": [
    {
     "data": {
      "text/plain": [
       "trans_dt                    0\n",
       "content_id                  0\n",
       "acct_id                     0\n",
       "price                       0\n",
       "purchase_device_id          0\n",
       "year_mon_trans              0\n",
       "device_name                 0\n",
       "app_name              1594364\n",
       "app_id                1594364\n",
       "app_category          1594364\n",
       "content_type          1594364\n",
       "act_create_dt            2742\n",
       "payment_type             2742\n",
       "year_mon_account         2742\n",
       "dtype: int64"
      ]
     },
     "execution_count": 80,
     "metadata": {},
     "output_type": "execute_result"
    }
   ],
   "source": [
    "master.isnull().sum()"
   ]
  },
  {
   "cell_type": "code",
   "execution_count": 81,
   "id": "02c4fab8",
   "metadata": {},
   "outputs": [
    {
     "data": {
      "text/plain": [
       "25"
      ]
     },
     "execution_count": 81,
     "metadata": {},
     "output_type": "execute_result"
    }
   ],
   "source": [
    "master[master.act_create_dt.isnull()].acct_id.nunique()"
   ]
  },
  {
   "cell_type": "code",
   "execution_count": 82,
   "id": "53021bf5",
   "metadata": {},
   "outputs": [
    {
     "data": {
      "text/plain": [
       "29975"
      ]
     },
     "execution_count": 82,
     "metadata": {},
     "output_type": "execute_result"
    }
   ],
   "source": [
    "master[~master.act_create_dt.isnull()].acct_id.nunique()"
   ]
  },
  {
   "cell_type": "code",
   "execution_count": 132,
   "id": "6adcb214",
   "metadata": {},
   "outputs": [
    {
     "data": {
      "text/plain": [
       "537"
      ]
     },
     "execution_count": 132,
     "metadata": {},
     "output_type": "execute_result"
    }
   ],
   "source": [
    "# no of unique content_ids for which app_data is unknown\n",
    "master[master.app_category.isnull()].content_id.nunique()"
   ]
  },
  {
   "cell_type": "code",
   "execution_count": 133,
   "id": "ac707181",
   "metadata": {},
   "outputs": [
    {
     "data": {
      "text/plain": [
       "2376"
      ]
     },
     "execution_count": 133,
     "metadata": {},
     "output_type": "execute_result"
    }
   ],
   "source": [
    "# no of unique content_ids for which app_data is known\n",
    "master[~master.app_category.isnull()].content_id.nunique()"
   ]
  },
  {
   "cell_type": "code",
   "execution_count": 135,
   "id": "12dedcdb",
   "metadata": {},
   "outputs": [
    {
     "data": {
      "text/plain": [
       "1594364"
      ]
     },
     "execution_count": 135,
     "metadata": {},
     "output_type": "execute_result"
    }
   ],
   "source": [
    "# trans_freq for which app_data is unknown\n",
    "master[master.app_category.isnull()].content_id.count()"
   ]
  },
  {
   "cell_type": "code",
   "execution_count": 136,
   "id": "e79383a5",
   "metadata": {},
   "outputs": [
    {
     "data": {
      "text/plain": [
       "2013145"
      ]
     },
     "execution_count": 136,
     "metadata": {},
     "output_type": "execute_result"
    }
   ],
   "source": [
    "# trans_freq for which app_data is known\n",
    "master[~master.app_category.isnull()].content_id.count()"
   ]
  },
  {
   "cell_type": "code",
   "execution_count": 139,
   "id": "412de2cd",
   "metadata": {},
   "outputs": [
    {
     "data": {
      "text/plain": [
       "0.22601010101010102"
      ]
     },
     "execution_count": 139,
     "metadata": {},
     "output_type": "execute_result"
    }
   ],
   "source": [
    "537/2376"
   ]
  },
  {
   "cell_type": "markdown",
   "id": "23dc2426",
   "metadata": {},
   "source": [
    "#### 537 out of 2376 content ids for which app data is not known has 44% transactions"
   ]
  },
  {
   "cell_type": "markdown",
   "id": "af7c9294",
   "metadata": {},
   "source": [
    "#### Note: 25 out of 30k accounts do not have a mapping to account created"
   ]
  },
  {
   "cell_type": "markdown",
   "id": "8dcd4bb5",
   "metadata": {},
   "source": [
    "### Create a new column as age on platform(transaction_dt- account_create_dt)"
   ]
  },
  {
   "cell_type": "code",
   "execution_count": 83,
   "id": "02e0ecea",
   "metadata": {},
   "outputs": [],
   "source": [
    "master['age_on_pltfm']=(master.trans_dt-master.act_create_dt).dt.days"
   ]
  },
  {
   "cell_type": "code",
   "execution_count": 112,
   "id": "0379b2d6",
   "metadata": {},
   "outputs": [
    {
     "data": {
      "text/plain": [
       "Text(0.5, 1.0, 'Distribution of age on platform')"
      ]
     },
     "execution_count": 112,
     "metadata": {},
     "output_type": "execute_result"
    },
    {
     "data": {
      "image/png": "[encoded data removed]",
      "text/plain": [
       "<Figure size 432x288 with 1 Axes>"
      ]
     },
     "metadata": {
      "needs_background": "light"
     },
     "output_type": "display_data"
    }
   ],
   "source": [
    "# the below histogram is on number of transactions and not accounts\n",
    "master['age_on_pltfm'].hist()\n",
    "plt.title('Distribution of age on platform')"
   ]
  },
  {
   "cell_type": "markdown",
   "id": "b5c98d97",
   "metadata": {},
   "source": [
    "#### Finding: There are accounts with account create dates after transactions "
   ]
  },
  {
   "cell_type": "code",
   "execution_count": 85,
   "id": "73e51760",
   "metadata": {},
   "outputs": [
    {
     "data": {
      "text/plain": [
       "0.0647039272805695"
      ]
     },
     "execution_count": 85,
     "metadata": {},
     "output_type": "execute_result"
    }
   ],
   "source": [
    "sum(master.age_on_pltfm<0)/master.shape[0]"
   ]
  },
  {
   "cell_type": "code",
   "execution_count": 86,
   "id": "65cab3f7",
   "metadata": {},
   "outputs": [
    {
     "data": {
      "text/plain": [
       "0.11623333333333333"
      ]
     },
     "execution_count": 86,
     "metadata": {},
     "output_type": "execute_result"
    }
   ],
   "source": [
    "master.acct_id[master.age_on_pltfm<0].nunique()/ 30000\n",
    "# master.acct_id[master.age_on_pltfm<0].nunique()\n"
   ]
  },
  {
   "cell_type": "markdown",
   "id": "720035b2",
   "metadata": {},
   "source": [
    "#### There are  6.4 % transactions by 11.6 % accounts  displaying -ve age on platform"
   ]
  },
  {
   "cell_type": "code",
   "execution_count": 87,
   "id": "fb6c19c6",
   "metadata": {},
   "outputs": [
    {
     "data": {
      "text/html": [
       "<div>\n",
       "<style scoped>\n",
       "    .dataframe tbody tr th:only-of-type {\n",
       "        vertical-align: middle;\n",
       "    }\n",
       "\n",
       "    .dataframe tbody tr th {\n",
       "        vertical-align: top;\n",
       "    }\n",
       "\n",
       "    .dataframe thead th {\n",
       "        text-align: right;\n",
       "    }\n",
       "</style>\n",
       "<table border=\"1\" class=\"dataframe\">\n",
       "  <thead>\n",
       "    <tr style=\"text-align: right;\">\n",
       "      <th></th>\n",
       "      <th>trans_dt</th>\n",
       "      <th>content_id</th>\n",
       "      <th>acct_id</th>\n",
       "      <th>price</th>\n",
       "      <th>purchase_device_id</th>\n",
       "      <th>year_mon_trans</th>\n",
       "      <th>device_name</th>\n",
       "      <th>app_name</th>\n",
       "      <th>app_id</th>\n",
       "      <th>app_category</th>\n",
       "      <th>content_type</th>\n",
       "      <th>act_create_dt</th>\n",
       "      <th>payment_type</th>\n",
       "      <th>year_mon_account</th>\n",
       "      <th>age_on_pltfm</th>\n",
       "    </tr>\n",
       "  </thead>\n",
       "  <tbody>\n",
       "    <tr>\n",
       "      <th>0</th>\n",
       "      <td>2016-08-28</td>\n",
       "      <td>b6cf4f33e7455df4</td>\n",
       "      <td>220574a7a6a71afa</td>\n",
       "      <td>11.99</td>\n",
       "      <td>1</td>\n",
       "      <td>2016-08</td>\n",
       "      <td>iPhone</td>\n",
       "      <td>events Bildad's</td>\n",
       "      <td>61cea77b9bc843d1</td>\n",
       "      <td>Utilities</td>\n",
       "      <td>subscription</td>\n",
       "      <td>2009-08-29</td>\n",
       "      <td>PMOF</td>\n",
       "      <td>2009-08</td>\n",
       "      <td>2556.0</td>\n",
       "    </tr>\n",
       "    <tr>\n",
       "      <th>1</th>\n",
       "      <td>2016-09-16</td>\n",
       "      <td>71ac3e9c38ddbbba</td>\n",
       "      <td>8551f69a5015ea6a</td>\n",
       "      <td>1.99</td>\n",
       "      <td>2</td>\n",
       "      <td>2016-09</td>\n",
       "      <td>iPad</td>\n",
       "      <td>swell questionably</td>\n",
       "      <td>1f0ebd67df5846cd</td>\n",
       "      <td>Utilities</td>\n",
       "      <td>consumable</td>\n",
       "      <td>2011-05-28</td>\n",
       "      <td>PMOF</td>\n",
       "      <td>2011-05</td>\n",
       "      <td>1938.0</td>\n",
       "    </tr>\n",
       "    <tr>\n",
       "      <th>2</th>\n",
       "      <td>2016-08-15</td>\n",
       "      <td>776b851b916c33d1</td>\n",
       "      <td>7dedf309494a1966</td>\n",
       "      <td>0.99</td>\n",
       "      <td>2</td>\n",
       "      <td>2016-08</td>\n",
       "      <td>iPad</td>\n",
       "      <td>supperless--my Shipmates</td>\n",
       "      <td>1383e4f2f49f0f44</td>\n",
       "      <td>Games</td>\n",
       "      <td>consumable</td>\n",
       "      <td>2009-11-15</td>\n",
       "      <td>PMOF</td>\n",
       "      <td>2009-11</td>\n",
       "      <td>2465.0</td>\n",
       "    </tr>\n",
       "    <tr>\n",
       "      <th>3</th>\n",
       "      <td>2016-06-17</td>\n",
       "      <td>7a47ca132a8dc695</td>\n",
       "      <td>7174a81c796dcf7e</td>\n",
       "      <td>1.99</td>\n",
       "      <td>2</td>\n",
       "      <td>2016-06</td>\n",
       "      <td>iPad</td>\n",
       "      <td>unwritten hungry</td>\n",
       "      <td>8590a25d4e5c249c</td>\n",
       "      <td>Games</td>\n",
       "      <td>consumable</td>\n",
       "      <td>2009-03-01</td>\n",
       "      <td>PMOF</td>\n",
       "      <td>2009-03</td>\n",
       "      <td>2665.0</td>\n",
       "    </tr>\n",
       "    <tr>\n",
       "      <th>4</th>\n",
       "      <td>2016-06-13</td>\n",
       "      <td>30581219bc952dbb</td>\n",
       "      <td>35aaf59d64a677e7</td>\n",
       "      <td>11.99</td>\n",
       "      <td>2</td>\n",
       "      <td>2016-06</td>\n",
       "      <td>iPad</td>\n",
       "      <td>Turning thanked</td>\n",
       "      <td>478e10f9248b7842</td>\n",
       "      <td>Entertainment</td>\n",
       "      <td>consumable</td>\n",
       "      <td>2010-10-01</td>\n",
       "      <td>PMOF</td>\n",
       "      <td>2010-10</td>\n",
       "      <td>2082.0</td>\n",
       "    </tr>\n",
       "  </tbody>\n",
       "</table>\n",
       "</div>"
      ],
      "text/plain": [
       "    trans_dt        content_id           acct_id  price  purchase_device_id  \\\n",
       "0 2016-08-28  b6cf4f33e7455df4  220574a7a6a71afa  11.99                   1   \n",
       "1 2016-09-16  71ac3e9c38ddbbba  8551f69a5015ea6a   1.99                   2   \n",
       "2 2016-08-15  776b851b916c33d1  7dedf309494a1966   0.99                   2   \n",
       "3 2016-06-17  7a47ca132a8dc695  7174a81c796dcf7e   1.99                   2   \n",
       "4 2016-06-13  30581219bc952dbb  35aaf59d64a677e7  11.99                   2   \n",
       "\n",
       "  year_mon_trans device_name                  app_name            app_id  \\\n",
       "0        2016-08      iPhone           events Bildad's  61cea77b9bc843d1   \n",
       "1        2016-09        iPad        swell questionably  1f0ebd67df5846cd   \n",
       "2        2016-08        iPad  supperless--my Shipmates  1383e4f2f49f0f44   \n",
       "3        2016-06        iPad          unwritten hungry  8590a25d4e5c249c   \n",
       "4        2016-06        iPad           Turning thanked  478e10f9248b7842   \n",
       "\n",
       "    app_category  content_type act_create_dt payment_type year_mon_account  \\\n",
       "0      Utilities  subscription    2009-08-29         PMOF          2009-08   \n",
       "1      Utilities    consumable    2011-05-28         PMOF          2011-05   \n",
       "2          Games    consumable    2009-11-15         PMOF          2009-11   \n",
       "3          Games    consumable    2009-03-01         PMOF          2009-03   \n",
       "4  Entertainment    consumable    2010-10-01         PMOF          2010-10   \n",
       "\n",
       "   age_on_pltfm  \n",
       "0        2556.0  \n",
       "1        1938.0  \n",
       "2        2465.0  \n",
       "3        2665.0  \n",
       "4        2082.0  "
      ]
     },
     "execution_count": 87,
     "metadata": {},
     "output_type": "execute_result"
    }
   ],
   "source": [
    "master.head()"
   ]
  },
  {
   "cell_type": "code",
   "execution_count": 88,
   "id": "862d5800",
   "metadata": {},
   "outputs": [
    {
     "data": {
      "text/plain": [
       "payment_type\n",
       "PMOF    14982\n",
       "Name: acct_id, dtype: int64"
      ]
     },
     "execution_count": 88,
     "metadata": {},
     "output_type": "execute_result"
    }
   ],
   "source": [
    "master[master.price>0].groupby('payment_type').acct_id.nunique()"
   ]
  },
  {
   "cell_type": "code",
   "execution_count": 89,
   "id": "2ba4fde3",
   "metadata": {},
   "outputs": [
    {
     "data": {
      "text/plain": [
       "payment_type\n",
       "Free only    14993\n",
       "PMOF         14982\n",
       "Name: acct_id, dtype: int64"
      ]
     },
     "execution_count": 89,
     "metadata": {},
     "output_type": "execute_result"
    }
   ],
   "source": [
    "master[master.price==0].groupby('payment_type').acct_id.nunique()"
   ]
  },
  {
   "cell_type": "markdown",
   "id": "ccdff6a3",
   "metadata": {},
   "source": [
    "## User level dataset"
   ]
  },
  {
   "cell_type": "code",
   "execution_count": 90,
   "id": "d53a2dba",
   "metadata": {},
   "outputs": [
    {
     "data": {
      "text/html": [
       "<div>\n",
       "<style scoped>\n",
       "    .dataframe tbody tr th:only-of-type {\n",
       "        vertical-align: middle;\n",
       "    }\n",
       "\n",
       "    .dataframe tbody tr th {\n",
       "        vertical-align: top;\n",
       "    }\n",
       "\n",
       "    .dataframe thead th {\n",
       "        text-align: right;\n",
       "    }\n",
       "</style>\n",
       "<table border=\"1\" class=\"dataframe\">\n",
       "  <thead>\n",
       "    <tr style=\"text-align: right;\">\n",
       "      <th></th>\n",
       "      <th>acct_id</th>\n",
       "      <th>tot_trans_val</th>\n",
       "      <th>avg_trans_val</th>\n",
       "      <th>trans_freq</th>\n",
       "      <th>uniq_categ</th>\n",
       "      <th>payment_type</th>\n",
       "      <th>game_trans_count</th>\n",
       "    </tr>\n",
       "  </thead>\n",
       "  <tbody>\n",
       "    <tr>\n",
       "      <th>0</th>\n",
       "      <td>00028709c8d435ff</td>\n",
       "      <td>0.00</td>\n",
       "      <td>0.000000</td>\n",
       "      <td>71</td>\n",
       "      <td>0</td>\n",
       "      <td>Free only</td>\n",
       "      <td>0</td>\n",
       "    </tr>\n",
       "    <tr>\n",
       "      <th>1</th>\n",
       "      <td>0005a4d77127fde7</td>\n",
       "      <td>1048.69</td>\n",
       "      <td>7.490643</td>\n",
       "      <td>140</td>\n",
       "      <td>5</td>\n",
       "      <td>PMOF</td>\n",
       "      <td>62</td>\n",
       "    </tr>\n",
       "    <tr>\n",
       "      <th>2</th>\n",
       "      <td>0005c296f2605c08</td>\n",
       "      <td>1208.55</td>\n",
       "      <td>7.899020</td>\n",
       "      <td>153</td>\n",
       "      <td>5</td>\n",
       "      <td>PMOF</td>\n",
       "      <td>62</td>\n",
       "    </tr>\n",
       "    <tr>\n",
       "      <th>3</th>\n",
       "      <td>00082ad3dc50a70d</td>\n",
       "      <td>0.00</td>\n",
       "      <td>0.000000</td>\n",
       "      <td>76</td>\n",
       "      <td>0</td>\n",
       "      <td>Free only</td>\n",
       "      <td>0</td>\n",
       "    </tr>\n",
       "    <tr>\n",
       "      <th>4</th>\n",
       "      <td>00085ff73786df4d</td>\n",
       "      <td>1255.51</td>\n",
       "      <td>7.946266</td>\n",
       "      <td>158</td>\n",
       "      <td>5</td>\n",
       "      <td>PMOF</td>\n",
       "      <td>81</td>\n",
       "    </tr>\n",
       "  </tbody>\n",
       "</table>\n",
       "</div>"
      ],
      "text/plain": [
       "            acct_id  tot_trans_val  avg_trans_val  trans_freq  uniq_categ  \\\n",
       "0  00028709c8d435ff           0.00       0.000000          71           0   \n",
       "1  0005a4d77127fde7        1048.69       7.490643         140           5   \n",
       "2  0005c296f2605c08        1208.55       7.899020         153           5   \n",
       "3  00082ad3dc50a70d           0.00       0.000000          76           0   \n",
       "4  00085ff73786df4d        1255.51       7.946266         158           5   \n",
       "\n",
       "  payment_type  game_trans_count  \n",
       "0    Free only                 0  \n",
       "1         PMOF                62  \n",
       "2         PMOF                62  \n",
       "3    Free only                 0  \n",
       "4         PMOF                81  "
      ]
     },
     "execution_count": 90,
     "metadata": {},
     "output_type": "execute_result"
    }
   ],
   "source": [
    "user_dtst=master.groupby('acct_id').agg(\n",
    "                                        tot_trans_val=('price', lambda x: sum(x)),        \n",
    "                                        avg_trans_val=('price', 'mean'),\n",
    "                                        trans_freq=('price', 'count'),\n",
    "                                        uniq_categ=('app_category','nunique'),\n",
    "                                        payment_type=('payment_type','min'),\n",
    "                                        game_trans_count=('app_category', lambda x:sum(np.where(x=='Games',1,0)))\n",
    "                                        ).reset_index()\n",
    "user_dtst.head()"
   ]
  },
  {
   "cell_type": "code",
   "execution_count": 91,
   "id": "670fabc7",
   "metadata": {},
   "outputs": [],
   "source": [
    "#  Can payment_type be used as a payer/nonpayer flag? Yes"
   ]
  },
  {
   "cell_type": "code",
   "execution_count": 92,
   "id": "62abe537",
   "metadata": {},
   "outputs": [
    {
     "data": {
      "text/plain": [
       "649.97"
      ]
     },
     "execution_count": 92,
     "metadata": {},
     "output_type": "execute_result"
    }
   ],
   "source": [
    "# master.groupby('payment_type').price.sum()\n",
    "\n",
    "# minimum total pay by a PMOF account\n",
    "min(master[master.payment_type=='PMOF'].groupby('acct_id').price.sum())"
   ]
  },
  {
   "cell_type": "markdown",
   "id": "146af6ce",
   "metadata": {},
   "source": [
    "### Payer non payer proportions in data"
   ]
  },
  {
   "cell_type": "code",
   "execution_count": 93,
   "id": "84176a7c",
   "metadata": {},
   "outputs": [
    {
     "data": {
      "text/plain": [
       "0.5002333333333333"
      ]
     },
     "execution_count": 93,
     "metadata": {},
     "output_type": "execute_result"
    }
   ],
   "source": [
    "sum(user_dtst.tot_trans_val==0)/user_dtst.shape[0]"
   ]
  },
  {
   "cell_type": "markdown",
   "id": "7b99a8ea",
   "metadata": {},
   "source": [
    "#### Note: The dataset has 50% payers and 50% non payers"
   ]
  },
  {
   "cell_type": "markdown",
   "id": "a1721625",
   "metadata": {},
   "source": [
    "### Distribution of total spend across payers"
   ]
  },
  {
   "cell_type": "code",
   "execution_count": 94,
   "id": "3a58de9a",
   "metadata": {},
   "outputs": [
    {
     "data": {
      "text/plain": [
       "<AxesSubplot:>"
      ]
     },
     "execution_count": 94,
     "metadata": {},
     "output_type": "execute_result"
    },
    {
     "data": {
      "image/png": "[encoded data removed]",
      "text/plain": [
       "<Figure size 432x288 with 1 Axes>"
      ]
     },
     "metadata": {
      "needs_background": "light"
     },
     "output_type": "display_data"
    }
   ],
   "source": [
    "user_dtst[user_dtst.tot_trans_val>0].tot_trans_val.hist()"
   ]
  },
  {
   "cell_type": "markdown",
   "id": "0f9f0993",
   "metadata": {},
   "source": [
    "#### Outliers skew the distribution so creating 100 buckets based on total spend ranks"
   ]
  },
  {
   "cell_type": "code",
   "execution_count": 95,
   "id": "79c0b214",
   "metadata": {},
   "outputs": [],
   "source": [
    "user_dtst['per_tot_spend']=user_dtst.tot_trans_val.rank(pct=True, method='dense')\n",
    "user_dtst['per_tot_spend_100']=round(user_dtst.tot_trans_val.rank(pct=True, method='dense'),2)"
   ]
  },
  {
   "cell_type": "code",
   "execution_count": 128,
   "id": "d95cf0d0",
   "metadata": {},
   "outputs": [
    {
     "data": {
      "text/plain": [
       "<AxesSubplot:title={'center':'Total Spend for all users across 100 ranked buckets'}, xlabel='per_tot_spend_100'>"
      ]
     },
     "execution_count": 128,
     "metadata": {},
     "output_type": "execute_result"
    },
    {
     "data": {
      "image/png": "[encoded data removed]",
      "text/plain": [
       "<Figure size 432x288 with 1 Axes>"
      ]
     },
     "metadata": {
      "needs_background": "light"
     },
     "output_type": "display_data"
    }
   ],
   "source": [
    "user_dtst.groupby('per_tot_spend_100').tot_trans_val.mean().plot(logy=True, title='Total Spend for all users across 100 ranked buckets')"
   ]
  },
  {
   "cell_type": "code",
   "execution_count": 96,
   "id": "6ddc0a01",
   "metadata": {},
   "outputs": [
    {
     "data": {
      "text/plain": [
       "<AxesSubplot:title={'center':'Total Spend for payers across 100 ranked buckets'}, xlabel='per_tot_spend_100'>"
      ]
     },
     "execution_count": 96,
     "metadata": {},
     "output_type": "execute_result"
    },
    {
     "data": {
      "image/png": "[encoded data removed]",
      "text/plain": [
       "<Figure size 432x288 with 1 Axes>"
      ]
     },
     "metadata": {
      "needs_background": "light"
     },
     "output_type": "display_data"
    }
   ],
   "source": [
    "user_dtst[user_dtst.tot_trans_val>0].groupby('per_tot_spend_100').tot_trans_val.mean().plot(logy=True, title='Total Spend for payers across 100 ranked buckets')"
   ]
  },
  {
   "cell_type": "markdown",
   "id": "bddb6a14",
   "metadata": {},
   "source": [
    "#### Remove last 3%ile and check distribution for payers"
   ]
  },
  {
   "cell_type": "code",
   "execution_count": 105,
   "id": "e97eadb1",
   "metadata": {},
   "outputs": [
    {
     "data": {
      "text/plain": [
       "Text(0.5, 1.0, 'Distribution of Spend after removing non-payers and Whales')"
      ]
     },
     "execution_count": 105,
     "metadata": {},
     "output_type": "execute_result"
    },
    {
     "data": {
      "image/png": "[encoded data removed]",
      "text/plain": [
       "<Figure size 432x288 with 1 Axes>"
      ]
     },
     "metadata": {
      "needs_background": "light"
     },
     "output_type": "display_data"
    }
   ],
   "source": [
    "outlier_filter = user_dtst.per_tot_spend_100 < 0.98 \n",
    "payer_filter = user_dtst.tot_trans_val>0\n",
    "user_dtst[payer_filter & outlier_filter].tot_trans_val.hist()\n",
    "plt.title('Distribution of Spend after removing non-payers and Whales')"
   ]
  },
  {
   "cell_type": "markdown",
   "id": "54e6d4bc",
   "metadata": {},
   "source": [
    "#### Distribution of Whales"
   ]
  },
  {
   "cell_type": "code",
   "execution_count": 140,
   "id": "ce52b226",
   "metadata": {},
   "outputs": [
    {
     "data": {
      "text/plain": [
       "Text(0.5, 1.0, 'Distribution of Spend for Whales')"
      ]
     },
     "execution_count": 140,
     "metadata": {},
     "output_type": "execute_result"
    },
    {
     "data": {
      "image/png": "[encoded data removed]",
      "text/plain": [
       "<Figure size 432x288 with 1 Axes>"
      ]
     },
     "metadata": {
      "needs_background": "light"
     },
     "output_type": "display_data"
    }
   ],
   "source": [
    "user_dtst[(user_dtst.per_tot_spend_100 >= 0.98) & (user_dtst.tot_trans_val>0)].tot_trans_val.hist()\n",
    "plt.title('Distribution of Spend for Whales')"
   ]
  },
  {
   "cell_type": "markdown",
   "id": "2ec4b9a3",
   "metadata": {},
   "source": [
    "#### Relationsip between Game apps and total spend"
   ]
  },
  {
   "cell_type": "code",
   "execution_count": 104,
   "id": "eefb8981",
   "metadata": {},
   "outputs": [
    {
     "data": {
      "text/plain": [
       "Text(0.5, 1.0, 'Spend for users across no of transactions on games')"
      ]
     },
     "execution_count": 104,
     "metadata": {},
     "output_type": "execute_result"
    },
    {
     "data": {
      "image/png": "[encoded data removed]",
      "text/plain": [
       "<Figure size 432x288 with 1 Axes>"
      ]
     },
     "metadata": {
      "needs_background": "light"
     },
     "output_type": "display_data"
    }
   ],
   "source": [
    "plt.scatter(x=user_dtst[outlier_filter & payer_filter].game_trans_count,y=user_dtst[outlier_filter & payer_filter].tot_trans_val)\n",
    "plt.xlabel('No of transactions on Games')\n",
    "plt.ylabel('Total Spend')\n",
    "plt.title('Spend for users across no of transactions on games')"
   ]
  },
  {
   "cell_type": "code",
   "execution_count": 126,
   "id": "5f568bae",
   "metadata": {},
   "outputs": [
    {
     "data": {
      "text/plain": [
       "app_category\n",
       "Entertainment         1265946.34\n",
       "Games                11861721.90\n",
       "Photos & Videos       3183259.41\n",
       "Social Networking      590579.25\n",
       "Utilities             1122038.65\n",
       "Name: price, dtype: float64"
      ]
     },
     "execution_count": 126,
     "metadata": {},
     "output_type": "execute_result"
    }
   ],
   "source": [
    "whale_accts=user_dtst[['acct_id']][~outlier_filter]\n",
    "whale_trans=pd.merge(master, whale_accts, on='acct_id',how='inner')\n",
    "whale_trans.groupby('app_category').price.sum()\n",
    "master.groupby('app_category').price.sum()\n",
    "# master.head()\n",
    "# .groupby('app_category')\n",
    "# [outlier_filter & payer_filter]"
   ]
  },
  {
   "cell_type": "code",
   "execution_count": 100,
   "id": "bbb4642e",
   "metadata": {},
   "outputs": [
    {
     "data": {
      "text/plain": [
       "Text(0, 0.5, 'Total Spend')"
      ]
     },
     "execution_count": 100,
     "metadata": {},
     "output_type": "execute_result"
    },
    {
     "data": {
      "image/png": "[encoded data removed]",
      "text/plain": [
       "<Figure size 432x288 with 1 Axes>"
      ]
     },
     "metadata": {
      "needs_background": "light"
     },
     "output_type": "display_data"
    }
   ],
   "source": [
    "plt.scatter(x=user_dtst[outlier_filter & payer_filter].uniq_categ,y=user_dtst[outlier_filter & payer_filter].tot_trans_val)\n",
    "plt.xlabel('No of transactions on Games')\n",
    "plt.ylabel('Total Spend')"
   ]
  },
  {
   "cell_type": "markdown",
   "id": "f852c135",
   "metadata": {},
   "source": [
    "## Collate import and master dataset creation code into a function"
   ]
  },
  {
   "cell_type": "code",
   "execution_count": 102,
   "id": "26a35246",
   "metadata": {},
   "outputs": [],
   "source": [
    "def import_data_and_create_master():\n",
    "    import pandas as pd\n",
    "    import numpy as np\n",
    "    import matplotlib.pyplot as plt\n",
    "    import matplotlib as mpl\n",
    "    import matplotlib.dates as mdates\n",
    "    \n",
    "    \n",
    "    ## Read in data and housekeeping\n",
    "    \n",
    "    accounts = pd.read_csv('account_dat.csv')\n",
    "    apps=pd.read_csv('app_dat.csv')\n",
    "    in_app_cont=pd.read_csv('in-app_dat.csv')\n",
    "    devices=pd.read_csv('device_ref.csv')\n",
    "    categories=pd.read_csv('category_ref.csv')\n",
    "    trans=pd.read_csv('transaction_dat.csv')\n",
    "\n",
    "    accounts.create_dt = pd.to_datetime(accounts.create_dt)\n",
    "    trans.create_dt = pd.to_datetime(trans.create_dt)\n",
    "\n",
    "    # Create year_month to analyze trends across time\n",
    "    accounts['year_mon_account'] = pd.to_datetime(accounts.create_dt).dt.to_period('M')\n",
    "    trans['year_mon_trans'] = pd.to_datetime(trans.create_dt).dt.to_period('M')\n",
    "\n",
    "    #rename vars to more logical names\n",
    "    accounts=accounts.rename(columns={'create_dt':'act_create_dt'})\n",
    "    categories=categories.rename(columns={'category_name':'app_category'})\n",
    "    apps=apps.rename(columns={'content_id':'app_id'})\n",
    "    in_app_cont=in_app_cont.rename(columns={'parent_app_content_id':'app_id','type':'content_type'})\n",
    "    trans=trans.rename(columns={'device_id':'purchase_device_id', 'create_dt':'trans_dt'})\n",
    "    \n",
    "    ## Map apps to category\n",
    "    apps_cat=pd.merge(apps,categories,on='category_id').drop(columns=['category_id'])\n",
    "    ## Map apps to in_app_cont\n",
    "    apps_wt_cont = pd.merge(apps_cat,in_app_cont,on='app_id',how='left')\n",
    "    ## Map transactions and app_wt_cont\n",
    "    trans_dev=pd.merge(trans,devices,left_on='purchase_device_id',right_on='device_id',how='left').drop(columns=['device_id'])\n",
    "    trans_master=pd.merge(trans_dev,apps_wt_cont.drop(columns=['device_id']),on='content_id',how='left')\n",
    "    ## Map trans_master with accounts\n",
    "    master=pd.merge(trans_master,accounts,on='acct_id',how='left')\n",
    "    ## Create age_on_pltfm\n",
    "    master['age_on_pltfm']=(master.trans_dt-master.act_create_dt).dt.days\n",
    "    \n",
    "    return master"
   ]
  }
 ],
 "metadata": {
  "kernelspec": {
   "display_name": "Python 3 (ipykernel)",
   "language": "python",
   "name": "python3"
  },
  "language_info": {
   "codemirror_mode": {
    "name": "ipython",
    "version": 3
   },
   "file_extension": ".py",
   "mimetype": "text/x-python",
   "name": "python",
   "nbconvert_exporter": "python",
   "pygments_lexer": "ipython3",
   "version": "3.9.7"
  }
 },
 "nbformat": 4,
 "nbformat_minor": 5
}
