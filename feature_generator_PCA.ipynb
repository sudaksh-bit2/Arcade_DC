{
 "cells": [
  {
   "cell_type": "code",
   "execution_count": 3,
   "id": "f0dfd4ef",
   "metadata": {},
   "outputs": [],
   "source": [
    "import pandas as pd\n",
    "import numpy as np\n",
    "import matplotlib.pyplot as plt\n",
    "import matplotlib as mpl\n",
    "import datetime\n",
    "import sklearn\n",
    "\n",
    "#Custom\n",
    "from all_functions import import_data_and_create_master"
   ]
  },
  {
   "cell_type": "code",
   "execution_count": null,
   "id": "3f88e33a",
   "metadata": {},
   "outputs": [],
   "source": [
    "## The purpose is to create a function which can take in a date and create features from the data looking \n",
    "## back from that date aggregating at a user level, behaviour from transactiontable and all other information \n",
    "## available about the transaction downloads. "
   ]
  },
  {
   "cell_type": "markdown",
   "id": "e78d7f69",
   "metadata": {},
   "source": [
    "#### Hard Coded for feature generator:\n",
    "- Metrics: \n",
    "    - price(Spend)\n",
    "    - age_on_pltfm\n",
    "\n",
    "- Aggregation Functions:\n",
    "    - Transaction count : count()\n",
    "    - Transaction total : sum()\n",
    "    - Avg value of Transaction : mean()\n",
    "\n",
    "- Cuts/Groups:\n",
    "    - Time Window:\n",
    "        - Previous 7 days\n",
    "        - Previous 14 days\n",
    "        - Previous 30 days\n",
    "        - Previous 60 days\n",
    "        - All hist\n",
    "    - App Categry\n",
    "    - Device\n",
    "    - Payment Type\n",
    "    - Content Type"
   ]
  },
  {
   "cell_type": "code",
   "execution_count": 4,
   "id": "64ef21a7",
   "metadata": {},
   "outputs": [],
   "source": [
    "master=import_data_and_create_master()"
   ]
  },
  {
   "cell_type": "code",
   "execution_count": 3,
   "id": "47b9c95c",
   "metadata": {},
   "outputs": [
    {
     "data": {
      "text/plain": [
       "trans_dt              datetime64[ns]\n",
       "content_id                    object\n",
       "acct_id                       object\n",
       "price                        float64\n",
       "purchase_device_id             int64\n",
       "year_mon_trans             period[M]\n",
       "device_name                   object\n",
       "app_name                      object\n",
       "app_id                        object\n",
       "app_category                  object\n",
       "content_type                  object\n",
       "act_create_dt         datetime64[ns]\n",
       "payment_type                  object\n",
       "year_mon_account           period[M]\n",
       "age_on_pltfm                 float64\n",
       "dtype: object"
      ]
     },
     "execution_count": 3,
     "metadata": {},
     "output_type": "execute_result"
    }
   ],
   "source": [
    "master.dtypes"
   ]
  },
  {
   "cell_type": "code",
   "execution_count": 4,
   "id": "c635a36f",
   "metadata": {},
   "outputs": [
    {
     "data": {
      "text/html": [
       "<div>\n",
       "<style scoped>\n",
       "    .dataframe tbody tr th:only-of-type {\n",
       "        vertical-align: middle;\n",
       "    }\n",
       "\n",
       "    .dataframe tbody tr th {\n",
       "        vertical-align: top;\n",
       "    }\n",
       "\n",
       "    .dataframe thead th {\n",
       "        text-align: right;\n",
       "    }\n",
       "</style>\n",
       "<table border=\"1\" class=\"dataframe\">\n",
       "  <thead>\n",
       "    <tr style=\"text-align: right;\">\n",
       "      <th></th>\n",
       "      <th>trans_dt</th>\n",
       "      <th>content_id</th>\n",
       "      <th>acct_id</th>\n",
       "      <th>price</th>\n",
       "      <th>purchase_device_id</th>\n",
       "      <th>year_mon_trans</th>\n",
       "      <th>device_name</th>\n",
       "      <th>app_name</th>\n",
       "      <th>app_id</th>\n",
       "      <th>app_category</th>\n",
       "      <th>content_type</th>\n",
       "      <th>act_create_dt</th>\n",
       "      <th>payment_type</th>\n",
       "      <th>year_mon_account</th>\n",
       "      <th>age_on_pltfm</th>\n",
       "    </tr>\n",
       "  </thead>\n",
       "  <tbody>\n",
       "    <tr>\n",
       "      <th>0</th>\n",
       "      <td>2016-08-28</td>\n",
       "      <td>b6cf4f33e7455df4</td>\n",
       "      <td>220574a7a6a71afa</td>\n",
       "      <td>11.99</td>\n",
       "      <td>1</td>\n",
       "      <td>2016-08</td>\n",
       "      <td>iPhone</td>\n",
       "      <td>events Bildad's</td>\n",
       "      <td>61cea77b9bc843d1</td>\n",
       "      <td>Utilities</td>\n",
       "      <td>subscription</td>\n",
       "      <td>2009-08-29</td>\n",
       "      <td>PMOF</td>\n",
       "      <td>2009-08</td>\n",
       "      <td>2556.0</td>\n",
       "    </tr>\n",
       "    <tr>\n",
       "      <th>1</th>\n",
       "      <td>2016-09-16</td>\n",
       "      <td>71ac3e9c38ddbbba</td>\n",
       "      <td>8551f69a5015ea6a</td>\n",
       "      <td>1.99</td>\n",
       "      <td>2</td>\n",
       "      <td>2016-09</td>\n",
       "      <td>iPad</td>\n",
       "      <td>swell questionably</td>\n",
       "      <td>1f0ebd67df5846cd</td>\n",
       "      <td>Utilities</td>\n",
       "      <td>consumable</td>\n",
       "      <td>2011-05-28</td>\n",
       "      <td>PMOF</td>\n",
       "      <td>2011-05</td>\n",
       "      <td>1938.0</td>\n",
       "    </tr>\n",
       "    <tr>\n",
       "      <th>2</th>\n",
       "      <td>2016-08-15</td>\n",
       "      <td>776b851b916c33d1</td>\n",
       "      <td>7dedf309494a1966</td>\n",
       "      <td>0.99</td>\n",
       "      <td>2</td>\n",
       "      <td>2016-08</td>\n",
       "      <td>iPad</td>\n",
       "      <td>supperless--my Shipmates</td>\n",
       "      <td>1383e4f2f49f0f44</td>\n",
       "      <td>Games</td>\n",
       "      <td>consumable</td>\n",
       "      <td>2009-11-15</td>\n",
       "      <td>PMOF</td>\n",
       "      <td>2009-11</td>\n",
       "      <td>2465.0</td>\n",
       "    </tr>\n",
       "    <tr>\n",
       "      <th>3</th>\n",
       "      <td>2016-06-17</td>\n",
       "      <td>7a47ca132a8dc695</td>\n",
       "      <td>7174a81c796dcf7e</td>\n",
       "      <td>1.99</td>\n",
       "      <td>2</td>\n",
       "      <td>2016-06</td>\n",
       "      <td>iPad</td>\n",
       "      <td>unwritten hungry</td>\n",
       "      <td>8590a25d4e5c249c</td>\n",
       "      <td>Games</td>\n",
       "      <td>consumable</td>\n",
       "      <td>2009-03-01</td>\n",
       "      <td>PMOF</td>\n",
       "      <td>2009-03</td>\n",
       "      <td>2665.0</td>\n",
       "    </tr>\n",
       "    <tr>\n",
       "      <th>4</th>\n",
       "      <td>2016-06-13</td>\n",
       "      <td>30581219bc952dbb</td>\n",
       "      <td>35aaf59d64a677e7</td>\n",
       "      <td>11.99</td>\n",
       "      <td>2</td>\n",
       "      <td>2016-06</td>\n",
       "      <td>iPad</td>\n",
       "      <td>Turning thanked</td>\n",
       "      <td>478e10f9248b7842</td>\n",
       "      <td>Entertainment</td>\n",
       "      <td>consumable</td>\n",
       "      <td>2010-10-01</td>\n",
       "      <td>PMOF</td>\n",
       "      <td>2010-10</td>\n",
       "      <td>2082.0</td>\n",
       "    </tr>\n",
       "  </tbody>\n",
       "</table>\n",
       "</div>"
      ],
      "text/plain": [
       "    trans_dt        content_id           acct_id  price  purchase_device_id  \\\n",
       "0 2016-08-28  b6cf4f33e7455df4  220574a7a6a71afa  11.99                   1   \n",
       "1 2016-09-16  71ac3e9c38ddbbba  8551f69a5015ea6a   1.99                   2   \n",
       "2 2016-08-15  776b851b916c33d1  7dedf309494a1966   0.99                   2   \n",
       "3 2016-06-17  7a47ca132a8dc695  7174a81c796dcf7e   1.99                   2   \n",
       "4 2016-06-13  30581219bc952dbb  35aaf59d64a677e7  11.99                   2   \n",
       "\n",
       "  year_mon_trans device_name                  app_name            app_id  \\\n",
       "0        2016-08      iPhone           events Bildad's  61cea77b9bc843d1   \n",
       "1        2016-09        iPad        swell questionably  1f0ebd67df5846cd   \n",
       "2        2016-08        iPad  supperless--my Shipmates  1383e4f2f49f0f44   \n",
       "3        2016-06        iPad          unwritten hungry  8590a25d4e5c249c   \n",
       "4        2016-06        iPad           Turning thanked  478e10f9248b7842   \n",
       "\n",
       "    app_category  content_type act_create_dt payment_type year_mon_account  \\\n",
       "0      Utilities  subscription    2009-08-29         PMOF          2009-08   \n",
       "1      Utilities    consumable    2011-05-28         PMOF          2011-05   \n",
       "2          Games    consumable    2009-11-15         PMOF          2009-11   \n",
       "3          Games    consumable    2009-03-01         PMOF          2009-03   \n",
       "4  Entertainment    consumable    2010-10-01         PMOF          2010-10   \n",
       "\n",
       "   age_on_pltfm  \n",
       "0        2556.0  \n",
       "1        1938.0  \n",
       "2        2465.0  \n",
       "3        2665.0  \n",
       "4        2082.0  "
      ]
     },
     "execution_count": 4,
     "metadata": {},
     "output_type": "execute_result"
    }
   ],
   "source": [
    "master.head()"
   ]
  },
  {
   "cell_type": "markdown",
   "id": "cf5a0cfd",
   "metadata": {},
   "source": [
    "### Fill nulls with 'unknown' or 'missing'"
   ]
  },
  {
   "cell_type": "code",
   "execution_count": 8,
   "id": "f0090a3b",
   "metadata": {},
   "outputs": [
    {
     "data": {
      "text/plain": [
       "trans_dt                    0\n",
       "content_id                  0\n",
       "acct_id                     0\n",
       "price                       0\n",
       "purchase_device_id          0\n",
       "year_mon_trans              0\n",
       "device_name                 0\n",
       "app_name              1594364\n",
       "app_id                1594364\n",
       "app_category          1594364\n",
       "content_type          1594364\n",
       "act_create_dt            2742\n",
       "payment_type             2742\n",
       "year_mon_account         2742\n",
       "age_on_pltfm             2742\n",
       "dtype: int64"
      ]
     },
     "execution_count": 8,
     "metadata": {},
     "output_type": "execute_result"
    }
   ],
   "source": [
    "master.isnull().sum()\n"
   ]
  },
  {
   "cell_type": "code",
   "execution_count": 5,
   "id": "ef967383",
   "metadata": {},
   "outputs": [],
   "source": [
    "master.fillna({'app_name':'unknown',\n",
    "               'app_id':'unknown',\n",
    "               'app_category':'unknown',\n",
    "               'content_type':'unknown',\n",
    "               'payment_type':'unknown',\n",
    "               }, inplace=True)"
   ]
  },
  {
   "cell_type": "code",
   "execution_count": 10,
   "id": "9ee97bbd",
   "metadata": {},
   "outputs": [
    {
     "data": {
      "text/plain": [
       "trans_dt                 0\n",
       "content_id               0\n",
       "acct_id                  0\n",
       "price                    0\n",
       "purchase_device_id       0\n",
       "year_mon_trans           0\n",
       "device_name              0\n",
       "app_name                 0\n",
       "app_id                   0\n",
       "app_category             0\n",
       "content_type             0\n",
       "act_create_dt         2742\n",
       "payment_type             0\n",
       "year_mon_account      2742\n",
       "age_on_pltfm          2742\n",
       "dtype: int64"
      ]
     },
     "execution_count": 10,
     "metadata": {},
     "output_type": "execute_result"
    }
   ],
   "source": [
    "master.isnull().sum()"
   ]
  },
  {
   "cell_type": "markdown",
   "id": "ef12728f",
   "metadata": {},
   "source": [
    "### Create an example feature and then generalize it to create a function\n",
    "- For every user what is the avg value of transaction over last 14 days across app category 'Utilities' on ipad for content_type consumables"
   ]
  },
  {
   "cell_type": "code",
   "execution_count": 6,
   "id": "ef4e3694",
   "metadata": {},
   "outputs": [],
   "source": [
    "date_of_segmentation=pd.to_datetime('2016-06-30')\n",
    "master_sub=master[(master.trans_dt<=date_of_segmentation)]"
   ]
  },
  {
   "cell_type": "code",
   "execution_count": 52,
   "id": "f5edc6bc",
   "metadata": {},
   "outputs": [
    {
     "data": {
      "text/html": [
       "<div>\n",
       "<style scoped>\n",
       "    .dataframe tbody tr th:only-of-type {\n",
       "        vertical-align: middle;\n",
       "    }\n",
       "\n",
       "    .dataframe tbody tr th {\n",
       "        vertical-align: top;\n",
       "    }\n",
       "\n",
       "    .dataframe thead th {\n",
       "        text-align: right;\n",
       "    }\n",
       "</style>\n",
       "<table border=\"1\" class=\"dataframe\">\n",
       "  <thead>\n",
       "    <tr style=\"text-align: right;\">\n",
       "      <th></th>\n",
       "    </tr>\n",
       "  </thead>\n",
       "  <tbody>\n",
       "    <tr>\n",
       "      <th>7174a81c796dcf7e</th>\n",
       "    </tr>\n",
       "    <tr>\n",
       "      <th>35aaf59d64a677e7</th>\n",
       "    </tr>\n",
       "    <tr>\n",
       "      <th>9208426ff8cd8879</th>\n",
       "    </tr>\n",
       "    <tr>\n",
       "      <th>bed1f709cccd7893</th>\n",
       "    </tr>\n",
       "    <tr>\n",
       "      <th>d50fbbf7e279aee9</th>\n",
       "    </tr>\n",
       "  </tbody>\n",
       "</table>\n",
       "</div>"
      ],
      "text/plain": [
       "Empty DataFrame\n",
       "Columns: []\n",
       "Index: [7174a81c796dcf7e, 35aaf59d64a677e7, 9208426ff8cd8879, bed1f709cccd7893, d50fbbf7e279aee9]"
      ]
     },
     "execution_count": 52,
     "metadata": {},
     "output_type": "execute_result"
    }
   ],
   "source": [
    "feat_master=pd.DataFrame(index=master_sub.acct_id.unique())\n",
    "feat_master.head()"
   ]
  },
  {
   "cell_type": "markdown",
   "id": "e6ef08b9",
   "metadata": {},
   "source": [
    "### Create indexes for all filters to subset master"
   ]
  },
  {
   "cell_type": "code",
   "execution_count": 58,
   "id": "b09862f6",
   "metadata": {},
   "outputs": [
    {
     "name": "stdout",
     "output_type": "stream",
     "text": [
      "[7, 14, 30, 60, 100000]\n",
      "['Games', 'Entertainment', 'Photos & Videos', 'Utilities', 'Social Networking', 'unknown']\n",
      "['iPad', 'iPhone']\n",
      "['consumable', 'subscription', 'unknown']\n",
      "_days_14_app_cat_Utilities_device_iPad_cont_type_consumable\n"
     ]
    }
   ],
   "source": [
    "\n",
    "# Index for time window\n",
    "days_prev_all=[7,14,30,60,100000]\n",
    "print(days_prev_all)\n",
    "days_prev=14\n",
    "time_window=datetime.timedelta(days_prev)\n",
    "time_filter_index=(master_sub.trans_dt>(date_of_segmentation-time_window))\n",
    "\n",
    "# Index for App Category\n",
    "app_categories_all=master_sub.app_category.unique().tolist()\n",
    "print(app_categories_all)\n",
    "app_cat='Utilities'\n",
    "app_filter_index = master_sub.app_category==app_cat\n",
    "\n",
    "# Index for Device\n",
    "devices_all = master_sub.device_name.unique().tolist()\n",
    "print(devices_all)\n",
    "device = 'iPad'\n",
    "device_filter_index = master_sub.device_name==device\n",
    "\n",
    "# Index for Content Type\n",
    "content_all = master_sub.content_type.unique().tolist()\n",
    "print(content_all)\n",
    "content_type = 'consumable'\n",
    "content_filter_index = master_sub.content_type==content_type\n",
    "\n",
    "all_filters=device_filter_index & app_filter_index & time_filter_index & content_filter_index\n",
    "# Number of trans in the filter\n",
    "sum(all_filters)\n",
    "\n",
    "# String to use in feature name\n",
    "cuts_string='_days_'+str(days_prev)+'_app_cat_'+app_cat+'_device_'+device+'_cont_type_'+content_type\n",
    "print(cuts_string)"
   ]
  },
  {
   "cell_type": "markdown",
   "id": "1b57960a",
   "metadata": {},
   "source": [
    "### Subset master based on above index"
   ]
  },
  {
   "cell_type": "code",
   "execution_count": 54,
   "id": "1d320072",
   "metadata": {},
   "outputs": [
    {
     "data": {
      "text/plain": [
       "(5452, 15)"
      ]
     },
     "execution_count": 54,
     "metadata": {},
     "output_type": "execute_result"
    }
   ],
   "source": [
    "master_filt=master_sub[all_filters]\n",
    "master_filt.shape"
   ]
  },
  {
   "cell_type": "markdown",
   "id": "4beaddd3",
   "metadata": {},
   "source": [
    "### Do the Aggregation"
   ]
  },
  {
   "cell_type": "code",
   "execution_count": 55,
   "id": "24942e8d",
   "metadata": {},
   "outputs": [],
   "source": [
    "all_agg_functions=['mean','count','sum']\n",
    "agg_function='mean'\n",
    "\n",
    "all_metric=['price','age_on_pltfm']\n",
    "metric='price'\n",
    "\n",
    "feat_name=str(metric+'_'+agg_function+cuts_string)\n",
    "feat_df=master_filt.groupby('acct_id').agg({metric:agg_function}).rename(columns={metric:feat_name})\n",
    "feat_master=feat_master.join(feat_df)"
   ]
  },
  {
   "cell_type": "code",
   "execution_count": 56,
   "id": "fd927bd5",
   "metadata": {},
   "outputs": [
    {
     "data": {
      "text/html": [
       "<div>\n",
       "<style scoped>\n",
       "    .dataframe tbody tr th:only-of-type {\n",
       "        vertical-align: middle;\n",
       "    }\n",
       "\n",
       "    .dataframe tbody tr th {\n",
       "        vertical-align: top;\n",
       "    }\n",
       "\n",
       "    .dataframe thead th {\n",
       "        text-align: right;\n",
       "    }\n",
       "</style>\n",
       "<table border=\"1\" class=\"dataframe\">\n",
       "  <thead>\n",
       "    <tr style=\"text-align: right;\">\n",
       "      <th></th>\n",
       "      <th>price_mean_days_14_app_cat_Utilities_device_iPad_cont_type_consumable</th>\n",
       "    </tr>\n",
       "  </thead>\n",
       "  <tbody>\n",
       "    <tr>\n",
       "      <th>7174a81c796dcf7e</th>\n",
       "      <td>NaN</td>\n",
       "    </tr>\n",
       "    <tr>\n",
       "      <th>35aaf59d64a677e7</th>\n",
       "      <td>10.99</td>\n",
       "    </tr>\n",
       "    <tr>\n",
       "      <th>9208426ff8cd8879</th>\n",
       "      <td>NaN</td>\n",
       "    </tr>\n",
       "    <tr>\n",
       "      <th>bed1f709cccd7893</th>\n",
       "      <td>5.99</td>\n",
       "    </tr>\n",
       "    <tr>\n",
       "      <th>d50fbbf7e279aee9</th>\n",
       "      <td>NaN</td>\n",
       "    </tr>\n",
       "  </tbody>\n",
       "</table>\n",
       "</div>"
      ],
      "text/plain": [
       "                  price_mean_days_14_app_cat_Utilities_device_iPad_cont_type_consumable\n",
       "7174a81c796dcf7e                                                NaN                    \n",
       "35aaf59d64a677e7                                              10.99                    \n",
       "9208426ff8cd8879                                                NaN                    \n",
       "bed1f709cccd7893                                               5.99                    \n",
       "d50fbbf7e279aee9                                                NaN                    "
      ]
     },
     "execution_count": 56,
     "metadata": {},
     "output_type": "execute_result"
    }
   ],
   "source": [
    "feat_master.head()"
   ]
  },
  {
   "cell_type": "markdown",
   "id": "7a338483",
   "metadata": {},
   "source": [
    "### Generalize above code to function"
   ]
  },
  {
   "cell_type": "code",
   "execution_count": 60,
   "id": "cb2648bd",
   "metadata": {},
   "outputs": [
    {
     "name": "stdout",
     "output_type": "stream",
     "text": [
      "Iterate across days_prev: [7, 14, 30, 60, 100000]\n",
      "Iterate across app_categories: ['Games', 'Entertainment', 'Photos & Videos', 'Utilities', 'Social Networking', 'unknown']\n",
      "Iterate across devices: ['iPad', 'iPhone']\n",
      "Iterate across content types: ['consumable', 'subscription', 'unknown']\n"
     ]
    }
   ],
   "source": [
    "# Index for time window\n",
    "print('Iterate across days_prev: '+str(days_prev_all))\n",
    "app_categories_all=master_sub.app_category.unique().tolist()\n",
    "print('Iterate across app_categories: '+ str(app_categories_all))\n",
    "devices_all = master_sub.device_name.unique().tolist()\n",
    "print('Iterate across devices: '+ str(devices_all))\n",
    "content_all = master_sub.content_type.unique().tolist()\n",
    "print('Iterate across content types: '+ str(content_all))\n"
   ]
  },
  {
   "cell_type": "code",
   "execution_count": 66,
   "id": "b5512a6f",
   "metadata": {},
   "outputs": [
    {
     "data": {
      "text/plain": [
       "['Games',\n",
       " 'Entertainment',\n",
       " 'Photos & Videos',\n",
       " 'Utilities',\n",
       " 'Social Networking',\n",
       " 'unknown',\n",
       " 'All']"
      ]
     },
     "execution_count": 66,
     "metadata": {},
     "output_type": "execute_result"
    }
   ],
   "source": [
    "app_categories_all=master_sub.app_category.unique().tolist()\n",
    "app_categories_all.append('All')\n",
    "app_categories_all"
   ]
  },
  {
   "cell_type": "code",
   "execution_count": 118,
   "id": "cd2440f7",
   "metadata": {},
   "outputs": [],
   "source": [
    "def generate_features(date_of_segmentation,dataset, days_prev_all=[7,14,30,60],all_agg_functions=['mean','count','sum'],all_metrics=['price']):\n",
    "    date_of_segmentation=pd.to_datetime(date_of_segmentation)\n",
    "    master_sub=dataset[(dataset.trans_dt<=date_of_segmentation)]\n",
    "\n",
    "    feat_master=pd.DataFrame(index=master_sub.acct_id.unique())\n",
    "    feat_master.head()\n",
    "\n",
    "    # Index for time window\n",
    "    #appending 100000 days to get all historical data\n",
    "    days_prev_all.append(100000)\n",
    "    print('Days_prev: '+str(days_prev_all))\n",
    "    app_categories_all=master_sub.app_category.unique().tolist()\n",
    "    app_categories_all.append('All')\n",
    "    print('App_categories: '+ str(app_categories_all))\n",
    "    devices_all = master_sub.device_name.unique().tolist()\n",
    "    devices_all.append('All')\n",
    "    print('Devices: '+ str(devices_all))\n",
    "    content_all = master_sub.content_type.unique().tolist()\n",
    "    content_all.append('All')\n",
    "    print('Content types: '+ str(content_all))\n",
    "\n",
    "\n",
    "\n",
    "    for days_prev in days_prev_all:\n",
    "        for app_cat in app_categories_all:\n",
    "            for device in devices_all:\n",
    "                for content_type in content_all:\n",
    "                    #Index for days_prev\n",
    "                    # in case of 'All' generate a series with all True so that no filtering is done\n",
    "                    time_window=datetime.timedelta(days_prev)\n",
    "                    time_filter_index=np.where(days_prev=='All',~(master_sub.trans_dt.isnull()),(master_sub.trans_dt>(date_of_segmentation-time_window)))\n",
    "\n",
    "                    # Index for App Category\n",
    "                    # in case of 'All' generate a series with all True so that no filtering is done\n",
    "                    app_filter_index = np.where(app_cat=='All',~(master_sub.app_category.isnull()),master_sub.app_category==app_cat)\n",
    "\n",
    "                    # Index for Device\n",
    "                    # in case of 'All' generate a series with all True so that no filtering is done\n",
    "                    device_filter_index = np.where(device=='All',~(master_sub.device_name.isnull()), master_sub.device_name==device)\n",
    "\n",
    "                    # Index for Content Type\n",
    "                    # in case of 'All' generate a series with all True so that no filtering is done\n",
    "                    content_filter_index =  np.where(content_type=='All',~(master_sub.content_type.isnull()), master_sub.content_type==content_type)\n",
    "\n",
    "                    #All filters\n",
    "                    all_filters=device_filter_index & app_filter_index & time_filter_index & content_filter_index\n",
    "\n",
    "                    # String to use in feature name\n",
    "                    cuts_string='_days_'+str(days_prev)+'_app_cat_'+app_cat+'_device_'+device+'_cont_type_'+content_type\n",
    "\n",
    "                    # FILTER THE DATA\n",
    "                    master_filt=master_sub[all_filters]\n",
    "\n",
    "                    for agg_function in all_agg_functions:\n",
    "                        for metric in all_metrics:\n",
    "                            # Check if after filtering there are no transactions left\n",
    "                            if (all_filters.sum()==0):\n",
    "                                feat_name=str(metric+'_'+agg_function+cuts_string)\n",
    "                                print('NO TRANSACTIONS IN THIS CUT: '+ feat_name)\n",
    "                            else:\n",
    "                                # AGGREGATION\n",
    "                                feat_name=str(metric+'_'+agg_function+cuts_string)\n",
    "                                print(feat_name)\n",
    "                                feat_df=master_filt.groupby('acct_id').agg({metric:agg_function}).rename(columns={metric:feat_name})\n",
    "                                feat_master=feat_master.join(feat_df)\n",
    "                                print(feat_master.shape[1])\n",
    "    \n",
    "    print(str(feat_master.shape[1])+' features created')\n",
    "    \n",
    "    feat_master.reset_index().rename(columns={'index':'acct_id'}).to_csv('feat_master.csv')\n",
    "    feat_master = feat_master.reset_index().rename(columns={'index':'acct_id'})\n",
    "    \n",
    "    return feat_master\n",
    "    \n"
   ]
  },
  {
   "cell_type": "code",
   "execution_count": 114,
   "id": "f1f187ce",
   "metadata": {},
   "outputs": [
    {
     "data": {
      "text/html": [
       "<div>\n",
       "<style scoped>\n",
       "    .dataframe tbody tr th:only-of-type {\n",
       "        vertical-align: middle;\n",
       "    }\n",
       "\n",
       "    .dataframe tbody tr th {\n",
       "        vertical-align: top;\n",
       "    }\n",
       "\n",
       "    .dataframe thead th {\n",
       "        text-align: right;\n",
       "    }\n",
       "</style>\n",
       "<table border=\"1\" class=\"dataframe\">\n",
       "  <thead>\n",
       "    <tr style=\"text-align: right;\">\n",
       "      <th></th>\n",
       "      <th>price_mean_days_7_app_cat_Games_device_iPad_cont_type_consumable</th>\n",
       "      <th>price_count_days_7_app_cat_Games_device_iPad_cont_type_consumable</th>\n",
       "      <th>price_sum_days_7_app_cat_Games_device_iPad_cont_type_consumable</th>\n",
       "      <th>price_mean_days_7_app_cat_Games_device_iPad_cont_type_All</th>\n",
       "      <th>price_count_days_7_app_cat_Games_device_iPad_cont_type_All</th>\n",
       "      <th>price_sum_days_7_app_cat_Games_device_iPad_cont_type_All</th>\n",
       "      <th>price_mean_days_7_app_cat_Games_device_iPhone_cont_type_consumable</th>\n",
       "      <th>price_count_days_7_app_cat_Games_device_iPhone_cont_type_consumable</th>\n",
       "      <th>price_sum_days_7_app_cat_Games_device_iPhone_cont_type_consumable</th>\n",
       "      <th>price_mean_days_7_app_cat_Games_device_iPhone_cont_type_All</th>\n",
       "      <th>...</th>\n",
       "      <th>price_sum_days_100000_app_cat_All_device_All_cont_type_consumable</th>\n",
       "      <th>price_mean_days_100000_app_cat_All_device_All_cont_type_subscription</th>\n",
       "      <th>price_count_days_100000_app_cat_All_device_All_cont_type_subscription</th>\n",
       "      <th>price_sum_days_100000_app_cat_All_device_All_cont_type_subscription</th>\n",
       "      <th>price_mean_days_100000_app_cat_All_device_All_cont_type_unknown</th>\n",
       "      <th>price_count_days_100000_app_cat_All_device_All_cont_type_unknown</th>\n",
       "      <th>price_sum_days_100000_app_cat_All_device_All_cont_type_unknown</th>\n",
       "      <th>price_mean_days_100000_app_cat_All_device_All_cont_type_All</th>\n",
       "      <th>price_count_days_100000_app_cat_All_device_All_cont_type_All</th>\n",
       "      <th>price_sum_days_100000_app_cat_All_device_All_cont_type_All</th>\n",
       "    </tr>\n",
       "  </thead>\n",
       "  <tbody>\n",
       "    <tr>\n",
       "      <th>7174a81c796dcf7e</th>\n",
       "      <td>NaN</td>\n",
       "      <td>NaN</td>\n",
       "      <td>NaN</td>\n",
       "      <td>NaN</td>\n",
       "      <td>NaN</td>\n",
       "      <td>NaN</td>\n",
       "      <td>12.74</td>\n",
       "      <td>4.0</td>\n",
       "      <td>50.96</td>\n",
       "      <td>12.74</td>\n",
       "      <td>...</td>\n",
       "      <td>195.75</td>\n",
       "      <td>5.99</td>\n",
       "      <td>1.0</td>\n",
       "      <td>5.99</td>\n",
       "      <td>1.992500</td>\n",
       "      <td>4.0</td>\n",
       "      <td>7.97</td>\n",
       "      <td>6.990333</td>\n",
       "      <td>30</td>\n",
       "      <td>209.71</td>\n",
       "    </tr>\n",
       "    <tr>\n",
       "      <th>35aaf59d64a677e7</th>\n",
       "      <td>1.99</td>\n",
       "      <td>1.0</td>\n",
       "      <td>1.99</td>\n",
       "      <td>1.99</td>\n",
       "      <td>1.0</td>\n",
       "      <td>1.99</td>\n",
       "      <td>15.19</td>\n",
       "      <td>5.0</td>\n",
       "      <td>75.95</td>\n",
       "      <td>15.19</td>\n",
       "      <td>...</td>\n",
       "      <td>343.63</td>\n",
       "      <td>7.99</td>\n",
       "      <td>2.0</td>\n",
       "      <td>15.98</td>\n",
       "      <td>3.132857</td>\n",
       "      <td>7.0</td>\n",
       "      <td>21.93</td>\n",
       "      <td>8.294348</td>\n",
       "      <td>46</td>\n",
       "      <td>381.54</td>\n",
       "    </tr>\n",
       "    <tr>\n",
       "      <th>9208426ff8cd8879</th>\n",
       "      <td>8.99</td>\n",
       "      <td>1.0</td>\n",
       "      <td>8.99</td>\n",
       "      <td>8.99</td>\n",
       "      <td>1.0</td>\n",
       "      <td>8.99</td>\n",
       "      <td>NaN</td>\n",
       "      <td>NaN</td>\n",
       "      <td>NaN</td>\n",
       "      <td>NaN</td>\n",
       "      <td>...</td>\n",
       "      <td>167.76</td>\n",
       "      <td>6.19</td>\n",
       "      <td>5.0</td>\n",
       "      <td>30.95</td>\n",
       "      <td>3.490000</td>\n",
       "      <td>4.0</td>\n",
       "      <td>13.96</td>\n",
       "      <td>6.444545</td>\n",
       "      <td>33</td>\n",
       "      <td>212.67</td>\n",
       "    </tr>\n",
       "    <tr>\n",
       "      <th>bed1f709cccd7893</th>\n",
       "      <td>6.99</td>\n",
       "      <td>1.0</td>\n",
       "      <td>6.99</td>\n",
       "      <td>6.99</td>\n",
       "      <td>1.0</td>\n",
       "      <td>6.99</td>\n",
       "      <td>16.99</td>\n",
       "      <td>3.0</td>\n",
       "      <td>50.97</td>\n",
       "      <td>16.99</td>\n",
       "      <td>...</td>\n",
       "      <td>266.67</td>\n",
       "      <td>8.99</td>\n",
       "      <td>1.0</td>\n",
       "      <td>8.99</td>\n",
       "      <td>3.490000</td>\n",
       "      <td>6.0</td>\n",
       "      <td>20.94</td>\n",
       "      <td>7.415000</td>\n",
       "      <td>40</td>\n",
       "      <td>296.60</td>\n",
       "    </tr>\n",
       "    <tr>\n",
       "      <th>d50fbbf7e279aee9</th>\n",
       "      <td>5.99</td>\n",
       "      <td>2.0</td>\n",
       "      <td>11.98</td>\n",
       "      <td>5.99</td>\n",
       "      <td>2.0</td>\n",
       "      <td>11.98</td>\n",
       "      <td>28.99</td>\n",
       "      <td>2.0</td>\n",
       "      <td>57.98</td>\n",
       "      <td>28.99</td>\n",
       "      <td>...</td>\n",
       "      <td>353.66</td>\n",
       "      <td>3.79</td>\n",
       "      <td>5.0</td>\n",
       "      <td>18.95</td>\n",
       "      <td>2.561429</td>\n",
       "      <td>7.0</td>\n",
       "      <td>17.93</td>\n",
       "      <td>8.490000</td>\n",
       "      <td>46</td>\n",
       "      <td>390.54</td>\n",
       "    </tr>\n",
       "  </tbody>\n",
       "</table>\n",
       "<p>5 rows × 900 columns</p>\n",
       "</div>"
      ],
      "text/plain": [
       "                  price_mean_days_7_app_cat_Games_device_iPad_cont_type_consumable  \\\n",
       "7174a81c796dcf7e                                                NaN                  \n",
       "35aaf59d64a677e7                                               1.99                  \n",
       "9208426ff8cd8879                                               8.99                  \n",
       "bed1f709cccd7893                                               6.99                  \n",
       "d50fbbf7e279aee9                                               5.99                  \n",
       "\n",
       "                  price_count_days_7_app_cat_Games_device_iPad_cont_type_consumable  \\\n",
       "7174a81c796dcf7e                                                NaN                   \n",
       "35aaf59d64a677e7                                                1.0                   \n",
       "9208426ff8cd8879                                                1.0                   \n",
       "bed1f709cccd7893                                                1.0                   \n",
       "d50fbbf7e279aee9                                                2.0                   \n",
       "\n",
       "                  price_sum_days_7_app_cat_Games_device_iPad_cont_type_consumable  \\\n",
       "7174a81c796dcf7e                                                NaN                 \n",
       "35aaf59d64a677e7                                               1.99                 \n",
       "9208426ff8cd8879                                               8.99                 \n",
       "bed1f709cccd7893                                               6.99                 \n",
       "d50fbbf7e279aee9                                              11.98                 \n",
       "\n",
       "                  price_mean_days_7_app_cat_Games_device_iPad_cont_type_All  \\\n",
       "7174a81c796dcf7e                                                NaN           \n",
       "35aaf59d64a677e7                                               1.99           \n",
       "9208426ff8cd8879                                               8.99           \n",
       "bed1f709cccd7893                                               6.99           \n",
       "d50fbbf7e279aee9                                               5.99           \n",
       "\n",
       "                  price_count_days_7_app_cat_Games_device_iPad_cont_type_All  \\\n",
       "7174a81c796dcf7e                                                NaN            \n",
       "35aaf59d64a677e7                                                1.0            \n",
       "9208426ff8cd8879                                                1.0            \n",
       "bed1f709cccd7893                                                1.0            \n",
       "d50fbbf7e279aee9                                                2.0            \n",
       "\n",
       "                  price_sum_days_7_app_cat_Games_device_iPad_cont_type_All  \\\n",
       "7174a81c796dcf7e                                                NaN          \n",
       "35aaf59d64a677e7                                               1.99          \n",
       "9208426ff8cd8879                                               8.99          \n",
       "bed1f709cccd7893                                               6.99          \n",
       "d50fbbf7e279aee9                                              11.98          \n",
       "\n",
       "                  price_mean_days_7_app_cat_Games_device_iPhone_cont_type_consumable  \\\n",
       "7174a81c796dcf7e                                              12.74                    \n",
       "35aaf59d64a677e7                                              15.19                    \n",
       "9208426ff8cd8879                                                NaN                    \n",
       "bed1f709cccd7893                                              16.99                    \n",
       "d50fbbf7e279aee9                                              28.99                    \n",
       "\n",
       "                  price_count_days_7_app_cat_Games_device_iPhone_cont_type_consumable  \\\n",
       "7174a81c796dcf7e                                                4.0                     \n",
       "35aaf59d64a677e7                                                5.0                     \n",
       "9208426ff8cd8879                                                NaN                     \n",
       "bed1f709cccd7893                                                3.0                     \n",
       "d50fbbf7e279aee9                                                2.0                     \n",
       "\n",
       "                  price_sum_days_7_app_cat_Games_device_iPhone_cont_type_consumable  \\\n",
       "7174a81c796dcf7e                                              50.96                   \n",
       "35aaf59d64a677e7                                              75.95                   \n",
       "9208426ff8cd8879                                                NaN                   \n",
       "bed1f709cccd7893                                              50.97                   \n",
       "d50fbbf7e279aee9                                              57.98                   \n",
       "\n",
       "                  price_mean_days_7_app_cat_Games_device_iPhone_cont_type_All  \\\n",
       "7174a81c796dcf7e                                              12.74             \n",
       "35aaf59d64a677e7                                              15.19             \n",
       "9208426ff8cd8879                                                NaN             \n",
       "bed1f709cccd7893                                              16.99             \n",
       "d50fbbf7e279aee9                                              28.99             \n",
       "\n",
       "                  ...  \\\n",
       "7174a81c796dcf7e  ...   \n",
       "35aaf59d64a677e7  ...   \n",
       "9208426ff8cd8879  ...   \n",
       "bed1f709cccd7893  ...   \n",
       "d50fbbf7e279aee9  ...   \n",
       "\n",
       "                  price_sum_days_100000_app_cat_All_device_All_cont_type_consumable  \\\n",
       "7174a81c796dcf7e                                             195.75                   \n",
       "35aaf59d64a677e7                                             343.63                   \n",
       "9208426ff8cd8879                                             167.76                   \n",
       "bed1f709cccd7893                                             266.67                   \n",
       "d50fbbf7e279aee9                                             353.66                   \n",
       "\n",
       "                  price_mean_days_100000_app_cat_All_device_All_cont_type_subscription  \\\n",
       "7174a81c796dcf7e                                               5.99                      \n",
       "35aaf59d64a677e7                                               7.99                      \n",
       "9208426ff8cd8879                                               6.19                      \n",
       "bed1f709cccd7893                                               8.99                      \n",
       "d50fbbf7e279aee9                                               3.79                      \n",
       "\n",
       "                  price_count_days_100000_app_cat_All_device_All_cont_type_subscription  \\\n",
       "7174a81c796dcf7e                                                1.0                       \n",
       "35aaf59d64a677e7                                                2.0                       \n",
       "9208426ff8cd8879                                                5.0                       \n",
       "bed1f709cccd7893                                                1.0                       \n",
       "d50fbbf7e279aee9                                                5.0                       \n",
       "\n",
       "                  price_sum_days_100000_app_cat_All_device_All_cont_type_subscription  \\\n",
       "7174a81c796dcf7e                                               5.99                     \n",
       "35aaf59d64a677e7                                              15.98                     \n",
       "9208426ff8cd8879                                              30.95                     \n",
       "bed1f709cccd7893                                               8.99                     \n",
       "d50fbbf7e279aee9                                              18.95                     \n",
       "\n",
       "                  price_mean_days_100000_app_cat_All_device_All_cont_type_unknown  \\\n",
       "7174a81c796dcf7e                                           1.992500                 \n",
       "35aaf59d64a677e7                                           3.132857                 \n",
       "9208426ff8cd8879                                           3.490000                 \n",
       "bed1f709cccd7893                                           3.490000                 \n",
       "d50fbbf7e279aee9                                           2.561429                 \n",
       "\n",
       "                  price_count_days_100000_app_cat_All_device_All_cont_type_unknown  \\\n",
       "7174a81c796dcf7e                                                4.0                  \n",
       "35aaf59d64a677e7                                                7.0                  \n",
       "9208426ff8cd8879                                                4.0                  \n",
       "bed1f709cccd7893                                                6.0                  \n",
       "d50fbbf7e279aee9                                                7.0                  \n",
       "\n",
       "                  price_sum_days_100000_app_cat_All_device_All_cont_type_unknown  \\\n",
       "7174a81c796dcf7e                                               7.97                \n",
       "35aaf59d64a677e7                                              21.93                \n",
       "9208426ff8cd8879                                              13.96                \n",
       "bed1f709cccd7893                                              20.94                \n",
       "d50fbbf7e279aee9                                              17.93                \n",
       "\n",
       "                  price_mean_days_100000_app_cat_All_device_All_cont_type_All  \\\n",
       "7174a81c796dcf7e                                           6.990333             \n",
       "35aaf59d64a677e7                                           8.294348             \n",
       "9208426ff8cd8879                                           6.444545             \n",
       "bed1f709cccd7893                                           7.415000             \n",
       "d50fbbf7e279aee9                                           8.490000             \n",
       "\n",
       "                  price_count_days_100000_app_cat_All_device_All_cont_type_All  \\\n",
       "7174a81c796dcf7e                                                 30              \n",
       "35aaf59d64a677e7                                                 46              \n",
       "9208426ff8cd8879                                                 33              \n",
       "bed1f709cccd7893                                                 40              \n",
       "d50fbbf7e279aee9                                                 46              \n",
       "\n",
       "                  price_sum_days_100000_app_cat_All_device_All_cont_type_All  \n",
       "7174a81c796dcf7e                                             209.71           \n",
       "35aaf59d64a677e7                                             381.54           \n",
       "9208426ff8cd8879                                             212.67           \n",
       "bed1f709cccd7893                                             296.60           \n",
       "d50fbbf7e279aee9                                             390.54           \n",
       "\n",
       "[5 rows x 900 columns]"
      ]
     },
     "execution_count": 114,
     "metadata": {},
     "output_type": "execute_result"
    }
   ],
   "source": [
    "feat_master.head()"
   ]
  },
  {
   "cell_type": "markdown",
   "id": "6ee99338",
   "metadata": {},
   "source": [
    "### Create user level dataset"
   ]
  },
  {
   "cell_type": "code",
   "execution_count": 7,
   "id": "866f2a81",
   "metadata": {},
   "outputs": [],
   "source": [
    "date_of_segmentation=pd.to_datetime('2016-06-30')"
   ]
  },
  {
   "cell_type": "code",
   "execution_count": 8,
   "id": "2e7f864f",
   "metadata": {},
   "outputs": [
    {
     "data": {
      "text/html": [
       "<div>\n",
       "<style scoped>\n",
       "    .dataframe tbody tr th:only-of-type {\n",
       "        vertical-align: middle;\n",
       "    }\n",
       "\n",
       "    .dataframe tbody tr th {\n",
       "        vertical-align: top;\n",
       "    }\n",
       "\n",
       "    .dataframe thead th {\n",
       "        text-align: right;\n",
       "    }\n",
       "</style>\n",
       "<table border=\"1\" class=\"dataframe\">\n",
       "  <thead>\n",
       "    <tr style=\"text-align: right;\">\n",
       "      <th></th>\n",
       "      <th>acct_id</th>\n",
       "      <th>age_on_platform</th>\n",
       "    </tr>\n",
       "  </thead>\n",
       "  <tbody>\n",
       "    <tr>\n",
       "      <th>0</th>\n",
       "      <td>00028709c8d435ff</td>\n",
       "      <td>27</td>\n",
       "    </tr>\n",
       "    <tr>\n",
       "      <th>1</th>\n",
       "      <td>0005a4d77127fde7</td>\n",
       "      <td>29</td>\n",
       "    </tr>\n",
       "    <tr>\n",
       "      <th>2</th>\n",
       "      <td>0005c296f2605c08</td>\n",
       "      <td>24</td>\n",
       "    </tr>\n",
       "    <tr>\n",
       "      <th>3</th>\n",
       "      <td>00082ad3dc50a70d</td>\n",
       "      <td>27</td>\n",
       "    </tr>\n",
       "    <tr>\n",
       "      <th>4</th>\n",
       "      <td>00085ff73786df4d</td>\n",
       "      <td>29</td>\n",
       "    </tr>\n",
       "  </tbody>\n",
       "</table>\n",
       "</div>"
      ],
      "text/plain": [
       "            acct_id  age_on_platform\n",
       "0  00028709c8d435ff               27\n",
       "1  0005a4d77127fde7               29\n",
       "2  0005c296f2605c08               24\n",
       "3  00082ad3dc50a70d               27\n",
       "4  00085ff73786df4d               29"
      ]
     },
     "execution_count": 8,
     "metadata": {},
     "output_type": "execute_result"
    }
   ],
   "source": [
    "# create age on platform on day of segmentation\n",
    "user_dtst=master.groupby('acct_id')\\\n",
    "          .agg(age_on_platform= ('trans_dt' , lambda x: np.mean(x-date_of_segmentation).days)).reset_index()\n",
    "user_dtst.head()\n",
    "\n"
   ]
  },
  {
   "cell_type": "markdown",
   "id": "0dd2a6dd",
   "metadata": {},
   "source": [
    "### Generate features"
   ]
  },
  {
   "cell_type": "code",
   "execution_count": 9,
   "id": "2e764c02",
   "metadata": {},
   "outputs": [
    {
     "data": {
      "text/html": [
       "<div>\n",
       "<style scoped>\n",
       "    .dataframe tbody tr th:only-of-type {\n",
       "        vertical-align: middle;\n",
       "    }\n",
       "\n",
       "    .dataframe tbody tr th {\n",
       "        vertical-align: top;\n",
       "    }\n",
       "\n",
       "    .dataframe thead th {\n",
       "        text-align: right;\n",
       "    }\n",
       "</style>\n",
       "<table border=\"1\" class=\"dataframe\">\n",
       "  <thead>\n",
       "    <tr style=\"text-align: right;\">\n",
       "      <th></th>\n",
       "      <th>Unnamed: 0</th>\n",
       "      <th>acct_id</th>\n",
       "      <th>price_mean_days_7_app_cat_Utilities_device_iPhone_cont_type_subscription</th>\n",
       "      <th>price_count_days_7_app_cat_Utilities_device_iPhone_cont_type_subscription</th>\n",
       "      <th>price_sum_days_7_app_cat_Utilities_device_iPhone_cont_type_subscription</th>\n",
       "      <th>price_mean_days_7_app_cat_Utilities_device_iPhone_cont_type_consumable</th>\n",
       "      <th>price_count_days_7_app_cat_Utilities_device_iPhone_cont_type_consumable</th>\n",
       "      <th>price_sum_days_7_app_cat_Utilities_device_iPhone_cont_type_consumable</th>\n",
       "      <th>price_mean_days_7_app_cat_Utilities_device_iPhone_cont_type_All</th>\n",
       "      <th>price_count_days_7_app_cat_Utilities_device_iPhone_cont_type_All</th>\n",
       "      <th>...</th>\n",
       "      <th>price_sum_days_100000_app_cat_All_device_All_cont_type_subscription</th>\n",
       "      <th>price_mean_days_100000_app_cat_All_device_All_cont_type_consumable</th>\n",
       "      <th>price_count_days_100000_app_cat_All_device_All_cont_type_consumable</th>\n",
       "      <th>price_sum_days_100000_app_cat_All_device_All_cont_type_consumable</th>\n",
       "      <th>price_mean_days_100000_app_cat_All_device_All_cont_type_unknown</th>\n",
       "      <th>price_count_days_100000_app_cat_All_device_All_cont_type_unknown</th>\n",
       "      <th>price_sum_days_100000_app_cat_All_device_All_cont_type_unknown</th>\n",
       "      <th>price_mean_days_100000_app_cat_All_device_All_cont_type_All</th>\n",
       "      <th>price_count_days_100000_app_cat_All_device_All_cont_type_All</th>\n",
       "      <th>price_sum_days_100000_app_cat_All_device_All_cont_type_All</th>\n",
       "    </tr>\n",
       "  </thead>\n",
       "  <tbody>\n",
       "    <tr>\n",
       "      <th>0</th>\n",
       "      <td>0</td>\n",
       "      <td>220574a7a6a71afa</td>\n",
       "      <td>14.49</td>\n",
       "      <td>2.0</td>\n",
       "      <td>28.98</td>\n",
       "      <td>NaN</td>\n",
       "      <td>NaN</td>\n",
       "      <td>NaN</td>\n",
       "      <td>14.49</td>\n",
       "      <td>2.0</td>\n",
       "      <td>...</td>\n",
       "      <td>99.88</td>\n",
       "      <td>8.990000</td>\n",
       "      <td>84.0</td>\n",
       "      <td>755.16</td>\n",
       "      <td>2.754286</td>\n",
       "      <td>21</td>\n",
       "      <td>57.84</td>\n",
       "      <td>7.802393</td>\n",
       "      <td>117</td>\n",
       "      <td>912.88</td>\n",
       "    </tr>\n",
       "    <tr>\n",
       "      <th>1</th>\n",
       "      <td>1</td>\n",
       "      <td>7dedf309494a1966</td>\n",
       "      <td>6.99</td>\n",
       "      <td>1.0</td>\n",
       "      <td>6.99</td>\n",
       "      <td>NaN</td>\n",
       "      <td>NaN</td>\n",
       "      <td>NaN</td>\n",
       "      <td>6.99</td>\n",
       "      <td>1.0</td>\n",
       "      <td>...</td>\n",
       "      <td>64.90</td>\n",
       "      <td>10.484737</td>\n",
       "      <td>95.0</td>\n",
       "      <td>996.05</td>\n",
       "      <td>2.867500</td>\n",
       "      <td>16</td>\n",
       "      <td>45.88</td>\n",
       "      <td>9.147355</td>\n",
       "      <td>121</td>\n",
       "      <td>1106.83</td>\n",
       "    </tr>\n",
       "    <tr>\n",
       "      <th>2</th>\n",
       "      <td>2</td>\n",
       "      <td>7174a81c796dcf7e</td>\n",
       "      <td>NaN</td>\n",
       "      <td>NaN</td>\n",
       "      <td>NaN</td>\n",
       "      <td>0.99</td>\n",
       "      <td>1.0</td>\n",
       "      <td>0.99</td>\n",
       "      <td>0.99</td>\n",
       "      <td>1.0</td>\n",
       "      <td>...</td>\n",
       "      <td>5.99</td>\n",
       "      <td>7.477805</td>\n",
       "      <td>82.0</td>\n",
       "      <td>613.18</td>\n",
       "      <td>3.123043</td>\n",
       "      <td>23</td>\n",
       "      <td>71.83</td>\n",
       "      <td>6.518868</td>\n",
       "      <td>106</td>\n",
       "      <td>691.00</td>\n",
       "    </tr>\n",
       "    <tr>\n",
       "      <th>3</th>\n",
       "      <td>3</td>\n",
       "      <td>35aaf59d64a677e7</td>\n",
       "      <td>NaN</td>\n",
       "      <td>NaN</td>\n",
       "      <td>NaN</td>\n",
       "      <td>NaN</td>\n",
       "      <td>NaN</td>\n",
       "      <td>NaN</td>\n",
       "      <td>NaN</td>\n",
       "      <td>NaN</td>\n",
       "      <td>...</td>\n",
       "      <td>54.89</td>\n",
       "      <td>8.610968</td>\n",
       "      <td>124.0</td>\n",
       "      <td>1067.76</td>\n",
       "      <td>1.572632</td>\n",
       "      <td>19</td>\n",
       "      <td>29.88</td>\n",
       "      <td>7.483961</td>\n",
       "      <td>154</td>\n",
       "      <td>1152.53</td>\n",
       "    </tr>\n",
       "    <tr>\n",
       "      <th>4</th>\n",
       "      <td>4</td>\n",
       "      <td>91384f979bdadc33</td>\n",
       "      <td>NaN</td>\n",
       "      <td>NaN</td>\n",
       "      <td>NaN</td>\n",
       "      <td>4.99</td>\n",
       "      <td>1.0</td>\n",
       "      <td>4.99</td>\n",
       "      <td>4.99</td>\n",
       "      <td>1.0</td>\n",
       "      <td>...</td>\n",
       "      <td>86.88</td>\n",
       "      <td>9.087087</td>\n",
       "      <td>103.0</td>\n",
       "      <td>935.97</td>\n",
       "      <td>2.558696</td>\n",
       "      <td>23</td>\n",
       "      <td>58.85</td>\n",
       "      <td>7.838406</td>\n",
       "      <td>138</td>\n",
       "      <td>1081.70</td>\n",
       "    </tr>\n",
       "  </tbody>\n",
       "</table>\n",
       "<p>5 rows × 902 columns</p>\n",
       "</div>"
      ],
      "text/plain": [
       "   Unnamed: 0           acct_id  \\\n",
       "0           0  220574a7a6a71afa   \n",
       "1           1  7dedf309494a1966   \n",
       "2           2  7174a81c796dcf7e   \n",
       "3           3  35aaf59d64a677e7   \n",
       "4           4  91384f979bdadc33   \n",
       "\n",
       "   price_mean_days_7_app_cat_Utilities_device_iPhone_cont_type_subscription  \\\n",
       "0                                              14.49                          \n",
       "1                                               6.99                          \n",
       "2                                                NaN                          \n",
       "3                                                NaN                          \n",
       "4                                                NaN                          \n",
       "\n",
       "   price_count_days_7_app_cat_Utilities_device_iPhone_cont_type_subscription  \\\n",
       "0                                                2.0                           \n",
       "1                                                1.0                           \n",
       "2                                                NaN                           \n",
       "3                                                NaN                           \n",
       "4                                                NaN                           \n",
       "\n",
       "   price_sum_days_7_app_cat_Utilities_device_iPhone_cont_type_subscription  \\\n",
       "0                                              28.98                         \n",
       "1                                               6.99                         \n",
       "2                                                NaN                         \n",
       "3                                                NaN                         \n",
       "4                                                NaN                         \n",
       "\n",
       "   price_mean_days_7_app_cat_Utilities_device_iPhone_cont_type_consumable  \\\n",
       "0                                                NaN                        \n",
       "1                                                NaN                        \n",
       "2                                               0.99                        \n",
       "3                                                NaN                        \n",
       "4                                               4.99                        \n",
       "\n",
       "   price_count_days_7_app_cat_Utilities_device_iPhone_cont_type_consumable  \\\n",
       "0                                                NaN                         \n",
       "1                                                NaN                         \n",
       "2                                                1.0                         \n",
       "3                                                NaN                         \n",
       "4                                                1.0                         \n",
       "\n",
       "   price_sum_days_7_app_cat_Utilities_device_iPhone_cont_type_consumable  \\\n",
       "0                                                NaN                       \n",
       "1                                                NaN                       \n",
       "2                                               0.99                       \n",
       "3                                                NaN                       \n",
       "4                                               4.99                       \n",
       "\n",
       "   price_mean_days_7_app_cat_Utilities_device_iPhone_cont_type_All  \\\n",
       "0                                              14.49                 \n",
       "1                                               6.99                 \n",
       "2                                               0.99                 \n",
       "3                                                NaN                 \n",
       "4                                               4.99                 \n",
       "\n",
       "   price_count_days_7_app_cat_Utilities_device_iPhone_cont_type_All  ...  \\\n",
       "0                                                2.0                 ...   \n",
       "1                                                1.0                 ...   \n",
       "2                                                1.0                 ...   \n",
       "3                                                NaN                 ...   \n",
       "4                                                1.0                 ...   \n",
       "\n",
       "   price_sum_days_100000_app_cat_All_device_All_cont_type_subscription  \\\n",
       "0                                              99.88                     \n",
       "1                                              64.90                     \n",
       "2                                               5.99                     \n",
       "3                                              54.89                     \n",
       "4                                              86.88                     \n",
       "\n",
       "   price_mean_days_100000_app_cat_All_device_All_cont_type_consumable  \\\n",
       "0                                           8.990000                    \n",
       "1                                          10.484737                    \n",
       "2                                           7.477805                    \n",
       "3                                           8.610968                    \n",
       "4                                           9.087087                    \n",
       "\n",
       "   price_count_days_100000_app_cat_All_device_All_cont_type_consumable  \\\n",
       "0                                               84.0                     \n",
       "1                                               95.0                     \n",
       "2                                               82.0                     \n",
       "3                                              124.0                     \n",
       "4                                              103.0                     \n",
       "\n",
       "   price_sum_days_100000_app_cat_All_device_All_cont_type_consumable  \\\n",
       "0                                             755.16                   \n",
       "1                                             996.05                   \n",
       "2                                             613.18                   \n",
       "3                                            1067.76                   \n",
       "4                                             935.97                   \n",
       "\n",
       "   price_mean_days_100000_app_cat_All_device_All_cont_type_unknown  \\\n",
       "0                                           2.754286                 \n",
       "1                                           2.867500                 \n",
       "2                                           3.123043                 \n",
       "3                                           1.572632                 \n",
       "4                                           2.558696                 \n",
       "\n",
       "   price_count_days_100000_app_cat_All_device_All_cont_type_unknown  \\\n",
       "0                                                 21                  \n",
       "1                                                 16                  \n",
       "2                                                 23                  \n",
       "3                                                 19                  \n",
       "4                                                 23                  \n",
       "\n",
       "   price_sum_days_100000_app_cat_All_device_All_cont_type_unknown  \\\n",
       "0                                              57.84                \n",
       "1                                              45.88                \n",
       "2                                              71.83                \n",
       "3                                              29.88                \n",
       "4                                              58.85                \n",
       "\n",
       "   price_mean_days_100000_app_cat_All_device_All_cont_type_All  \\\n",
       "0                                           7.802393             \n",
       "1                                           9.147355             \n",
       "2                                           6.518868             \n",
       "3                                           7.483961             \n",
       "4                                           7.838406             \n",
       "\n",
       "   price_count_days_100000_app_cat_All_device_All_cont_type_All  \\\n",
       "0                                                117              \n",
       "1                                                121              \n",
       "2                                                106              \n",
       "3                                                154              \n",
       "4                                                138              \n",
       "\n",
       "   price_sum_days_100000_app_cat_All_device_All_cont_type_All  \n",
       "0                                             912.88           \n",
       "1                                            1106.83           \n",
       "2                                             691.00           \n",
       "3                                            1152.53           \n",
       "4                                            1081.70           \n",
       "\n",
       "[5 rows x 902 columns]"
      ]
     },
     "execution_count": 9,
     "metadata": {},
     "output_type": "execute_result"
    }
   ],
   "source": [
    "feat_data=generate_features(date_of_segmentation,master)\n",
    "# feat_data=pd.read_csv('feat_master.csv')\n",
    "feat_data.head()"
   ]
  },
  {
   "cell_type": "markdown",
   "id": "2ba73dde",
   "metadata": {},
   "source": [
    "### Join user_dtst and features"
   ]
  },
  {
   "cell_type": "code",
   "execution_count": 28,
   "id": "17f38f23",
   "metadata": {},
   "outputs": [
    {
     "data": {
      "text/plain": [
       "(30000, 902)"
      ]
     },
     "execution_count": 28,
     "metadata": {},
     "output_type": "execute_result"
    }
   ],
   "source": [
    "feat_data=feat_data.drop('Unnamed: 0',axis=1)\n",
    "master_dtst=pd.merge(user_dtst,feat_data,on='acct_id', how='inner')\n",
    "master_dtst.shape"
   ]
  },
  {
   "cell_type": "code",
   "execution_count": 29,
   "id": "e9c8eb4b",
   "metadata": {},
   "outputs": [
    {
     "data": {
      "text/html": [
       "<div>\n",
       "<style scoped>\n",
       "    .dataframe tbody tr th:only-of-type {\n",
       "        vertical-align: middle;\n",
       "    }\n",
       "\n",
       "    .dataframe tbody tr th {\n",
       "        vertical-align: top;\n",
       "    }\n",
       "\n",
       "    .dataframe thead th {\n",
       "        text-align: right;\n",
       "    }\n",
       "</style>\n",
       "<table border=\"1\" class=\"dataframe\">\n",
       "  <thead>\n",
       "    <tr style=\"text-align: right;\">\n",
       "      <th></th>\n",
       "      <th>acct_id</th>\n",
       "      <th>age_on_platform</th>\n",
       "      <th>price_mean_days_7_app_cat_Utilities_device_iPhone_cont_type_subscription</th>\n",
       "      <th>price_count_days_7_app_cat_Utilities_device_iPhone_cont_type_subscription</th>\n",
       "      <th>price_sum_days_7_app_cat_Utilities_device_iPhone_cont_type_subscription</th>\n",
       "      <th>price_mean_days_7_app_cat_Utilities_device_iPhone_cont_type_consumable</th>\n",
       "      <th>price_count_days_7_app_cat_Utilities_device_iPhone_cont_type_consumable</th>\n",
       "      <th>price_sum_days_7_app_cat_Utilities_device_iPhone_cont_type_consumable</th>\n",
       "      <th>price_mean_days_7_app_cat_Utilities_device_iPhone_cont_type_All</th>\n",
       "      <th>price_count_days_7_app_cat_Utilities_device_iPhone_cont_type_All</th>\n",
       "      <th>...</th>\n",
       "      <th>price_sum_days_100000_app_cat_All_device_All_cont_type_subscription</th>\n",
       "      <th>price_mean_days_100000_app_cat_All_device_All_cont_type_consumable</th>\n",
       "      <th>price_count_days_100000_app_cat_All_device_All_cont_type_consumable</th>\n",
       "      <th>price_sum_days_100000_app_cat_All_device_All_cont_type_consumable</th>\n",
       "      <th>price_mean_days_100000_app_cat_All_device_All_cont_type_unknown</th>\n",
       "      <th>price_count_days_100000_app_cat_All_device_All_cont_type_unknown</th>\n",
       "      <th>price_sum_days_100000_app_cat_All_device_All_cont_type_unknown</th>\n",
       "      <th>price_mean_days_100000_app_cat_All_device_All_cont_type_All</th>\n",
       "      <th>price_count_days_100000_app_cat_All_device_All_cont_type_All</th>\n",
       "      <th>price_sum_days_100000_app_cat_All_device_All_cont_type_All</th>\n",
       "    </tr>\n",
       "  </thead>\n",
       "  <tbody>\n",
       "    <tr>\n",
       "      <th>0</th>\n",
       "      <td>00028709c8d435ff</td>\n",
       "      <td>27</td>\n",
       "      <td>NaN</td>\n",
       "      <td>NaN</td>\n",
       "      <td>NaN</td>\n",
       "      <td>NaN</td>\n",
       "      <td>NaN</td>\n",
       "      <td>NaN</td>\n",
       "      <td>NaN</td>\n",
       "      <td>NaN</td>\n",
       "      <td>...</td>\n",
       "      <td>NaN</td>\n",
       "      <td>NaN</td>\n",
       "      <td>NaN</td>\n",
       "      <td>NaN</td>\n",
       "      <td>0.000000</td>\n",
       "      <td>58</td>\n",
       "      <td>0.00</td>\n",
       "      <td>0.000000</td>\n",
       "      <td>58</td>\n",
       "      <td>0.00</td>\n",
       "    </tr>\n",
       "    <tr>\n",
       "      <th>1</th>\n",
       "      <td>0005a4d77127fde7</td>\n",
       "      <td>29</td>\n",
       "      <td>NaN</td>\n",
       "      <td>NaN</td>\n",
       "      <td>NaN</td>\n",
       "      <td>NaN</td>\n",
       "      <td>NaN</td>\n",
       "      <td>NaN</td>\n",
       "      <td>NaN</td>\n",
       "      <td>NaN</td>\n",
       "      <td>...</td>\n",
       "      <td>25.93</td>\n",
       "      <td>9.227500</td>\n",
       "      <td>80.0</td>\n",
       "      <td>738.20</td>\n",
       "      <td>2.834211</td>\n",
       "      <td>19</td>\n",
       "      <td>53.85</td>\n",
       "      <td>7.716792</td>\n",
       "      <td>106</td>\n",
       "      <td>817.98</td>\n",
       "    </tr>\n",
       "    <tr>\n",
       "      <th>2</th>\n",
       "      <td>0005c296f2605c08</td>\n",
       "      <td>24</td>\n",
       "      <td>NaN</td>\n",
       "      <td>NaN</td>\n",
       "      <td>NaN</td>\n",
       "      <td>NaN</td>\n",
       "      <td>NaN</td>\n",
       "      <td>NaN</td>\n",
       "      <td>NaN</td>\n",
       "      <td>NaN</td>\n",
       "      <td>...</td>\n",
       "      <td>50.90</td>\n",
       "      <td>9.719167</td>\n",
       "      <td>96.0</td>\n",
       "      <td>933.04</td>\n",
       "      <td>1.421429</td>\n",
       "      <td>21</td>\n",
       "      <td>29.85</td>\n",
       "      <td>7.982598</td>\n",
       "      <td>127</td>\n",
       "      <td>1013.79</td>\n",
       "    </tr>\n",
       "    <tr>\n",
       "      <th>3</th>\n",
       "      <td>00082ad3dc50a70d</td>\n",
       "      <td>27</td>\n",
       "      <td>NaN</td>\n",
       "      <td>NaN</td>\n",
       "      <td>NaN</td>\n",
       "      <td>NaN</td>\n",
       "      <td>NaN</td>\n",
       "      <td>NaN</td>\n",
       "      <td>NaN</td>\n",
       "      <td>NaN</td>\n",
       "      <td>...</td>\n",
       "      <td>NaN</td>\n",
       "      <td>NaN</td>\n",
       "      <td>NaN</td>\n",
       "      <td>NaN</td>\n",
       "      <td>0.000000</td>\n",
       "      <td>61</td>\n",
       "      <td>0.00</td>\n",
       "      <td>0.000000</td>\n",
       "      <td>61</td>\n",
       "      <td>0.00</td>\n",
       "    </tr>\n",
       "    <tr>\n",
       "      <th>4</th>\n",
       "      <td>00085ff73786df4d</td>\n",
       "      <td>29</td>\n",
       "      <td>NaN</td>\n",
       "      <td>NaN</td>\n",
       "      <td>NaN</td>\n",
       "      <td>NaN</td>\n",
       "      <td>NaN</td>\n",
       "      <td>NaN</td>\n",
       "      <td>NaN</td>\n",
       "      <td>NaN</td>\n",
       "      <td>...</td>\n",
       "      <td>41.94</td>\n",
       "      <td>8.803084</td>\n",
       "      <td>107.0</td>\n",
       "      <td>941.93</td>\n",
       "      <td>2.992667</td>\n",
       "      <td>15</td>\n",
       "      <td>44.89</td>\n",
       "      <td>8.037187</td>\n",
       "      <td>128</td>\n",
       "      <td>1028.76</td>\n",
       "    </tr>\n",
       "  </tbody>\n",
       "</table>\n",
       "<p>5 rows × 902 columns</p>\n",
       "</div>"
      ],
      "text/plain": [
       "            acct_id  age_on_platform  \\\n",
       "0  00028709c8d435ff               27   \n",
       "1  0005a4d77127fde7               29   \n",
       "2  0005c296f2605c08               24   \n",
       "3  00082ad3dc50a70d               27   \n",
       "4  00085ff73786df4d               29   \n",
       "\n",
       "   price_mean_days_7_app_cat_Utilities_device_iPhone_cont_type_subscription  \\\n",
       "0                                                NaN                          \n",
       "1                                                NaN                          \n",
       "2                                                NaN                          \n",
       "3                                                NaN                          \n",
       "4                                                NaN                          \n",
       "\n",
       "   price_count_days_7_app_cat_Utilities_device_iPhone_cont_type_subscription  \\\n",
       "0                                                NaN                           \n",
       "1                                                NaN                           \n",
       "2                                                NaN                           \n",
       "3                                                NaN                           \n",
       "4                                                NaN                           \n",
       "\n",
       "   price_sum_days_7_app_cat_Utilities_device_iPhone_cont_type_subscription  \\\n",
       "0                                                NaN                         \n",
       "1                                                NaN                         \n",
       "2                                                NaN                         \n",
       "3                                                NaN                         \n",
       "4                                                NaN                         \n",
       "\n",
       "   price_mean_days_7_app_cat_Utilities_device_iPhone_cont_type_consumable  \\\n",
       "0                                                NaN                        \n",
       "1                                                NaN                        \n",
       "2                                                NaN                        \n",
       "3                                                NaN                        \n",
       "4                                                NaN                        \n",
       "\n",
       "   price_count_days_7_app_cat_Utilities_device_iPhone_cont_type_consumable  \\\n",
       "0                                                NaN                         \n",
       "1                                                NaN                         \n",
       "2                                                NaN                         \n",
       "3                                                NaN                         \n",
       "4                                                NaN                         \n",
       "\n",
       "   price_sum_days_7_app_cat_Utilities_device_iPhone_cont_type_consumable  \\\n",
       "0                                                NaN                       \n",
       "1                                                NaN                       \n",
       "2                                                NaN                       \n",
       "3                                                NaN                       \n",
       "4                                                NaN                       \n",
       "\n",
       "   price_mean_days_7_app_cat_Utilities_device_iPhone_cont_type_All  \\\n",
       "0                                                NaN                 \n",
       "1                                                NaN                 \n",
       "2                                                NaN                 \n",
       "3                                                NaN                 \n",
       "4                                                NaN                 \n",
       "\n",
       "   price_count_days_7_app_cat_Utilities_device_iPhone_cont_type_All  ...  \\\n",
       "0                                                NaN                 ...   \n",
       "1                                                NaN                 ...   \n",
       "2                                                NaN                 ...   \n",
       "3                                                NaN                 ...   \n",
       "4                                                NaN                 ...   \n",
       "\n",
       "   price_sum_days_100000_app_cat_All_device_All_cont_type_subscription  \\\n",
       "0                                                NaN                     \n",
       "1                                              25.93                     \n",
       "2                                              50.90                     \n",
       "3                                                NaN                     \n",
       "4                                              41.94                     \n",
       "\n",
       "   price_mean_days_100000_app_cat_All_device_All_cont_type_consumable  \\\n",
       "0                                                NaN                    \n",
       "1                                           9.227500                    \n",
       "2                                           9.719167                    \n",
       "3                                                NaN                    \n",
       "4                                           8.803084                    \n",
       "\n",
       "   price_count_days_100000_app_cat_All_device_All_cont_type_consumable  \\\n",
       "0                                                NaN                     \n",
       "1                                               80.0                     \n",
       "2                                               96.0                     \n",
       "3                                                NaN                     \n",
       "4                                              107.0                     \n",
       "\n",
       "   price_sum_days_100000_app_cat_All_device_All_cont_type_consumable  \\\n",
       "0                                                NaN                   \n",
       "1                                             738.20                   \n",
       "2                                             933.04                   \n",
       "3                                                NaN                   \n",
       "4                                             941.93                   \n",
       "\n",
       "   price_mean_days_100000_app_cat_All_device_All_cont_type_unknown  \\\n",
       "0                                           0.000000                 \n",
       "1                                           2.834211                 \n",
       "2                                           1.421429                 \n",
       "3                                           0.000000                 \n",
       "4                                           2.992667                 \n",
       "\n",
       "   price_count_days_100000_app_cat_All_device_All_cont_type_unknown  \\\n",
       "0                                                 58                  \n",
       "1                                                 19                  \n",
       "2                                                 21                  \n",
       "3                                                 61                  \n",
       "4                                                 15                  \n",
       "\n",
       "   price_sum_days_100000_app_cat_All_device_All_cont_type_unknown  \\\n",
       "0                                               0.00                \n",
       "1                                              53.85                \n",
       "2                                              29.85                \n",
       "3                                               0.00                \n",
       "4                                              44.89                \n",
       "\n",
       "   price_mean_days_100000_app_cat_All_device_All_cont_type_All  \\\n",
       "0                                           0.000000             \n",
       "1                                           7.716792             \n",
       "2                                           7.982598             \n",
       "3                                           0.000000             \n",
       "4                                           8.037187             \n",
       "\n",
       "   price_count_days_100000_app_cat_All_device_All_cont_type_All  \\\n",
       "0                                                 58              \n",
       "1                                                106              \n",
       "2                                                127              \n",
       "3                                                 61              \n",
       "4                                                128              \n",
       "\n",
       "   price_sum_days_100000_app_cat_All_device_All_cont_type_All  \n",
       "0                                               0.00           \n",
       "1                                             817.98           \n",
       "2                                            1013.79           \n",
       "3                                               0.00           \n",
       "4                                            1028.76           \n",
       "\n",
       "[5 rows x 902 columns]"
      ]
     },
     "execution_count": 29,
     "metadata": {},
     "output_type": "execute_result"
    }
   ],
   "source": [
    "master_dtst.head()"
   ]
  },
  {
   "cell_type": "markdown",
   "id": "ca4fd8de",
   "metadata": {},
   "source": [
    "### Using T-SNE (Stochastic neighborhood embeddings) to visualize n dimensions on a 2 dimension plot\n",
    "- T-SNE preserves the nearness/farness of points as it transforms a dataset from many to 2 dimensions "
   ]
  },
  {
   "cell_type": "code",
   "execution_count": 52,
   "id": "ad353782",
   "metadata": {},
   "outputs": [],
   "source": [
    "# Convert data to a numpy array and fill na with zero\n",
    "master_numpy=master_dtst.fillna(0).drop('acct_id',axis=1).to_numpy()"
   ]
  },
  {
   "cell_type": "code",
   "execution_count": 53,
   "id": "835aa19b",
   "metadata": {},
   "outputs": [],
   "source": [
    "# Scale the features\n",
    "from sklearn.preprocessing import StandardScaler\n",
    "scaler = StandardScaler()\n",
    "scaled_data=scaler.fit_transform(master_numpy)"
   ]
  },
  {
   "cell_type": "code",
   "execution_count": 54,
   "id": "21ffba76",
   "metadata": {},
   "outputs": [],
   "source": [
    "# Import TSNE\n",
    "from sklearn.manifold import TSNE"
   ]
  },
  {
   "cell_type": "code",
   "execution_count": 55,
   "id": "dbd58102",
   "metadata": {},
   "outputs": [],
   "source": [
    "# Create a TSNE instance: model\n",
    "model = TSNE(learning_rate=200)"
   ]
  },
  {
   "cell_type": "code",
   "execution_count": 56,
   "id": "edd559fe",
   "metadata": {},
   "outputs": [],
   "source": [
    "# Apply fit_transform to samples: tsne_features\n",
    "tsne_features = model.fit_transform(scaled_data)\n"
   ]
  },
  {
   "cell_type": "code",
   "execution_count": 57,
   "id": "30949cc7",
   "metadata": {},
   "outputs": [
    {
     "data": {
      "text/plain": [
       "(30000, 2)"
      ]
     },
     "execution_count": 57,
     "metadata": {},
     "output_type": "execute_result"
    }
   ],
   "source": [
    "tsne_features.shape"
   ]
  },
  {
   "cell_type": "code",
   "execution_count": 58,
   "id": "735e37c6",
   "metadata": {},
   "outputs": [
    {
     "data": {
      "image/png": "[encoded data removed]",
      "text/plain": [
       "<Figure size 432x288 with 1 Axes>"
      ]
     },
     "metadata": {
      "needs_background": "light"
     },
     "output_type": "display_data"
    }
   ],
   "source": [
    "# Select the 0th feature: xs\n",
    "xs = tsne_features[:,0]\n",
    "\n",
    "# Select the 1st feature: ys\n",
    "ys = tsne_features[:,1]\n",
    "\n",
    "# Scatter plot, coloring by variety_numbers\n",
    "plt.scatter(xs,ys)\n",
    "plt.title('A t-SNE representation of all 901 features')\n",
    "plt.show()"
   ]
  },
  {
   "cell_type": "markdown",
   "id": "c0818ebc",
   "metadata": {},
   "source": [
    "#### Note: \n",
    "- There are 3 distinct clusters visible which might correspond to the non-payer, payer and whales that we have seen earlier\n",
    "- There is no meaning that the axis in a t-SNE plot\n",
    "- The point above is just to explore and form an intuition of the underlying data"
   ]
  },
  {
   "cell_type": "markdown",
   "id": "2cb842e1",
   "metadata": {},
   "source": [
    "## Apply PCA to reduce dimenionality"
   ]
  },
  {
   "cell_type": "code",
   "execution_count": 59,
   "id": "eeb56231",
   "metadata": {},
   "outputs": [
    {
     "data": {
      "text/plain": [
       "PCA(n_components=0.9)"
      ]
     },
     "execution_count": 59,
     "metadata": {},
     "output_type": "execute_result"
    }
   ],
   "source": [
    "# Fit PCA capturing 90% variance\n",
    "from sklearn.decomposition import PCA\n",
    "pca = PCA(n_components=0.9)\n",
    "pca.fit(scaled_data)\n"
   ]
  },
  {
   "cell_type": "code",
   "execution_count": 60,
   "id": "7c549b8d",
   "metadata": {},
   "outputs": [
    {
     "data": {
      "text/plain": [
       "55"
      ]
     },
     "execution_count": 60,
     "metadata": {},
     "output_type": "execute_result"
    }
   ],
   "source": [
    "pca.n_components_"
   ]
  },
  {
   "cell_type": "markdown",
   "id": "716ae59a",
   "metadata": {},
   "source": [
    "#### 44 PCs are created capturing 90% information"
   ]
  },
  {
   "cell_type": "code",
   "execution_count": 61,
   "id": "e7a35c7e",
   "metadata": {},
   "outputs": [],
   "source": [
    "perc_variances = pca.explained_variance_[:]/sum(pca.explained_variance_[:])"
   ]
  },
  {
   "cell_type": "markdown",
   "id": "410247fb",
   "metadata": {},
   "source": [
    "\n",
    "#### Plot variances of PCs generated"
   ]
  },
  {
   "cell_type": "code",
   "execution_count": 62,
   "id": "33fadec1",
   "metadata": {},
   "outputs": [
    {
     "data": {
      "image/png": "[encoded data removed]",
      "text/plain": [
       "<Figure size 432x288 with 1 Axes>"
      ]
     },
     "metadata": {
      "needs_background": "light"
     },
     "output_type": "display_data"
    }
   ],
   "source": [
    "perc_variances=pca.explained_variance_[:]/sum(pca.explained_variance_[:])\n",
    "features = range(pca.n_components_)\n",
    "plt.bar(features[:], perc_variances)\n",
    "plt.xlabel('PCA feature')\n",
    "plt.ylabel('variance')\n",
    "plt.xticks()\n",
    "plt.title('Information captured by Principal Components')\n",
    "plt.show()"
   ]
  },
  {
   "cell_type": "markdown",
   "id": "26155f68",
   "metadata": {},
   "source": [
    "#### Note: Huge variances captured by 1st and followed by 2nd PC"
   ]
  },
  {
   "cell_type": "markdown",
   "id": "207351f7",
   "metadata": {},
   "source": [
    "#### Plot the cumulative sum of variances to identify the number of PCs to consider"
   ]
  },
  {
   "cell_type": "code",
   "execution_count": 63,
   "id": "1c7a90c9",
   "metadata": {},
   "outputs": [
    {
     "data": {
      "text/plain": [
       "Text(0.5, 1.0, 'Cumulative sum of variance across number of clusters')"
      ]
     },
     "execution_count": 63,
     "metadata": {},
     "output_type": "execute_result"
    },
    {
     "data": {
      "image/png": "[encoded data removed]",
      "text/plain": [
       "<Figure size 432x288 with 1 Axes>"
      ]
     },
     "metadata": {
      "needs_background": "light"
     },
     "output_type": "display_data"
    }
   ],
   "source": [
    "plt.plot(np.cumsum(perc_variances))\n",
    "plt.title('Cumulative sum of variance across number of clusters')"
   ]
  },
  {
   "cell_type": "markdown",
   "id": "1981f53d",
   "metadata": {},
   "source": [
    "#### Note: The above graph does not show early saturation indicating information gain across all 44 components we are selecting "
   ]
  },
  {
   "cell_type": "code",
   "execution_count": 64,
   "id": "ec5cfd26",
   "metadata": {},
   "outputs": [
    {
     "data": {
      "text/plain": [
       "(30000, 55)"
      ]
     },
     "execution_count": 64,
     "metadata": {},
     "output_type": "execute_result"
    }
   ],
   "source": [
    "pca_data=pca.transform(scaled_data)\n",
    "pca_data.shape"
   ]
  },
  {
   "cell_type": "markdown",
   "id": "eafbbfca",
   "metadata": {},
   "source": [
    "### K-means clustering"
   ]
  },
  {
   "cell_type": "code",
   "execution_count": 65,
   "id": "8369f1f6",
   "metadata": {},
   "outputs": [
    {
     "data": {
      "image/png": "[encoded data removed]",
      "text/plain": [
       "<Figure size 432x288 with 1 Axes>"
      ]
     },
     "metadata": {
      "needs_background": "light"
     },
     "output_type": "display_data"
    }
   ],
   "source": [
    "from sklearn.cluster import KMeans\n",
    "inertias = []\n",
    "\n",
    "# Creating 10 K-Mean models while varying the number of clusters (k)\n",
    "for k in range(1,20):\n",
    "    model = KMeans(n_clusters=k)\n",
    "    \n",
    "    # Fit model to samples\n",
    "    model.fit(pca_data)\n",
    "    \n",
    "    # Append the inertia to the list of inertias\n",
    "    inertias.append(model.inertia_)\n",
    "    \n",
    "plt.plot(range(1,20), inertias, '-p')\n",
    "plt.xlabel('number of clusters, k')\n",
    "plt.ylabel('inertia')\n",
    "plt.show()"
   ]
  },
  {
   "cell_type": "markdown",
   "id": "aff13eaf",
   "metadata": {},
   "source": [
    "#### Above plot shows knee at 3 clusters; zooming in further by looking at the plot from 2nd/3rd cluster on "
   ]
  },
  {
   "cell_type": "code",
   "execution_count": 66,
   "id": "15369875",
   "metadata": {},
   "outputs": [
    {
     "data": {
      "image/png": "[encoded data removed]",
      "text/plain": [
       "<Figure size 432x288 with 1 Axes>"
      ]
     },
     "metadata": {
      "needs_background": "light"
     },
     "output_type": "display_data"
    }
   ],
   "source": [
    "plt.plot(range(3,15), inertias[2:14], '-p')\n",
    "plt.xlabel('number of clusters, k')\n",
    "plt.ylabel('inertia')\n",
    "plt.show()"
   ]
  },
  {
   "cell_type": "markdown",
   "id": "b45196a9",
   "metadata": {},
   "source": [
    "#### Note:No clear elbow visible"
   ]
  },
  {
   "cell_type": "markdown",
   "id": "bea28cf1",
   "metadata": {},
   "source": [
    "### Create final segments with 3 clusters"
   ]
  },
  {
   "cell_type": "code",
   "execution_count": 68,
   "id": "772136e8",
   "metadata": {},
   "outputs": [
    {
     "data": {
      "image/png": "[encoded data removed]",
      "text/plain": [
       "<Figure size 432x288 with 1 Axes>"
      ]
     },
     "metadata": {
      "needs_background": "light"
     },
     "output_type": "display_data"
    }
   ],
   "source": [
    "pca_df=pd.DataFrame(pca_data)\n",
    "model = KMeans(n_clusters=3)\n",
    "model.fit(pca_df)\n",
    "\n",
    "labels = model.predict(pca_df)\n",
    "plt.scatter(pca_df[0], pca_df[1], c=labels)\n",
    "plt.show()"
   ]
  },
  {
   "cell_type": "code",
   "execution_count": 49,
   "id": "52265482",
   "metadata": {},
   "outputs": [],
   "source": [
    "kmeans_pca_df=pca_df\n",
    "kmeans_pca_df['segments']=labels"
   ]
  },
  {
   "cell_type": "code",
   "execution_count": 50,
   "id": "e09cc338",
   "metadata": {},
   "outputs": [
    {
     "data": {
      "image/png": "[encoded data removed]",
      "text/plain": [
       "<Figure size 432x288 with 1 Axes>"
      ]
     },
     "metadata": {
      "needs_background": "light"
     },
     "output_type": "display_data"
    },
    {
     "data": {
      "text/plain": [
       "(30000, 57)"
      ]
     },
     "execution_count": 50,
     "metadata": {},
     "output_type": "execute_result"
    }
   ],
   "source": [
    "def PCA_kmeans(data):\n",
    "    master_numpy = data.fillna(0).drop('acct_id',axis=1).to_numpy()\n",
    "    from sklearn.pipeline import make_pipeline\n",
    "    from sklearn.preprocessing import StandardScaler\n",
    "    from sklearn.decomposition import PCA\n",
    "    from sklearn.cluster import KMeans\n",
    "\n",
    "    scaler = StandardScaler()\n",
    "    scaled_data=scaler.fit_transform(master_numpy)\n",
    "\n",
    "    pca = PCA(n_components=0.9)\n",
    "    pca.fit(scaled_data)\n",
    "    pca_data=pca.transform(scaled_data)\n",
    "\n",
    "    kmeans = KMeans(n_clusters=4)\n",
    "    kmeans.fit(pca_data)\n",
    "    labels = model.predict(pca_data)\n",
    "\n",
    "    plt.scatter(pca_df[0], pca_df[1], c=labels)\n",
    "    plt.title('The acct_id is segmented into 4 clusters')\n",
    "    plt.show()\n",
    "\n",
    "    kmeans_pca_df=pd.DataFrame(pca_data)\n",
    "    kmeans_pca_df['segments']=labels\n",
    "    \n",
    "    return kmeans_pca_df\n",
    "\n",
    "PCA_kmeans(master_dtst).shape\n"
   ]
  },
  {
   "cell_type": "code",
   "execution_count": 35,
   "id": "655e338c",
   "metadata": {},
   "outputs": [
    {
     "data": {
      "text/plain": [
       "30000"
      ]
     },
     "execution_count": 35,
     "metadata": {},
     "output_type": "execute_result"
    }
   ],
   "source": [
    "len(labels)"
   ]
  },
  {
   "cell_type": "markdown",
   "id": "7596de10",
   "metadata": {},
   "source": [
    "#### Incomplete: Trying out another method to get PCA: \n",
    "- Using CSR matrix from scipy and Truncated SVD to carry out PCA since we have a sparse matrix"
   ]
  },
  {
   "cell_type": "code",
   "execution_count": 158,
   "id": "a0ca8d52",
   "metadata": {},
   "outputs": [],
   "source": [
    "import scipy as sp"
   ]
  },
  {
   "cell_type": "code",
   "execution_count": 159,
   "id": "09ec7016",
   "metadata": {},
   "outputs": [],
   "source": [
    "# Convert data to a numpy array\n",
    "master_csr = sp.sparse.csr_matrix(master_dtst.fillna(0).drop('acct_id',axis=1))"
   ]
  },
  {
   "cell_type": "code",
   "execution_count": null,
   "id": "5c9053f5",
   "metadata": {},
   "outputs": [],
   "source": [
    "from sklearn.decomposition import PCA, TruncatedSVD\n",
    "model_svd=TruncatedSVD(n_components=50)\n",
    "SVD_components=model_svd.fit_transform(master_csr)\n",
    "# model.transform()"
   ]
  },
  {
   "cell_type": "code",
   "execution_count": null,
   "id": "a3d17431",
   "metadata": {},
   "outputs": [],
   "source": [
    "model_svd.explained_variance_.sort()"
   ]
  },
  {
   "cell_type": "code",
   "execution_count": null,
   "id": "6e254bf6",
   "metadata": {},
   "outputs": [],
   "source": [
    "features = range(50)\n",
    "plt.bar(features[:], model_svd.explained_variance_[::-1][1:])\n",
    "plt.xlabel('SVD feature')\n",
    "plt.ylabel('variance')\n",
    "plt.xticks(features)\n",
    "plt.show()"
   ]
  }
 ],
 "metadata": {
  "kernelspec": {
   "display_name": "Python 3 (ipykernel)",
   "language": "python",
   "name": "python3"
  },
  "language_info": {
   "codemirror_mode": {
    "name": "ipython",
    "version": 3
   },
   "file_extension": ".py",
   "mimetype": "text/x-python",
   "name": "python",
   "nbconvert_exporter": "python",
   "pygments_lexer": "ipython3",
   "version": "3.9.7"
  }
 },
 "nbformat": 4,
 "nbformat_minor": 5
}
